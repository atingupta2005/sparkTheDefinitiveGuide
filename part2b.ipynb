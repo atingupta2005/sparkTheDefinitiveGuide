{
 "cells": [
  {
   "cell_type": "markdown",
   "metadata": {},
   "source": [
    "### grp"
   ]
  },
  {
   "cell_type": "markdown",
   "metadata": {},
   "source": [
    "# Spark: The Definitive Guide"
   ]
  },
  {
   "cell_type": "markdown",
   "metadata": {},
   "source": [
    "## PART 2: Structured APIs - DataFrames, SQL, and Datasets"
   ]
  },
  {
   "cell_type": "markdown",
   "metadata": {},
   "source": [
    "## dataPaths"
   ]
  },
  {
   "cell_type": "code",
   "execution_count": 1,
   "metadata": {
    "collapsed": true
   },
   "outputs": [],
   "source": [
    "flightDataJson2015 = '/Users/grp/sparkTheDefinitiveGuide/data/flight-data/json/2015-summary.json'\n",
    "flightDataJson = '/Users/grp/sparkTheDefinitiveGuide/data/flight-data/json/*-summary.json'\n",
    "retailData20101201 = '/Users/grp/sparkTheDefinitiveGuide/data/retail-data/by-day/2010-12-01.csv'\n",
    "retailDataAll = '/Users/grp/sparkTheDefinitiveGuide/data/retail-data/all/*.csv'\n",
    "flightDataCSV2010 = '/Users/grp/sparkTheDefinitiveGuide/data/flight-data/csv/2010-summary.csv'\n",
    "flightDataJson2010 = '/Users/grp/sparkTheDefinitiveGuide/data/flight-data/json/2010-summary.json'\n",
    "flightDataParquet2010 = '/Users/grp/sparkTheDefinitiveGuide/data/flight-data/parquet/2010-summary.parquet'\n",
    "flightDataORC2010 = '/Users/grp/sparkTheDefinitiveGuide/data/flight-data/orc/2010-summary.orc'\n",
    "sqliteJDBC = '/Users/grp/sparkTheDefinitiveGuide/data/flight-data/jdbc/my-sqlite.db'"
   ]
  },
  {
   "cell_type": "code",
   "execution_count": 2,
   "metadata": {
    "collapsed": true
   },
   "outputs": [],
   "source": [
    "spark.conf.set(\"spark.sql.shuffle.partitions\", 5)"
   ]
  },
  {
   "cell_type": "markdown",
   "metadata": {},
   "source": [
    "## _Chapter #9 - Data Sources_"
   ]
  },
  {
   "cell_type": "markdown",
   "metadata": {},
   "source": [
    "-  **6 \"Core\" Data Sources**:\n",
    "    -  CSV (parameters listed in table 9-3):\n",
    "        -  _does not support complex types (ex: array, nested data)_\n",
    "    -  JSON (parameters listed in table 9-4):\n",
    "        -  multiLine (allows for reading in non-line-delimited JSON files)\n",
    "    -  Parquet (parameters listed in table 9-4):\n",
    "        -  columnar compression for saving storage space and optimized select querying\n",
    "        -  default file format for Apache Spark\n",
    "        -  supports complex types (ex: array)\n",
    "        -  enforces own schema when storing data as schema is built into the file itself (so no inference needed)\n",
    "    -  ORC (no parameter options):\n",
    "        -  ORC is further optimized for Hive however works very well with Spark\n",
    "        -  optimized for large streaming reads and finds rows quickly\n",
    "        -  similar to parquet\n",
    "    -  JDBC/ODBC connections (parameters listed in table 9-6):\n",
    "        - JDBC read/write:\n",
    "            -  need JDBC driver for particular database on spark classpath\n",
    "            -  provide proper JAR for driver\n",
    "    -  TXT:\n",
    "        -  each line in file is a record in DF\n",
    "        -  writing to TXT requires source to have ONLY 1 string column or else write will fail   \n",
    "    <br>\n",
    "-  **Community-Created Data Sources**:\n",
    "    -  Cassandra / HBase / MongoDB / Redshift\n",
    "    -  XML / Avro\n",
    "    \n",
    "#### Structure for READING data: DataFrameReader.format(...).option(\"key\", \"value\").schema(...).load(...)\n",
    "\n",
    "-  **Reading Data** (spark.read):\n",
    "    -  format\n",
    "    -  schema\n",
    "    -  read mode:\n",
    "        -  _permissive_ (sets all fields to null when encountering a corrupted reocrd / places corrupted records in column (_corrupt_record)\n",
    "        -  _dropMalformed_ (drops rows containing malformed records)\n",
    "        -  _failFast_ (fails immediately when encountering malformed records)\n",
    "    -  options\n",
    "    \n",
    "#### Structure for WRITING data: DataFrameWriter.format(...).option(...).partitionBy(...).bucketBy(...).sortBy(...).save(...)\n",
    "\n",
    "-  **Writing Data** (dataFrame.write):\n",
    "    -  format\n",
    "    -  options\n",
    "    -  save mode:\n",
    "        -  _append_ (appends output files to the list of files that already exist at that location path)\n",
    "        -  _overwrite_ (completely overwrites files at location path)\n",
    "        -  _errorIfExists_ (shows an error and fails to write if files already exist at that specified location path)\n",
    "        -  _ignore_ (if files exist at the location path do nothing with current DF)"
   ]
  },
  {
   "cell_type": "markdown",
   "metadata": {},
   "source": [
    "### Advanced I/O Concepts:\n",
    "-  Spark Developers have the ability to control the parallelism of files written by controlling the partitions prior to writing:\n",
    "    -  bucketing\n",
    "    -  partitioning   \n",
    "\n",
    "### Splittable File Types and Compression:\n",
    "-  parquet w/ GZIP compression is recommended\n",
    "\n",
    "### Reading Data in Parallel:\n",
    "-  multiple executors cannot read from the same file at the same time however can read different files at the same time\n",
    "-  each file in a folder becomes a partition in a DF and will be read by available executors in parallel\n",
    "\n",
    "### Writing Data in Parallel:\n",
    "-  _number of files written (output) is dependent on the number of partitions the DF object has when you write out the data_\n",
    "-  by default, 1 file is written / partition of the data\n",
    "\n",
    "#### File Organization Approach (methods for controlling the data that is specifically written to each output file):\n",
    "#### 1. Partitioning \"Partition By\":\n",
    "-  encodes a column as a folder\n",
    "-  output files contain data based on partitionBy predicate\n",
    "\n",
    "#### 2. Bucketing:\n",
    "-  groups data by bucket ID\n",
    "-  helps with avoiding shuffles when joining or aggregating\n",
    "-  supported only for Spark managed tables\n",
    "\n",
    "### Writing Complex Types:\n",
    "-  the best file format often depends on the type of data being read and processed\n",
    "\n",
    "### Managing File Size:\n",
    "-  try to avoid \"lots of small files\" aka \"small file problem\" because it requires a lot of metadata to manage\n",
    "-  Spark does not work well with many small files or many large files\n",
    "-  \"maxRecordsPerFile\" helps will controlling the file size / # of records written to each file (ex: df.write.option(\"maxRecordsPerFile\", 5000))\n",
    "-  always be aware of the # of partitions at write time"
   ]
  },
  {
   "cell_type": "markdown",
   "metadata": {},
   "source": [
    "### _Chapter #9 Exercises (Data Sources)_"
   ]
  },
  {
   "cell_type": "markdown",
   "metadata": {
    "collapsed": true
   },
   "source": [
    "### _CSV Read Example_"
   ]
  },
  {
   "cell_type": "code",
   "execution_count": 228,
   "metadata": {
    "collapsed": true
   },
   "outputs": [],
   "source": [
    "from pyspark.sql.types import StructField, StructType, StringType, LongType"
   ]
  },
  {
   "cell_type": "code",
   "execution_count": 229,
   "metadata": {
    "collapsed": true
   },
   "outputs": [],
   "source": [
    "myManualSchema = StructType([\\\n",
    "    StructField(\"DEST_COUNTRY_NAME\", StringType(), True),\\\n",
    "    StructField(\"ORIGIN_COUNTRY_NAME\", StringType(), True),\\\n",
    "    StructField(\"count\", LongType(), False)])"
   ]
  },
  {
   "cell_type": "code",
   "execution_count": 230,
   "metadata": {
    "collapsed": true
   },
   "outputs": [],
   "source": [
    "csvFile = spark.read.format(\"csv\")\\\n",
    ".option(\"header\", \"true\")\\\n",
    ".option(\"mode\", \"FAILFAST\")\\\n",
    ".schema(myManualSchema)\\\n",
    ".load(flightDataCSV2010)"
   ]
  },
  {
   "cell_type": "code",
   "execution_count": 231,
   "metadata": {},
   "outputs": [
    {
     "name": "stdout",
     "output_type": "stream",
     "text": [
      "+-----------------+-------------------+-----+\n",
      "|DEST_COUNTRY_NAME|ORIGIN_COUNTRY_NAME|count|\n",
      "+-----------------+-------------------+-----+\n",
      "|    United States|            Romania|    1|\n",
      "|    United States|            Ireland|  264|\n",
      "|    United States|              India|   69|\n",
      "+-----------------+-------------------+-----+\n",
      "only showing top 3 rows\n",
      "\n"
     ]
    }
   ],
   "source": [
    "csvFile.show(3)"
   ]
  },
  {
   "cell_type": "markdown",
   "metadata": {},
   "source": [
    "### _CSV Write Example_"
   ]
  },
  {
   "cell_type": "code",
   "execution_count": 232,
   "metadata": {
    "collapsed": true
   },
   "outputs": [],
   "source": [
    "csvFile.write.format(\"csv\").mode(\"overwrite\").option(\"sep\", \"\\t\")\\\n",
    ".save(\"/Users/grp/sparkTheDefinitiveGuide/tmp/csvWrite.csv\")"
   ]
  },
  {
   "cell_type": "code",
   "execution_count": 233,
   "metadata": {},
   "outputs": [
    {
     "data": {
      "text/plain": [
       "1"
      ]
     },
     "execution_count": 233,
     "metadata": {},
     "output_type": "execute_result"
    }
   ],
   "source": [
    "# reflects # of files outputed to target save directory\n",
    "csvFile.rdd.getNumPartitions()"
   ]
  },
  {
   "cell_type": "code",
   "execution_count": 234,
   "metadata": {},
   "outputs": [
    {
     "name": "stdout",
     "output_type": "stream",
     "text": [
      "United States\tRomania\t1\r\n",
      "United States\tIreland\t264\r\n",
      "United States\tIndia\t69\r\n",
      "Egypt\tUnited States\t24\r\n",
      "Equatorial Guinea\tUnited States\t1\r\n",
      "United States\tSingapore\t25\r\n",
      "United States\tGrenada\t54\r\n",
      "Costa Rica\tUnited States\t477\r\n",
      "Senegal\tUnited States\t29\r\n",
      "United States\tMarshall Islands\t44\r\n"
     ]
    }
   ],
   "source": [
    "# 1 row per line tab delimited\n",
    "!head /Users/grp/sparkTheDefinitiveGuide/tmp/csvWrite.csv/*.csv"
   ]
  },
  {
   "cell_type": "markdown",
   "metadata": {},
   "source": [
    "### _JSON Read Example_"
   ]
  },
  {
   "cell_type": "code",
   "execution_count": 235,
   "metadata": {},
   "outputs": [
    {
     "name": "stdout",
     "output_type": "stream",
     "text": [
      "+-----------------+-------------------+-----+\n",
      "|DEST_COUNTRY_NAME|ORIGIN_COUNTRY_NAME|count|\n",
      "+-----------------+-------------------+-----+\n",
      "|    United States|            Romania|    1|\n",
      "|    United States|            Ireland|  264|\n",
      "|    United States|              India|   69|\n",
      "+-----------------+-------------------+-----+\n",
      "only showing top 3 rows\n",
      "\n"
     ]
    }
   ],
   "source": [
    "spark.read.format(\"json\").option(\"mode\", \"FAILFAST\")\\\n",
    ".option(\"inferSchema\", \"true\")\\\n",
    ".load(flightDataJson2010).show(3)"
   ]
  },
  {
   "cell_type": "markdown",
   "metadata": {},
   "source": [
    "### _JSON Write Example_"
   ]
  },
  {
   "cell_type": "code",
   "execution_count": 236,
   "metadata": {
    "collapsed": true
   },
   "outputs": [],
   "source": [
    "csvFile.write.format(\"json\").mode(\"overwrite\")\\\n",
    ".save(\"/Users/grp/sparkTheDefinitiveGuide/tmp/jsonWrite.json\")"
   ]
  },
  {
   "cell_type": "code",
   "execution_count": 237,
   "metadata": {},
   "outputs": [
    {
     "name": "stdout",
     "output_type": "stream",
     "text": [
      "{\"DEST_COUNTRY_NAME\":\"United States\",\"ORIGIN_COUNTRY_NAME\":\"Romania\",\"count\":1}\r\n",
      "{\"DEST_COUNTRY_NAME\":\"United States\",\"ORIGIN_COUNTRY_NAME\":\"Ireland\",\"count\":264}\r\n",
      "{\"DEST_COUNTRY_NAME\":\"United States\",\"ORIGIN_COUNTRY_NAME\":\"India\",\"count\":69}\r\n",
      "{\"DEST_COUNTRY_NAME\":\"Egypt\",\"ORIGIN_COUNTRY_NAME\":\"United States\",\"count\":24}\r\n",
      "{\"DEST_COUNTRY_NAME\":\"Equatorial Guinea\",\"ORIGIN_COUNTRY_NAME\":\"United States\",\"count\":1}\r\n",
      "{\"DEST_COUNTRY_NAME\":\"United States\",\"ORIGIN_COUNTRY_NAME\":\"Singapore\",\"count\":25}\r\n",
      "{\"DEST_COUNTRY_NAME\":\"United States\",\"ORIGIN_COUNTRY_NAME\":\"Grenada\",\"count\":54}\r\n",
      "{\"DEST_COUNTRY_NAME\":\"Costa Rica\",\"ORIGIN_COUNTRY_NAME\":\"United States\",\"count\":477}\r\n",
      "{\"DEST_COUNTRY_NAME\":\"Senegal\",\"ORIGIN_COUNTRY_NAME\":\"United States\",\"count\":29}\r\n",
      "{\"DEST_COUNTRY_NAME\":\"United States\",\"ORIGIN_COUNTRY_NAME\":\"Marshall Islands\",\"count\":44}\r\n"
     ]
    }
   ],
   "source": [
    "# 1 JSON object per line\n",
    "!head /Users/grp/sparkTheDefinitiveGuide/tmp/jsonWrite.json/*.json"
   ]
  },
  {
   "cell_type": "markdown",
   "metadata": {},
   "source": [
    "### _Parquet Read Example_"
   ]
  },
  {
   "cell_type": "code",
   "execution_count": 238,
   "metadata": {},
   "outputs": [
    {
     "name": "stdout",
     "output_type": "stream",
     "text": [
      "+-----------------+-------------------+-----+\n",
      "|DEST_COUNTRY_NAME|ORIGIN_COUNTRY_NAME|count|\n",
      "+-----------------+-------------------+-----+\n",
      "|    United States|            Romania|    1|\n",
      "|    United States|            Ireland|  264|\n",
      "|    United States|              India|   69|\n",
      "+-----------------+-------------------+-----+\n",
      "only showing top 3 rows\n",
      "\n"
     ]
    }
   ],
   "source": [
    "spark.read.format(\"parquet\")\\\n",
    ".load(flightDataParquet2010).show(3)"
   ]
  },
  {
   "cell_type": "markdown",
   "metadata": {},
   "source": [
    "### _Parquet Write Example_"
   ]
  },
  {
   "cell_type": "code",
   "execution_count": 239,
   "metadata": {
    "collapsed": true
   },
   "outputs": [],
   "source": [
    "csvFile.write.format(\"parquet\").mode(\"overwrite\")\\\n",
    ".save(\"/Users/grp/sparkTheDefinitiveGuide/tmp/parquetWrite.parquet\")"
   ]
  },
  {
   "cell_type": "code",
   "execution_count": 240,
   "metadata": {},
   "outputs": [
    {
     "name": "stdout",
     "output_type": "stream",
     "text": [
      "PAR1\u0015\u0004\u0015�\u001a\u0015�\u0015L\u0015�\u0001\u0015\u0004\u0000\u0000�\r",
      "h\r",
      "\u0000\u0000\u0000United States\u0005\u0000\u0000\u0000Egypt\u0011\u0001\t�quatorial Guinea\r\n",
      "\u0000\u0000\u0000Costa Rica\u0007\u0000\u0000\u0000Senegal\u0006\u0000\u0000\u0000Guyana\u0001A\f",
      "Malt\u0005\u001e",
      "�@Bolivia\b\u0000\u0000\u0000Anguilla\u0018\u0000\u0000\u0000Turks and Caicos Islands \u0000\u0000\u0000Saint Vincent \u0001$0the Grenadine\u0005�\u0010Italy\u0001U\u001c",
      "Pakistan\u0001�HIceland\u0010\u0000\u0000\u0000Marshall\u0011X\u0001�$Luxembourg\u00019 Honduras\u000b",
      "\u0001�\u001c",
      "he Baham\t\u000f(El Salvador\u0001�\f",
      "Samo\u0005�\u0014Kazakh\u0001n\u00015\u0018Switzer\u0001r\u0000\f",
      "!\u0007\u0001�$Maarten\t\u0000\u0000\u0001`\u0018g Kong\u0013\u0001a\u0018rinidad\u0005�\u0014Tobago!0\bLat-\u001c",
      "\u0014Slovak)(\u001c",
      "Suriname\u0001\"\u0014Mexico\u0001�\bEcu\u0001�\u0001�@Colombia\u0006\u0000\u0000\u0000Norwa%\r\n",
      "\f",
      "Thai\u0001�\u0001}\u001c",
      "Venezuel\u0005#\u0010Panam%�\u0018Morocco\u0001�\u0018Antigua\u0005�\u0014Barbud\u0005� Azerbaija\u0005�\u0018New Zea\u0001V\u0001�\u0014Liberi\u0005J\u0018Hungary\u0001�\u0014Sweden\u0001\r\n",
      "\u0014Israel\u0001�\u0018Ethiopi\u0005S$Martinique!�)� Barthelem\u0005�\u0001�\f",
      "ados\u0001d\u0018Germany!�\u0014Kyrgyz!o\u0001\u0019\u0004Ir%�\u0001^\u0014Malays)\u0000\u0010CypruE\u00138Qatar\u0004\u0000\u0000\u0000Fiji\u0015\u0000QH\f",
      "KittIj\u0010Nevis\u0001�\u0018Taiwan\u0005!�\f",
      "aiti\u0001\u0013\u0014Kuwait\u0001\r\n",
      "\u0018Canada\u001e",
      "\u0001H\u0010ederay\u0019, of Micrones)\u0006pJamaica\u0012\u0000\u0000\u0000Dominican Republic\u0001`\bJapI�\bFin!F\u0001\u0014\u0014Aruba\r",
      "\u0001`\u0010renchaX\u0000ai5XIndia\u0016\u0000\u0000\u0000British VirginQ�\u0001�\u0014Brazil!I\r",
      ">\f",
      "Poly\u0005�\u0004\u0014\u0000u�\u001c",
      "Arab Emi\u0001�\u0000sA\u000f SingaporeA�\u0010NetheE�%7\f",
      "Chin%�\u0018Denmark!B\f",
      "Peru\u00018DArgentina\u000e\u0000\u0000\u0000Cayma\u0015�\u0000\f",
      "!a(outh Africa\u0001�\u0010Spain\u0001�\u001d",
      "c\u0000 Ai\blle%�\u0014Bermud�\r",
      "\u001c",
      "Kiribati\u0005H\f",
      "audi\u0005�\u0000i\tj\u0010zech 1H!�\u0018Belgium\u0001�\u0014Afghanu�\u0014Curacae\"\u0018Georgia\u0001%\u0018Philipp�.\u0001?�<\u0004a\r\n",
      "\u0005�\u001c",
      "pe Verde\u0001\u0019\u0014Ukrainej\u0014Russia\u0001�\u001c",
      "Guatemal\u0005JI�\f",
      "Luci\u0005�\u0018ParaguaE�\u0014Turkey!\u001b\bUniA'\u0018Kingdom!B\bCub\u00050Q\u0017A�\u001c",
      "Portugal\u0001y\bBah\u0001z\u0001\u000b",
      "\u0018Vietnam%�\u0010elize\u0001�\bNic\tj\u0001\"\u0014Austrie�\f",
      "JordI�\u0010Palau\u00015\u0010Ugand\t�%�\f",
      "Kore\u0005,\u0010Angol%�\f",
      "Ghan\u0005� Guadeloup\u0005�\u0010Franc\u0005\r\n",
      "\u0004PoA�\u0001l\u0014Nigeri)\b\breeU�\f",
      "Chil\u0005�\u0005�\bali\u0005�\bUru!\u000e!�\f",
      "CookQ�\u0000\bA�\u001c",
      "ulgaria!\u0001\f",
      "\\onaire, Sint Eustatius, ��4Saba\u0006\u0000\u0000\u0000Greece\u0015\u0000\u0015�\u0003\u0015�\u0003,\u0015�\u0003\u0015\u0004\u0015\u0006\u0015\b\u001c",
      "\u0018\u0007Vietnam\u0018\u000b",
      "Afghanistan\u0016\u0000\u0000\u0000\u0000�\u0001�\u0003\u0000\u0000\u0000�\u0003\u0001\u0007A\u0000\u0000  \u0000\u0000\u0006\u0004@\u0001`8 \u0012\u0000�\u0002\u0000`\u0000\u001a�\u0007$\"\u0001L\u0000�\r\n",
      "�r�d\u0000�\r",
      "\u0007�\u0001\u0000\u0000\u0000�\u0007\u0000\u0000|\u0000�\u0010\u0000\u0000\u0000�\u0000�\u0011�T\u0002�N\u0000\u0014\u0000�\u0002\u0000\u0000*\u0000`\u0005`�\u0000\u0000\u0017\u0000��\u0001\u00001\u0000@\u0006\u0000\u0000\u0000\u0000�\f",
      "\u0000��l7\\N�\u0003�\u0000=\u001f\u0000�\u0003\u0000\u0000� @8\u0004\u0010\u0001E�\u0011�\u0004\u0000\u0000\u0000@R\t\u0000\u0000�̦\u0013\u0000xB�\u0000\u0000@:�V\u0001\u0000�\u0015p�\u0002\u0000Y�\u000b",
      "\u0000t�_0\u0000\u0000\b�\u0001�\u0001U\u0018�\u0001f�\u0019\u0000@\u0001�T\u0000\u0000H\u0003\u0000\u0000�\u001a�f�\u0001�7<.\u0007�逺\u001d",
      "\u0001v4w\u0000\u0000\u0000\u0000��\u0000=\u0000\u0000��\u0001\u0015\u0004\u0015�\u001b\u0015�\u0016L\u0015�\u0002\u0015\u0004\u0000\u0000�\r",
      "(\u0007\u0000\u0000\u0000Romania\u0001\u000b",
      "�NIreland\u0005\u0000\u0000\u0000India\r",
      "\u0000\u0000\u0000United States\t\u0000\u0000\u0000Singapore\u0007\u0000\u0000\u0000Grenada\u0010\u0000\u0000\u0000Marshall Islands\f",
      "\u0000\u0005,`t Maarten\u000b",
      "\u0000\u0000\u0000Afghanistan\u0006\u0001{8ussia\u001e",
      "\u0000\u0000\u0000Federa\u0019i4 of Micronesia\u0001;\u0014Nether\u0001�\u0000s\u0001�\u0018Senegal\u0001F\u0018Angola\b\u0001_\u0014nguill\u0005̨Ecuador\u0006\u0000\u0000\u0000Cyprus\u0016\u0000\u0000\u0000Bosnia and Herzegovina\u0001; Portugal\r\n",
      "\u00010 osta Rica\u0001�\u0018Guatema\tb\u001c",
      "Suriname\u0005'\u001c",
      "ape Verd%\r\n",
      "\u0014Jamaic\u0005�\u0014Malays)S<Morocco\u0005\u0000\u0000\u0000Palau\u0001\t\f",
      "Samo\u0005�\u0014Algeri\u0005f\u001c",
      "Venezuel\u0005\u0018\bFin\u0001�\u0001,\u0010Chile\u0001�\u0014Greece!\r\n"
     ]
    }
   ],
   "source": [
    "# 1 parquet file\n",
    "!head /Users/grp/sparkTheDefinitiveGuide/tmp/parquetWrite.parquet/*.parquet"
   ]
  },
  {
   "cell_type": "markdown",
   "metadata": {},
   "source": [
    "### _ORC Read Example_"
   ]
  },
  {
   "cell_type": "code",
   "execution_count": 241,
   "metadata": {},
   "outputs": [
    {
     "name": "stdout",
     "output_type": "stream",
     "text": [
      "+-----------------+-------------------+-----+\n",
      "|DEST_COUNTRY_NAME|ORIGIN_COUNTRY_NAME|count|\n",
      "+-----------------+-------------------+-----+\n",
      "|    United States|            Romania|    1|\n",
      "|    United States|            Ireland|  264|\n",
      "|    United States|              India|   69|\n",
      "+-----------------+-------------------+-----+\n",
      "only showing top 3 rows\n",
      "\n"
     ]
    }
   ],
   "source": [
    "spark.read.format(\"orc\")\\\n",
    ".load(flightDataORC2010).show(3)"
   ]
  },
  {
   "cell_type": "markdown",
   "metadata": {},
   "source": [
    "### _ORC Write Example_"
   ]
  },
  {
   "cell_type": "code",
   "execution_count": 242,
   "metadata": {
    "collapsed": true
   },
   "outputs": [],
   "source": [
    "csvFile.write.format(\"orc\").mode(\"overwrite\")\\\n",
    ".save(\"/Users/grp/sparkTheDefinitiveGuide/tmp/orcWrite.orc\")"
   ]
  },
  {
   "cell_type": "code",
   "execution_count": 243,
   "metadata": {},
   "outputs": [
    {
     "name": "stdout",
     "output_type": "stream",
     "text": [
      "ORC\u0013\u0000\u0000\r\n",
      "\u0007\u0012\u0005\b�\u0001P\u0000S\u0000\u0000\r\n",
      "'\r\n",
      "\u0003\u0000\u0000\u0000\u0012 \b�\u0001\"\u0019\r\n",
      "\u000b",
      "Afghanistan\u0012\u0007Vietnam\u0018�,P\u0000S\u0000\u0000\r\n",
      "'\r\n",
      "\u0003\u0000\u0000\u0000\u0012 \b�\u0001\"\u0019\r\n",
      "\u000b",
      "Afghanistan\u0012\u0007Vietnam\u0018�,P\u00005\u0000\u0000\r\n",
      "\u0018\r\n",
      "\u0003\u0000\u0000\u0000\u0012\u0011\b�\u0001\u0012\r\n"
     ]
    }
   ],
   "source": [
    "# 1 orc file\n",
    "!head /Users/grp/sparkTheDefinitiveGuide/tmp/orcWrite.orc/*.orc"
   ]
  },
  {
   "cell_type": "markdown",
   "metadata": {},
   "source": [
    "### _SQLite SQL Database Example_"
   ]
  },
  {
   "cell_type": "code",
   "execution_count": 244,
   "metadata": {},
   "outputs": [
    {
     "data": {
      "text/plain": [
       "'\\nrun via shell: \\npyspark --master local[8] --driver-class-path /Users/grp/sparkTheDefinitiveGuide/sqlite-jdbc-3.8.6.jar --jars /Users/grp/sparkTheDefinitiveGuide/sqlite-jdbc-3.8.6.jar\\n'"
      ]
     },
     "execution_count": 244,
     "metadata": {},
     "output_type": "execute_result"
    }
   ],
   "source": [
    "'''\n",
    "run via shell: \n",
    "pyspark \\\n",
    "--master local[8] \\\n",
    "--driver-class-path /Users/grp/sparkTheDefinitiveGuide/sqlite-jdbc-3.8.6.jar \\\n",
    "--jars /Users/grp/sparkTheDefinitiveGuide/sqlite-jdbc-3.8.6.jar\n",
    "'''"
   ]
  },
  {
   "cell_type": "code",
   "execution_count": 245,
   "metadata": {
    "collapsed": true
   },
   "outputs": [],
   "source": [
    "driver = \"org.sqlite.JDBC\"\n",
    "path = sqliteJDBC\n",
    "url = \"jdbc:sqlite:\" + path\n",
    "tablename = \"flight_info\""
   ]
  },
  {
   "cell_type": "code",
   "execution_count": 246,
   "metadata": {
    "collapsed": true,
    "scrolled": false
   },
   "outputs": [],
   "source": [
    "dbDataFrame = spark.read\\\n",
    ".format(\"jdbc\").option(\"url\", url).option(\"dbtable\", tablename).option(\"driver\",  driver).load()"
   ]
  },
  {
   "cell_type": "code",
   "execution_count": 247,
   "metadata": {},
   "outputs": [
    {
     "name": "stdout",
     "output_type": "stream",
     "text": [
      "root\n",
      " |-- DEST_COUNTRY_NAME: string (nullable = true)\n",
      " |-- ORIGIN_COUNTRY_NAME: string (nullable = true)\n",
      " |-- count: decimal(20,0) (nullable = true)\n",
      "\n"
     ]
    }
   ],
   "source": [
    "dbDataFrame.printSchema()"
   ]
  },
  {
   "cell_type": "code",
   "execution_count": 248,
   "metadata": {},
   "outputs": [
    {
     "name": "stdout",
     "output_type": "stream",
     "text": [
      "+--------------------+\n",
      "|   DEST_COUNTRY_NAME|\n",
      "+--------------------+\n",
      "|   Equatorial Guinea|\n",
      "|             Bolivia|\n",
      "|Turks and Caicos ...|\n",
      "|            Pakistan|\n",
      "|    Marshall Islands|\n",
      "+--------------------+\n",
      "only showing top 5 rows\n",
      "\n"
     ]
    }
   ],
   "source": [
    "dbDataFrame.select(\"DEST_COUNTRY_NAME\").distinct().show(5)"
   ]
  },
  {
   "cell_type": "markdown",
   "metadata": {},
   "source": [
    "### _Additional Options Example_"
   ]
  },
  {
   "cell_type": "code",
   "execution_count": 249,
   "metadata": {},
   "outputs": [
    {
     "data": {
      "text/plain": [
       "'\\npgDF = spark.read.format(\"jdbc\")  .option(\"driver\", \"org.postgresql.Driver\")  .option(\"url\", \"jdbc:postgresql://database_server\")  .option(\"dbtable\", \"schema.tablename\")  .option(\"user\", \"username\").option(\"password\", \"my-secret-password\").load()\\n'"
      ]
     },
     "execution_count": 249,
     "metadata": {},
     "output_type": "execute_result"
    }
   ],
   "source": [
    "'''\n",
    "pgDF = spark.read.format(\"jdbc\")\\\n",
    "  .option(\"driver\", \"org.postgresql.Driver\")\\\n",
    "  .option(\"url\", \"jdbc:postgresql://database_server\")\\\n",
    "  .option(\"dbtable\", \"schema.tablename\")\\\n",
    "  .option(\"user\", \"username\").option(\"password\", \"my-secret-password\").load()\n",
    "'''"
   ]
  },
  {
   "cell_type": "markdown",
   "metadata": {},
   "source": [
    "### _Query Pushdown  Example_"
   ]
  },
  {
   "cell_type": "code",
   "execution_count": 250,
   "metadata": {},
   "outputs": [
    {
     "name": "stdout",
     "output_type": "stream",
     "text": [
      "== Physical Plan ==\n",
      "*(2) HashAggregate(keys=[DEST_COUNTRY_NAME#8455], functions=[])\n",
      "+- Exchange hashpartitioning(DEST_COUNTRY_NAME#8455, 5)\n",
      "   +- *(1) HashAggregate(keys=[DEST_COUNTRY_NAME#8455], functions=[])\n",
      "      +- *(1) Scan JDBCRelation(flight_info) [numPartitions=1] [DEST_COUNTRY_NAME#8455] PushedFilters: [], ReadSchema: struct<DEST_COUNTRY_NAME:string>\n"
     ]
    }
   ],
   "source": [
    "dbDataFrame.select(\"DEST_COUNTRY_NAME\").distinct().explain()"
   ]
  },
  {
   "cell_type": "markdown",
   "metadata": {},
   "source": [
    "### _Query Pushdown Filter To DB Example_"
   ]
  },
  {
   "cell_type": "code",
   "execution_count": 251,
   "metadata": {},
   "outputs": [
    {
     "name": "stdout",
     "output_type": "stream",
     "text": [
      "== Physical Plan ==\n",
      "*(1) Scan JDBCRelation(flight_info) [numPartitions=1] [DEST_COUNTRY_NAME#8455,ORIGIN_COUNTRY_NAME#8456,count#8457] PushedFilters: [*In(DEST_COUNTRY_NAME, [Anguilla,Sweden])], ReadSchema: struct<DEST_COUNTRY_NAME:string,ORIGIN_COUNTRY_NAME:string,count:decimal(20,0)>\n"
     ]
    }
   ],
   "source": [
    "dbDataFrame.filter(\"DEST_COUNTRY_NAME in ('Anguilla', 'Sweden')\").explain()"
   ]
  },
  {
   "cell_type": "markdown",
   "metadata": {},
   "source": [
    "### _Specify SQL Query (Query Result of Query) Example_"
   ]
  },
  {
   "cell_type": "code",
   "execution_count": 252,
   "metadata": {
    "collapsed": true
   },
   "outputs": [],
   "source": [
    "pushdownQuery = \"\"\"(SELECT DISTINCT(DEST_COUNTRY_NAME) FROM flight_info) AS flight_info\"\"\"\n",
    "dbDataFrame = spark.read\\\n",
    ".format(\"jdbc\").option(\"url\", url).option(\"dbtable\", pushdownQuery).option(\"driver\",  driver).load()"
   ]
  },
  {
   "cell_type": "code",
   "execution_count": 253,
   "metadata": {},
   "outputs": [
    {
     "name": "stdout",
     "output_type": "stream",
     "text": [
      "== Physical Plan ==\n",
      "*(1) Scan JDBCRelation((SELECT DISTINCT(DEST_COUNTRY_NAME) FROM flight_info) AS flight_info) [numPartitions=1] [DEST_COUNTRY_NAME#8471] PushedFilters: [], ReadSchema: struct<DEST_COUNTRY_NAME:string>\n"
     ]
    }
   ],
   "source": [
    "dbDataFrame.explain()"
   ]
  },
  {
   "cell_type": "markdown",
   "metadata": {},
   "source": [
    "### _Parallel Reads From DB Example_"
   ]
  },
  {
   "cell_type": "code",
   "execution_count": 254,
   "metadata": {
    "collapsed": true
   },
   "outputs": [],
   "source": [
    "# numPartitions specifies max num of partitions to how much spark is reading and writing in parallel\n",
    "# partitions = level of parallelism\n",
    "dbDataFrame = spark.read.format(\"jdbc\")\\\n",
    ".option(\"url\", url).option(\"dbtable\", tablename).option(\"driver\",  driver).option(\"numPartitions\", 10).load()"
   ]
  },
  {
   "cell_type": "markdown",
   "metadata": {},
   "source": [
    "### _Parallel Predicate Pushdown To DB Example_"
   ]
  },
  {
   "cell_type": "code",
   "execution_count": 255,
   "metadata": {},
   "outputs": [
    {
     "name": "stdout",
     "output_type": "stream",
     "text": [
      "+-----------------+-------------------+-----+\n",
      "|DEST_COUNTRY_NAME|ORIGIN_COUNTRY_NAME|count|\n",
      "+-----------------+-------------------+-----+\n",
      "|           Sweden|      United States|   65|\n",
      "|    United States|             Sweden|   73|\n",
      "|         Anguilla|      United States|   21|\n",
      "|    United States|           Anguilla|   20|\n",
      "+-----------------+-------------------+-----+\n",
      "\n"
     ]
    },
    {
     "data": {
      "text/plain": [
       "2"
      ]
     },
     "execution_count": 255,
     "metadata": {},
     "output_type": "execute_result"
    }
   ],
   "source": [
    "props = {\"driver\":\"org.sqlite.JDBC\"}\n",
    "predicates = [\n",
    "  \"DEST_COUNTRY_NAME = 'Sweden' OR ORIGIN_COUNTRY_NAME = 'Sweden'\",\n",
    "  \"DEST_COUNTRY_NAME = 'Anguilla' OR ORIGIN_COUNTRY_NAME = 'Anguilla'\"]\n",
    "spark.read.jdbc(url, tablename, predicates=predicates, properties=props).show()\n",
    "spark.read.jdbc(url,tablename,predicates=predicates,properties=props)\\\n",
    "  .rdd.getNumPartitions() # 2"
   ]
  },
  {
   "cell_type": "markdown",
   "metadata": {},
   "source": [
    "### _Parallel Predicate Pushdown To DB w/ Duplicate Rows Example_"
   ]
  },
  {
   "cell_type": "code",
   "execution_count": 256,
   "metadata": {},
   "outputs": [
    {
     "data": {
      "text/plain": [
       "510"
      ]
     },
     "execution_count": 256,
     "metadata": {},
     "output_type": "execute_result"
    }
   ],
   "source": [
    "props = {\"driver\":\"org.sqlite.JDBC\"}\n",
    "predicates = [\n",
    "  \"DEST_COUNTRY_NAME != 'Sweden' OR ORIGIN_COUNTRY_NAME != 'Sweden'\",\n",
    "  \"DEST_COUNTRY_NAME != 'Anguilla' OR ORIGIN_COUNTRY_NAME != 'Anguilla'\"]\n",
    "spark.read.jdbc(url, tablename, predicates=predicates, properties=props).count()"
   ]
  },
  {
   "cell_type": "code",
   "execution_count": 257,
   "metadata": {},
   "outputs": [
    {
     "data": {
      "text/plain": [
       "2"
      ]
     },
     "execution_count": 257,
     "metadata": {},
     "output_type": "execute_result"
    }
   ],
   "source": [
    "spark.read.jdbc(url, tablename, predicates=predicates, properties=props).rdd.getNumPartitions() #2"
   ]
  },
  {
   "cell_type": "markdown",
   "metadata": {},
   "source": [
    "### _Sliding Window Partition Example_"
   ]
  },
  {
   "cell_type": "code",
   "execution_count": 258,
   "metadata": {},
   "outputs": [
    {
     "data": {
      "text/plain": [
       "255"
      ]
     },
     "execution_count": 258,
     "metadata": {},
     "output_type": "execute_result"
    }
   ],
   "source": [
    "# min and max partition\n",
    "colName = \"count\"\n",
    "lowerBound = 0\n",
    "upperBound = 348113\n",
    "numPartitions = 10\n",
    "\n",
    "spark.read.jdbc(url, tablename, column=colName, properties=props,\n",
    "                lowerBound=lowerBound, upperBound=upperBound,\n",
    "                numPartitions=numPartitions).count() # 255"
   ]
  },
  {
   "cell_type": "code",
   "execution_count": 259,
   "metadata": {},
   "outputs": [
    {
     "data": {
      "text/plain": [
       "10"
      ]
     },
     "execution_count": 259,
     "metadata": {},
     "output_type": "execute_result"
    }
   ],
   "source": [
    "spark.read.jdbc(url, tablename, column=colName, properties=props,\n",
    "                lowerBound=lowerBound, upperBound=upperBound,\n",
    "                numPartitions=numPartitions).rdd.getNumPartitions() #10"
   ]
  },
  {
   "cell_type": "markdown",
   "metadata": {},
   "source": [
    "### _Writing To SQL DB Example_"
   ]
  },
  {
   "cell_type": "code",
   "execution_count": 260,
   "metadata": {
    "collapsed": true
   },
   "outputs": [],
   "source": [
    "newPath = \"jdbc:sqlite://Users/grp/sparkTheDefinitiveGuide/tmp/sqlWrite.db\"\n",
    "csvFile.write.jdbc(newPath, tablename, mode=\"overwrite\", properties=props)"
   ]
  },
  {
   "cell_type": "code",
   "execution_count": 261,
   "metadata": {
    "scrolled": false
   },
   "outputs": [
    {
     "name": "stdout",
     "output_type": "stream",
     "text": [
      "SQLite format 3\u0000\u0004\u0000\u0001\u0001\u0000@  \u0000\u0000\u0000&\u0000\u0000\u0000\u0013\u0000\u0000\u0000\u0003\u0000\u0000\u0000\b\u0000\u0000\u0000\u0013\u0000\u0000\u0000\u0004\u0000\u0000\u0000\u0000\u0000\u0000\u0000\u0000\u0000\u0000\u0000\u0001\u0000\u0000\u0000\u0000\u0000\u0000\u0000\u0000\u0000\u0000\u0000\u0000\u0000\u0000\u0000\u0000\u0000\u0000\u0000\u0000\u0000\u0000\u0000\u0000\u0000\u0000\u0000\u0000\u0000\u0000\u0000\u0000\u0000\u0000\u0000&\u0000-�\u0006\r",
      "\u0000\u0000\u0000\u0001\u0003x\u0000\u0003x\u0000\u0000\u0000\u0000\u0000\u0000\u0000\u0000\u0000\u0000\u0000\u0000\u0000\u0000\u0000\u0000\u0000\u0000\u0000\u0000\u0000\u0000\u0000\u0000\u0000\u0000\u0000\u0000\u0000\u0000\u0000\u0000\u0000\u0000\u0000\u0000\u0000\u0000\u0000\u0000\u0000\u0000\u0000\u0000\u0000\u0000\u0000\u0000\u0000\u0000\u0000\u0000\u0000\u0000\u0000\u0000\u0000\u0000\u0000\u0000\u0000\u0000\u0000\u0000\u0000\u0000\u0000\u0000\u0000\u0000\u0000\u0000\u0000\u0000\u0000\u0000\u0000\u0000\u0000\u0000\u0000\u0000\u0000\u0000\u0000\u0000\u0000\u0000\u0000\u0000\u0000\u0000\u0000\u0000\u0000\u0000\u0000\u0000\u0000\u0000\u0000\u0000\u0000\u0000\u0000\u0000\u0000\u0000\u0000\u0000\u0000\u0000\u0000\u0000\u0000\u0000\u0000\u0000\u0000\u0000\u0000\u0000\u0000\u0000\u0000\u0000\u0000\u0000\u0000\u0000\u0000\u0000\u0000\u0000\u0000\u0000\u0000\u0000\u0000\u0000\u0000\u0000\u0000\u0000\u0000\u0000\u0000\u0000\u0000\u0000\u0000\u0000\u0000\u0000\u0000\u0000\u0000\u0000\u0000\u0000\u0000\u0000\u0000\u0000\u0000\u0000\u0000\u0000\u0000\u0000\u0000\u0000\u0000\u0000\u0000\u0000\u0000\u0000\u0000\u0000\u0000\u0000\u0000\u0000\u0000\u0000\u0000\u0000\u0000\u0000\u0000\u0000\u0000\u0000\u0000\u0000\u0000\u0000\u0000\u0000\u0000\u0000\u0000\u0000\u0000\u0000\u0000\u0000\u0000\u0000\u0000\u0000\u0000\u0000\u0000\u0000\u0000\u0000\u0000\u0000\u0000\u0000\u0000\u0000\u0000\u0000\u0000\u0000\u0000\u0000\u0000\u0000\u0000\u0000\u0000\u0000\u0000\u0000\u0000\u0000\u0000\u0000\u0000\u0000\u0000\u0000\u0000\u0000\u0000\u0000\u0000\u0000\u0000\u0000\u0000\u0000\u0000\u0000\u0000\u0000\u0000\u0000\u0000\u0000\u0000\u0000\u0000\u0000\u0000\u0000\u0000\u0000\u0000\u0000\u0000\u0000\u0000\u0000\u0000\u0000\u0000\u0000\u0000\u0000\u0000\u0000\u0000\u0000\u0000\u0000\u0000\u0000\u0000\u0000\u0000\u0000\u0000\u0000\u0000\u0000\u0000\u0000\u0000\u0000\u0000\u0000\u0000\u0000\u0000\u0000\u0000\u0000\u0000\u0000\u0000\u0000\u0000\u0000\u0000\u0000\u0000\u0000\u0000\u0000\u0000\u0000\u0000\u0000\u0000\u0000\u0000\u0000\u0000\u0000\u0000\u0000\u0000\u0000\u0000\u0000\u0000\u0000\u0000\u0000\u0000\u0000\u0000\u0000\u0000\u0000\u0000\u0000\u0000\u0000\u0000\u0000\u0000\u0000\u0000\u0000\u0000\u0000\u0000\u0000\u0000\u0000\u0000\u0000\u0000\u0000\u0000\u0000\u0000\u0000\u0000\u0000\u0000\u0000\u0000\u0000\u0000\u0000\u0000\u0000\u0000\u0000\u0000\u0000\u0000\u0000\u0000\u0000\u0000\u0000\u0000\u0000\u0000\u0000\u0000\u0000\u0000\u0000\u0000\u0000\u0000\u0000\u0000\u0000\u0000\u0000\u0000\u0000\u0000\u0000\u0000\u0000\u0000\u0000\u0000\u0000\u0000\u0000\u0000\u0000\u0000\u0000\u0000\u0000\u0000\u0000\u0000\u0000\u0000\u0000\u0000\u0000\u0000\u0000\u0000\u0000\u0000\u0000\u0000\u0000\u0000\u0000\u0000\u0000\u0000\u0000\u0000\u0000\u0000\u0000\u0000\u0000\u0000\u0000\u0000\u0000\u0000\u0000\u0000\u0000\u0000\u0000\u0000\u0000\u0000\u0000\u0000\u0000\u0000\u0000\u0000\u0000\u0000\u0000\u0000\u0000\u0000\u0000\u0000\u0000\u0000\u0000\u0000\u0000\u0000\u0000\u0000\u0000\u0000\u0000\u0000\u0000\u0000\u0000\u0000\u0000\u0000\u0000\u0000\u0000\u0000\u0000\u0000\u0000\u0000\u0000\u0000\u0000\u0000\u0000\u0000\u0000\u0000\u0000\u0000\u0000\u0000\u0000\u0000\u0000\u0000\u0000\u0000\u0000\u0000\u0000\u0000\u0000\u0000\u0000\u0000\u0000\u0000\u0000\u0000\u0000\u0000\u0000\u0000\u0000\u0000\u0000\u0000\u0000\u0000\u0000\u0000\u0000\u0000\u0000\u0000\u0000\u0000\u0000\u0000\u0000\u0000\u0000\u0000\u0000\u0000\u0000\u0000\u0000\u0000\u0000\u0000\u0000\u0000\u0000\u0000\u0000\u0000\u0000\u0000\u0000\u0000\u0000\u0000\u0000\u0000\u0000\u0000\u0000\u0000\u0000\u0000\u0000\u0000\u0000\u0000\u0000\u0000\u0000\u0000\u0000\u0000\u0000\u0000\u0000\u0000\u0000\u0000\u0000\u0000\u0000\u0000\u0000\u0000\u0000\u0000\u0000\u0000\u0000\u0000\u0000\u0000\u0000\u0000\u0000\u0000\u0000\u0000\u0000\u0000\u0000\u0000\u0000\u0000\u0000\u0000\u0000\u0000\u0000\u0000\u0000\u0000\u0000\u0000\u0000\u0000\u0000\u0000\u0000\u0000\u0000\u0000\u0000\u0000\u0000\u0000\u0000\u0000\u0000\u0000\u0000\u0000\u0000\u0000\u0000\u0000\u0000\u0000\u0000\u0000\u0000\u0000\u0000\u0000\u0000\u0000\u0000\u0000\u0000\u0000\u0000\u0000\u0000\u0000\u0000\u0000\u0000\u0000\u0000\u0000\u0000\u0000\u0000\u0000\u0000\u0000\u0000\u0000\u0000\u0000\u0000\u0000\u0000\u0000\u0000\u0000\u0000\u0000\u0000\u0000\u0000\u0000\u0000\u0000\u0000\u0000\u0000\u0000\u0000\u0000\u0000\u0000\u0000\u0000\u0000\u0000\u0000\u0000\u0000\u0000\u0000\u0000\u0000\u0000\u0000\u0000\u0000\u0000\u0000\u0000\u0000\u0000\u0000\u0000\u0000\u0000\u0000\u0000\u0000\u0000\u0000\u0000\u0000\u0000\u0000\u0000\u0000\u0000\u0000\u0000\u0000\u0000\u0000\u0000\u0000\u0000\u0000\u0000\u0000\u0000\u0000\u0000\u0000\u0000\u0000\u0000\u0000\u0000\u0000�\u0005\u0001\u0007\u0017##\u0001�Qtableflight_infoflight_info\u0002CREATE TABLE flight_info (\"DEST_COUNTRY_NAME\" TEXT , \"ORIGIN_COUNTRY_NAME\" TEXT , \"count\" BIGINT )\u0005\u0000\u0000\u0000\b\u0003�\u0000\u0000\u0000\u0000\f",
      "\u0003�\u0003�\u0003�\u0003�\u0003�\u0003�\u0003�\u0003�\u0002�\u0002�\u0002�\u0002q\u0002U\u0002(\u0002\t\u0001�\u0001�\u0001�\u0001o\u0001S\u00013\u0001\u0018\u0000�\u0000�\u0000�\u0000�\u0000y\u0000^\u0000\u0000\u0000\u0000\u0000\u0000\u0000\u0000\u0000\u0000\u0000\u0000\u0000\u0000\u0000\u0000\u0000\u0000\u0000\u0000\u0000\u0000\u0000\u0000\u0000\u0000\u0019\u001e",
      "\u0004'\u001b\u0001United StatesSenegal.\u001e",
      "\u001d",
      "\u0004#'\u0002El SalvadorUnited States\u0002\u0007\u001e",
      "\u001c",
      "\u0004#'\u0002The BahamasUnited States\u0003�\u001b\u001b\u0004\u001d",
      "'\u0002HondurasUnited States\u0001�\u001c",
      "\u001a\u0004!'\u0001LuxembourgUnited States[\"\u0019\u0004-'\u0001Marshall IslandsUnited StatesM\u0019\u0018\u0004\u001b'\u0001IcelandUnited Statesv\u001e",
      "\u0017\u0004'#\u0002United StatesNetherlands\u0002:\u001a\u0016\u0004\u001d",
      "'\u0001PakistanUnited States\t0\u0015\u0004'I\u0001United StatesFederated States of Micronesia0\u0019\u0014\u0004'\u0019\u0002United StatesRussia\u0000�\u0018\u0013\u0004\u0017'\u0002ItalyUnited States\u0001�1\u0012\u0004M'\tSaint Vincent and the GrenadinesUnited States\u001d",
      "\u0011\u0004'#\u0001United StatesAfghanistan\u0002+\u0010\u0004='\u0002Turks and Caicos IslandsUnited States\u0000�\u001a\u000f\u0004\u001d",
      "'\u0001AnguillaUnited States\u0015\u0019\u000e\u0004\u001b'\u0001BoliviaUnited States.\u0016\r",
      "\u0004\u0017'\tMaltaUnited States\u001e",
      "\f",
      "\u0004'%\u0001United StatesSint Maarten5\u0018\u000b",
      "\u0004\u0019'\u0001GuyanaUnited States\u0011\"\r\n",
      "\u0004'-\u0001United StatesMarshall Islands,\u0019\t\u0004\u001b'\u0001SenegalUnited States\u001d",
      "\u001d",
      "\b\u0004!'\u0002Costa RicaUnited States\u0001�\u0019\u0007\u0004'\u001b\u0001United StatesGrenada6\u001b\u0006\u0004'\u001f\u0001United StatesSingapore\u0019\"\u0005\u0004/'\tEquatorial GuineaUnited States\u0017\u0004\u0004\u0017'\u0001EgyptUnited States\u0018\u0017\u0003\u0004'\u0017\u0001United StatesIndiaE\u001a\u0002\u0004'\u001b\u0002Unit\u0000\u0000\u0000\r",
      "�z\u0000\u0000\u0000\u000e�Z\u0000\u0000\u0000\u000f�:\u0000\u0000\u0000\u0010�\u001c",
      "\u0000\u0000\u0000\u0011~\u0000\u0000\u0000\u0012_\u0000\u0000\u0000\u0013?\u0000\u0000\u0000\u0004\u001e",
      "\u0000\u0000\u0000\u0000\u0000\u0000\u0000\u0007\u0000\u0000\u0000\u000b",
      "\u0000\u0000\u0000\u0005\u0000\u0000\u0000\u0006\u0000\u0000\u0000\u0007\u0000\u0000\u0000\b\u0000\u0000\u0000\t\u0000\u0000\u0000\r\n",
      "\u0000\u0000\u0000\u000b",
      "\u0000\u0000\u0000\f",
      "\u0000\u0000\u0000\r",
      "\u0000\u0000\u0000\u000e\u0000\u0000\u0000\u000f\u0000\u0000\u0000\u0010\u0000\u0000\u0000\u0011\u0000\u0000\u0000\u0012\u0000\u0000\u0000\u0004\u0000\u0000\u0000\u0002\u0000\u0000\u0000\u0000\u0000\u0000\u0000\u0000\u0000\u0000\u0000\u0000\u0000\u0000\u0000\u0000\u0000\u0000\u0019\u001e",
      "\u0004'\u001b\u0001United StatesSenegal.\u001e",
      "\u001d",
      "\u0004#'\u0002El SalvadorUnited States\u0002\u0007\u001e",
      "\u001c",
      "\u0004#'\u0002The BahamasUnited States\u0003�\u001b\u001b\u0004\u001d",
      "'\u0002HondurasUnited States\u0001�\u001c",
      "\u001a\u0004!'\u0001LuxembourgUnited States[\"\u0019\u0004-'\u0001Marshall IslandsUnited StatesM\u0019\u0018\u0004\u001b'\u0001IcelandUnited Statesv\u001e",
      "\u0017\u0004'#\u0002United StatesNetherlands\u0002:\u001a\u0016\u0004\u001d",
      "'\u0001PakistanUnited States\t0\u0015\u0004'I\u0001United StatesFederated States of Micronesia0\u0019\u0014\u0004'\u0019\u0002United StatesRussia\u0000�\u0018\u0013\u0004\u0017'\u0002ItalyUnited States\u0001�1\u0012\u0004M'\tSaint Vincent and the GrenadinesUnited States\u001d",
      "\u0011\u0004'#\u0001United StatesAfghanistan\u0002+\u0010\u0004='\u0002Turks and Caicos IslandsUnited States\u0000�\u001a\u000f\u0004\u001d",
      "'\u0001AnguillaUnited States\u0015\u0019\u000e\u0004\u001b'\u0001BoliviaUnited States.\u0016\r",
      "\u0004\u0017'\tMaltaUnited States\u001e",
      "\f",
      "\u0004'%\u0001United StatesSint Maarten5\u0018\u000b",
      "\u0004\u0019'\u0001GuyanaUnited States\u0011\"\r\n",
      "\u0004'-\u0001United StatesMarshall Islands,\u0019\t\u0004\u001b'\u0001SenegalUnited States\u001d",
      "\u001d",
      "\b\u0004!'\u0002Costa RicaUnited States\u0001�\u0019\u0007\u0004'\u001b\u0001United StatesGrenada6\u001b\u0006\u0004'\u001f\u0001United StatesSingapore\u0019\"\u0005\u0004/'\tEquatorial GuineaUnited States\u0017\u0004\u0004\u0017'\u0001EgyptUnited States\u0018\u0017\u0003\u0004'\u0017\u0001United StatesIndiaE\u001a\u0002\u0004'\u001b\u0002United StatesIreland\u0001\b\u0018\u0001\u0004'\u001b\tUnited StatesRomania\r",
      "\u0000\u0000\u0000\u001e",
      "\u0000^\u0000\u0003�\u0003�\u0003�\u0003�\u0003t\u0003W\u0003<\u0003\u001d",
      "\u0003\u0002\u0002�\u0002�\u0002�\u0002�\u0002q\u0002U\u0002(\u0002\t\u0001�\u0001�\u0001�\u0001o\u0001S\u00013\u0001\u0018\u0000�\u0000�\u0000�\u0000�\u0000y\u0000^\u0000\u0000\u0000\u0000\u0000\u0000\u0000\u0000\u0000\u0000\u0000\u0000\u0000\u0000\u0000\u0000\u0000\u0000\u0000\u0000\u0000\u0000\u0000\u0000\u0000\u0000\u0019\u001e",
      "\u0004'\u001b\u0001United StatesSenegal.\u001e",
      "\u001d",
      "\u0004#'\u0002El SalvadorUnited States\u0002\u0007\u001e",
      "\u001c",
      "\u0004#'\u0002The BahamasUnited States\u0003�\u001b\u001b\u0004\u001d",
      "'\u0002HondurasUnited States\u0001�\u001c",
      "\u001a\u0004!'\u0001LuxembourgUnited States[\"\u0019\u0004-'\u0001Marshall IslandsUnited StatesM\u0019\u0018\u0004\u001b'\u0001IcelandUnited Statesv\u001e",
      "\u0017\u0004'#\u0002United StatesNetherlands\u0002:\u001a\u0016\u0004\u001d",
      "'\u0001PakistanUnited States\t0\u0015\u0004'I\u0001United StatesFederated States of Micronesia0\u0019\u0014\u0004'\u0019\u0002United StatesRussia\u0000�\u0018\u0013\u0004\u0017'\u0002ItalyUnited States\u0001�1\u0012\u0004M'\tSaint Vincent and the GrenadinesUnited States\u001d",
      "\u0011\u0004'#\u0001United StatesAfghanistan\u0002+\u0010\u0004='\u0002Turks and Caicos IslandsUnited States\u0000�\u001a\u000f\u0004\u001d",
      "'\u0001AnguillaUnited States\u0015\u0019\u000e\u0004\u001b'\u0001BoliviaUnited States.\u0016\r",
      "\u0004\u0017'\tMaltaUnited States\u001e",
      "\f",
      "\u0004'%\u0001United StatesSint Maarten5\u0018\u000b",
      "\u0004\u0019'\u0001GuyanaUnited States\u0011\"\r\n",
      "\u0004'-\u0001United StatesMarshall Islands,\u0019\t\u0004\u001b'\u0001SenegalUnited States\u001d",
      "\u001d",
      "\b\u0004!'\u0002Costa RicaUnited States\u0001�\u0019\u0007\u0004'\u001b\u0001United StatesGrenada6\u001b\u0006\u0004'\u001f\u0001United StatesSingapore\u0019\"\u0005\u0004/'\tEquatorial GuineaUnited States\u0017\u0004\u0004\u0017'\u0001EgyptUnited States\u0018\u0017\u0003\u0004'\u0017\u0001United StatesIndiaE\u001a\u0002\u0004'\u001b\u0002United StatesIreland\u0001\b\u0018\u0001\u0004'\u001b\tUnited StatesRomania\r",
      "\u0000\u0000\u0000 \u0000Y\u0000\u0003�\u0003�\u0003�\u0003�\u0003o\u0003R\u00032\u0003\u0013\u0002�\u0002�\u0002�\u0002�\u0002�\u0002r\u0002X\u00021\u0002\u0018\u0001�\u0001�\u0001�\u0001�\u0001�\u0001i\u0001E\u0001!\u0001\u0007\u0000�\u0000�\u0000�\u0000�\u0000y\u0000Y\u0000\u0000\u0000\u0000\u0000\u0000\u0000\u0000\u0000\u0000\u0000\u0000\u0000\u0000\u0000\u0000\u0000\u001e",
      "_\u0004'#\u0002United StatesSouth Korea\u0002m\u001c",
      "^\u0004!'\u0001KyrgyzstanUnited States\u0002\u001a]\u0004\u001b'\u0002GermanyUnited States\u0005p\u001b\\\u0004'!\tUnited StatesAzerbaijan\u0018[\u0004'\u001b\tUnited StatesEstonia\u001bZ\u0004\u001d",
      "'\u0002BarbadosUnited States\u0000�\u0018Y\u0004'\u0019\u0001United StatesTurkeyW\"X\u0004'-\u0001United StatesSaint Barthelemy\u001d",
      "\"W\u0004-'\u0001Saint BarthelemyUnited States\u001c",
      "\u001c",
      "V\u0004!'\u0001MartiniqueUnited States\u0017\u0018U\u0004'\u0019\u0001United StatesPoland=\u001aT\u0004\u001d",
      "'\u0001EthiopiaUnited States\f",
      "\u001c",
      "S\u0004'!\u0001United StatesLuxembourgZ!R\u0004''\u0003United StatesUnited States\u0005O�\u0018Q\u0004\u0019'\u0001IsraelUnited Statesu\u0017P\u0004'\u0017\u0001United StatesEgypt\u0019%O\u0004'1\u0002United StatesDominican Republic\u0004~\u0018N\u0004'\u0019\u0001United StatesKuwait\u0019\u0018M\u0004\u0019'\u0001SwedenUnited StatesA\u0018L\u0004'\u001b\tUnited StatesVietnam\u0018K\u0004'\u0017\u0002United StatesChina\u0001�\u0019J\u0004\u001b'\u0001HungaryUnited States\u000e\u001c",
      "I\u0004'\u001f\u0002United StatesHong Kong\u0001%\u0018H\u0004\u001b'\tLiberiaUnited States\u001d",
      "G\u0004#'\u0001New ZealandUnited StatesV\u001e",
      "F\u0004'#\u0002United StatesThe Bahamas\u0003�\u001bE\u0004!'\tAzerbaijanUnited States%D\u00043'\u0001Antigua and BarbudaUnited States{\u0018C\u0004'\u0019\u0001United StatesGreece=\u0019B\u0004\u001b'\u0001MoroccoUnited States\u0010\u0018A\u0004'\u0017\u0002United StatesChile\u0000�\u0019@\u0004'\u001b\u0001United StatesFinland\u0014\r",
      "\u0000\u0000\u0000\u001f\u0000Q\u0000\u0003�\u0003�\u0003�\u0003�\u0003u\u0003Z\u0003>\u0003$\u0003\b\u0002�\u0002�\u0002�\u0002|\u0002_\u0002F\u0002.\u0002\u0005\u0001�\u0001�\u0001�\u0001�\u0001i\u0001O\u00013\u0001\u001a\u0000�\u0000�\u0000�\u0000�\u0000l\u0000Q\u0000\u0000\u0000\u0000\u0000\u0000\u0000\u0000\u0000\u0000\u0000\u0019~\u0004'\u001b\u0001United StatesUkraine\u0011\u0019}\u0004\u001b'\u0001FinlandUnited States\u0018\u001c",
      "|\u0004'!\u0001United StatesGuadeloupe!2{\u0004'M\u0001United StatesSaint Vincent and the Grenadines\u0010\u0018z\u0004\u0017'\u0002JapanUnited States\u0005g%y\u00041'\u0002Dominican RepublicUnited States\u0004U\u0017x\u0004'\u0017\u0001United StatesMalta\u0002\u001aw\u0004\u001b'\u0002JamaicaUnited States\u0002�\u0018v\u0004'\u001b\tUnited StatesLiberia0u\u0004I'\u0001Federated States of MicronesiaUnited States.\u0019t\u0004\u0019'\u0002CanadaUnited States O\u0018s\u0004\u0019'\u0001KuwaitUnited States\u001a\u0018r\u0004\u0017'\u0002HaitiUnited States\u0000�\u0019q\u0004\u0019'\u0002TaiwanUnited States\u0001\u0013'p\u00047'\u0001Saint Kitts and NevisUnited Statesq\u0016o\u0004\u0015'\u0001FijiUnited States5\u0017n\u0004\u0017'\u0001QatarUnited States)\u001bm\u0004'\u001d",
      "\u0002United StatesHonduras\u0001�\u001al\u0004'\u001d",
      "\u0001United StatesPakistan\u000f\u0018k\u0004\u0019'\u0001CyprusUnited States\u0002+j\u0004'=\u0002United StatesTurks and Caicos Islands\u0000�'i\u0004'5\u0002United StatesNetherlands Antilles\u0001!\u001ah\u0004'\u001d",
      "\u0001United StatesThailand\r",
      "\u0018g\u0004'\u0017\u0002United StatesAruba\u0001]\u001af\u0004'\u001d",
      "\u0001United StatesEthiopia\f",
      "\u0019e\u0004'\u0019\u0002United StatesPanama\u0001k\u0019d\u0004\u001d",
      "'\tMalaysiaUnited States\u0017c\u0004'\u0019\tUnited StatesSerbia\u0019b\u0004'\u001b\u0001United StatesHungary\u000f\u001aa\u0004\u001b'\u0002IrelandUnited States\u0000�\u001e",
      "`\u0004'#\u0002United StatesEl Salvador\u0001�\r",
      "\u0000\u0000\u0000\u001e",
      "\u0000`\u0000\u0003�\u0003�\u0003�\u0003�\u0003p\u0003V\u0003+\u0003\u000e\u0002�\u0002�\u0002�\u0002�\u0002e\u0002I\u0002(\u0002\r",
      "\u0001�\u0001�\u0001�\u0001�\u0001s\u0001W\u00017\u0001\u0018\u0000�\u0000�\u0000�\u0000�\u0000}\u0000`\u0000\u0000\u0000\u0000\u0000\u0000\u0000\u0000\u0000\u0000\u0000\u0000\u0000\u0000\u0000\u0000\u0000\u0000\u0000\u0000\u0000\u0000\u0000\u0000\u0000\u0000\u0000\u0000\u001a�\u001c",
      "\u0004'\u001b\u0002United StatesIceland\u0000�\u001e",
      "�\u001b\u0004%'\u0001South AfricaUnited States\u0019!�\u001a\u0004)'\u0002Cayman IslandsUnited States\u0000�\u001c",
      "�\u0019\u0004\u001f'\u0002ArgentinaUnited States\u0000�\u0017�\u0018\u0004\u0015'\u0002PeruUnited States\u0000�\u001a�\u0017\u0004'\u001b\u0002United StatesBelgium\u0001c\u001c",
      "�\u0016\u0004'\u001f\u0002United StatesNicaragua\u0000�\u001d",
      "�\u0015\u0004'#\u0001United StatesPhilippinest\u0019�\u0014\u0004\u001b'\u0001DenmarkUnited Statesb\u0018�\u0013\u0004\u0017'\u0002ChinaUnited States\u0001�\u001a�\u0012\u0004'\u001d",
      "\u0001United StatesBulgaria\u0002'�\u0011\u0004'5\u0002United StatesUnited Arab Emirates\u0000�\u001c",
      "�\u0010\u0004'!\u0001United StatesMartinique\u0014\u0016�\u000f\u0004'\u0017\tUnited StatesGabon\u0018�\u000e\u0004'\u0019\u0001United StatesSwedenI\u001e",
      "�\r",
      "\u0004#'\u0002NetherlandsUnited States\u0002J\u0019�\f",
      "\u0004'\u0019\u0002United StatesMexico\u0018L\u001b�\u000b",
      "\u0004\u001f'\u0001SingaporeUnited States\u0019'�\r\n",
      "\u00045'\u0002United Arab EmiratesUnited States\u0000�\"�\t\u0004-'\u0001French PolynesiaUnited States&\u001d",
      "�\b\u0004'#\u0001United StatesNew ZealandG\u0019�\u0007\u0004\u0019'\u0002BrazilUnited States\u0003�\u001a�\u0006\u0004'\u001b\u0002United StatesGermany\u0005~(�\u0005\u00049'\u0001British Virgin IslandsUnited States1\u0017�\u0004\u0004\u0017'\u0001IndiaUnited StatesB\u001a�\u0003\u0004'\u001d",
      "\u0001United StatesKiribati\u0012\u001f�\u0002\u0004''\u0001French GuianaUnited States\u0004\u0018�\u0001\u0004\u0017'\u0002ArubaUnited States\u0001g\u0018�\u0000\u0004'\u0019\u0001United StatesNorway$\u0019\u0004'\u0019\u0002United StatesFrance\u0003\b\r",
      "\u0000\u0000\u0000\u001e",
      "\u0000N\u0000\u0003�\u0003�\u0003�\u0003\u0003c\u0003G\u0003\u0011\u0002�\u0002�\u0002�\u0002�\u0002x\u0002]\u0002=\u0002\u001d",
      "\u0001�\u0001�\u0001�\u0001�\u0001�\u0001b\u0001F\u0001'\u0001\u000b",
      "\u0000�\u0000�\u0000�\u0000�\u0000k\u0000N\u0000\u0000\u0000\u0000\u0000\u0000\u0000\u0000\u0000\u0000\u001a�:\u0004\u001d",
      "'\u0001ParaguayUnited StatesZ\u001d",
      "�9\u0004#'\u0001Saint LuciaUnited Statest\u001c",
      "�8\u0004\u001f'\u0002GuatemalaUnited States\u0001�\u0019�7\u0004\u0019'\u0002RussiaUnited States\u0000�\u001e",
      "�6\u0004'%\u0001United StatesSaudi Arabia6!�5\u0004'-\tUnited StatesPapua New Guinea\u0019�4\u0004\u001b'\u0001UkraineUnited States\u0013\u001c",
      "�3\u0004!'\u0001Cape VerdeUnited States\u0012\u0019�2\u0004\u001b'\u0001GrenadaUnited StatesA\u001e",
      "�1\u0004#'\u0002PhilippinesUnited States\u0000�\u0019�0\u0004'\u001b\u0001United StatesDenmarkk\u0018�/\u0004'\u0019\u0001United StatesGuyana\u0014\u0019�.\u0004\u001b'\u0001GeorgiaUnited States\u0002\u0019�-\u0004\u001b'\u0001CuracaoUnited States\u0014(�,\u0004'9\u0001United StatesBritish Virgin Islands/\u001d",
      "�+\u0004#'\u0001AfghanistanUnited States\u000b",
      "\u001d",
      "�*\u0004'#\u0001United StatesSaint Luciay\u0018�)\u0004'\u001b\tUnited StatesBahrain\u0018�(\u0004'\u0019\u0001United StatesIsraelz\u001a�'\u0004\u001b'\u0002BelgiumUnited States\u0001� �&\u0004)'\u0001Czech RepublicUnited States\u0015\u001e",
      "�%\u0004%'\u0001Saudi ArabiaUnited States*\u001a�$\u0004\u001d",
      "'\u0001KiribatiUnited States\u00113�#\u0004'O\u0001United StatesBonaire, Sint Eustatius, and Saba\u0010\u0019�\"\u0004'\u001b\u0001United StatesNigeria\u0012\u0019�!\u0004'\u001b\u0001United StatesAustria\"\u001a� \u0004\u001b'\u0002BermudaUnited States\u0000�'�\u001f\u00045'\u0002Netherlands AntillesUnited States\u0001\u001e",
      "\u0018�\u001e",
      "\u0004\u0017'\u0002SpainUnited States\u0001�\u001c",
      "�\u001d",
      "\u0004'\u001f\u0002United StatesArgentina\u0000�\r",
      "\u0000\u0000\u0000 \u0000K\u0000\u0003�\u0003�\u0003�\u0003�\u0003h\u0003J\u0003/\u0003\u0015\u0002�\u0002�\u0002�\u0002�\u0002�\u0002h\u0002L\u00022\u0002\u0017\u0001�\u0001�\u0001�\u0001�\u0001�\u0001m\u0001Q\u0001,\u0001\u0004\u0000�\u0000�\u0000�\u0000�\u0000j\u0000K\u0000\u0000\u0000\u001c",
      "�Z\u0004'\u001f\u0002United StatesAustralia\u0000� �Y\u0004')\u0001United StatesCzech Republic\u0016\u001a�X\u0004'\u001d",
      "\u0001United StatesDominica \u0018�W\u0004'\u0019\u0001United StatesLatvia\r",
      "\u001c",
      "�V\u0004\u001f'\u0002NicaraguaUnited States\u0000�\u001d",
      "�U\u0004'%\tUnited StatesBurkina Faso%�T\u0004'3\u0001United StatesAntigua and Barbuday\"�S\u0004'-\u0001United StatesFrench Polynesia&\u0019�R\u0004'\u0019\u0002United StatesCanada q\u0016�Q\u0004'\u0015\u0001United StatesFiji3\u001a�P\u0004'\u001f\tUnited StatesIndonesia\u0017�O\u0004'\u0017\u0001United StatesGhana\u001c",
      "\u0018�N\u0004\u0019'\u0001BelizeUnited Statesy\u0018�M\u0004'\u0019\u0001United StatesBelizev!�L\u0004')\u0002United StatesUnited Kingdom\u0005�\u0018�K\u0004\u001b'\tVietnamUnited States\u0017�J\u0004'\u0015\u0002United StatesPeru\u0001\u001c",
      "\u0019�I\u0004\u001b'\u0001BahrainUnited States\u001e",
      "\u0019�H\u0004'\u0019\u0002United StatesBrazil\u0002B\u001a�G\u0004\u001d",
      "'\u0001PortugalUnited Statesf\u0018�F\u0004'\u0017\u0002United StatesJapan\u0005\u001b\u001a�E\u0004\u001d",
      "'\u0001DominicaUnited States\u001c",
      "\u001e",
      "�D\u0004'#\u0002United StatesSwitzerland\u0001N\u0018�C\u0004'\u0017\u0002United StatesItaly\u0001�\u0017�B\u0004\u0015'\u0002CubaUnited States\u0000�\u0018�A\u0004'\u0017\u0002United StatesSpain\u0001�\u001b�@\u0004'\u001f\u0001United StatesGreenland\u0002!�?\u0004)'\u0002United KingdomUnited States\u0006]\u0018�>\u0004\u0019'\u0001TurkeyUnited StatesK\u001e",
      "�=\u0004'%\u0001United StatesSouth Africa\u000f\u0019�<\u0004'\u0019\u0002United StatesTaiwan\u0000�\u0019�;\u0004'\u001b\u0001United StatesCuracao\u000e\r",
      "\u0000\u0000\u0000 \u0000M\u0000\u0003�\u0003�\u0003�\u0003�\u0003s\u0003W\u00036\u0003\u001b\u0003\u0001\u0002�\u0002�\u0002�\u0002�\u0002p\u0002T\u00026\u0002\u001b\u0001�\u0001�\u0001�\u0001�\u0001�\u0001p\u0001U\u00011\u0001\b\u0000�\u0000�\u0000�\u0000�\u0000i\u0000M\u0000\u0000\u0000\u0000\u0000\u0019�z\u0004\u001d",
      "'\tBulgariaUnited States'�y\u0004'7\u0001United StatesSaint Kitts and Nevis\u001e",
      "�x\u0004%'\u0001Cook IslandsUnited States\r",
      "\u0019�w\u0004\u001b'\u0001UruguayUnited States6\u0019�v\u0004'\u001d",
      "\tUnited StatesSlovakia\u0019�u\u0004'\u001b\u0001United StatesBolivia'&�t\u0004'3\u0002United StatesTrinidad and Tobago\u0000�!�s\u0004')\u0002United StatesCayman Islands\u0000�\u0018�r\u0004'\u0019\u0001United StatesJordan3\u001c",
      "�q\u0004\u001f'\u0002AustraliaUnited States\u0001\"\u001a�p\u0004'\u001d",
      "\u0001United StatesBarbadosw\u0017�o\u0004'\u0017\u0001United StatesQatar(\u001b�n\u0004'\u001d",
      "\u0002United StatesColombia\u0003@\u0017�m\u0004'\u0015\u0002United StatesCuba\u0000�\u001a�l\u0004'\u001b\u0002United StatesBermuda\u0000�\u0018�k\u0004\u0017'\u0002ChileUnited States\u0000�\u001b�j\u0004\u001f'\u0001GreenlandUnited States\u0002\u0019�i\u0004'\u001b\u0001United StatesUruguay\u0018\u0019�h\u0004\u001b'\u0001NigeriaUnited States\u0010\u0018�g\u0004\u0019'\u0001PolandUnited States>\u001c",
      "�f\u0004'!\u0001United StatesKyrgyzstan\f",
      "\u0019�e\u0004\u0019'\u0002FranceUnited States\u0003\u0006\u001c",
      "�d\u0004!'\u0001GuadeloupeUnited States(\u0017�c\u0004\u0017'\u0001GhanaUnited States\u001b\u0018�b\u0004\u0019'\u0001AngolaUnited States\u000e\u001e",
      "�a\u0004#'\u0002South KoreaUnited States\u0002�\u0019�`\u0004'\u001d",
      "\tUnited StatesCameroon\u0018�_\u0004\u0019'\u0001UgandaUnited States\u0002\u0017�^\u0004\u0017'\u0001PalauUnited States\u001f\u0018�]\u0004\u0019'\u0001JordanUnited States2\u001e",
      "�\\\u0004'%\u0001United StatesCook Islands\f",
      "\u0019�[\u0004\u001b'\u0001AustriaUnited States$\r",
      "\u0000\u0000\u0000\u001d",
      "\u0000Y\u0000\u0003�\u0003�\u0003�\u0003t\u0003Y\u0003>\u0003!\u0003\u0007\u0002�\u0002�\u0002�\u0002�\u0002n\u0002R\u0002-\u0002\u0012\u0001�\u0001�\u0001�\u0001�\u0001q\u0001Q\u0001\u001d",
      "\u0001\u0002\u0000�\u0000�\u0000�\u0000u\u0000Y\u0000\u0000\u0000\u0000\u0000\u0000\u0000\u0000\u0000\u0000\u0000\u0000\u0000\u0000\u0000\u0000\u0000\u0000\u0000\u0000\u0000\u0000\u0000\u0019�\u0017\u0004\u001b'\u0001IcelandUnited Statesv\u001e",
      "�\u0016\u0004'#\u0002United StatesNetherlands\u0002:\u001a�\u0015\u0004\u001d",
      "'\u0001PakistanUnited States\t0�\u0014\u0004'I\u0001United StatesFederated States of Micronesia0\u0019�\u0013\u0004'\u0019\u0002United StatesRussia\u0000�\u0018�\u0012\u0004\u0017'\u0002ItalyUnited States\u0001�1�\u0011\u0004M'\tSaint Vincent and the GrenadinesUnited States\u001d",
      "�\u0010\u0004'#\u0001United StatesAfghanistan\u0002+�\u000f\u0004='\u0002Turks and Caicos IslandsUnited States\u0000�\u001a�\u000e\u0004\u001d",
      "'\u0001AnguillaUnited States\u0015\u0019�\r",
      "\u0004\u001b'\u0001BoliviaUnited States.\u0016�\f",
      "\u0004\u0017'\tMaltaUnited States\u001e",
      "�\u000b",
      "\u0004'%\u0001United StatesSint Maarten5\u0018�\r\n",
      "\u0004\u0019'\u0001GuyanaUnited States\u0011\"�\t\u0004'-\u0001United StatesMarshall Islands,\u0019�\b\u0004\u001b'\u0001SenegalUnited States\u001d",
      "\u001d",
      "�\u0007\u0004!'\u0002Costa RicaUnited States\u0001�\u0019�\u0006\u0004'\u001b\u0001United StatesGrenada6\u001b�\u0005\u0004'\u001f\u0001United StatesSingapore\u0019\"�\u0004\u0004/'\tEquatorial GuineaUnited States\u0017�\u0003\u0004\u0017'\u0001EgyptUnited States\u0018\u0017�\u0002\u0004'\u0017\u0001United StatesIndiaE\u001a�\u0001\u0004'\u001b\u0002United StatesIreland\u0001\b\u0018�\u0000\u0004'\u001b\tUnited StatesRomania\u0018�\u0004\u0019'\u0001GreeceUnited States23�~\u0004O'\u0001Bonaire, Sint Eustatius, and SabaUnited States\u0010\u0017�}\u0004'\u0019\tUnited StatesUganda\u0018�|\u0004'\u0017\u0002United StatesHaiti\u0000�\u001e",
      "�{\u0004''\tUnited StatesFrench Guiana\r",
      "\u0000\u0000\u0000\u0005\u0003Y\u0000\u0003�\u0003�\u0003�\u0003t\u0003Y\u0000\u0000\u0000\u0000\u0000\u0000\u0000\u0000\u0000\u0000\u0000\u0000\u0000\u0000\u0000\u0000\u0000\u0000\u0000\u0000\u0000\u0000\u0000\u0000\u0000\u0000\u0000\u0000\u0000\u0000\u0000\u0000\u0000\u0000\u0000\u0000\u0000\u0000\u0000\u0000\u0000\u0000\u0000\u0000\u0000\u0000\u0000\u0000\u0000\u0000\u0000\u0000\u0000\u0000\u0000\u0000\u0000\u0000\u0000\u0000\u0000\u0000\u0000\u0000\u0000\u0000\u0000\u0000\u0000\u0000\u0000\u0000\u0000\u0000\u0000\u0000\u0000\u0000\u0000\u0000\u0000\u0000\u0000\u0000\u0000\u0000\u0000\u0000\u0000\u0000\u0000\u0000\u0000\u0000\u0000\u0000\u0000\u0000\u0000\u0000\u0000\u0000\u0000\u0000\u0000\u0000\u0000\u0000\u0000\u0000\u0000\u0000\u0000\u0000\u0000\u0000\u0000\u0000\u0000\u0000\u0000\u0000\u0000\u0000\u0000\u0000\u0000\u0000\u0000\u0000\u0000\u0000\u0000\u0000\u0000\u0000\u0000\u0000\u0000\u0000\u0000\u0000\u0000\u0000\u0000\u0000\u0000\u0000\u0000\u0000\u0000\u0000\u0000\u0000\u0000\u0000\u0000\u0000\u0000\u0000\u0000\u0000\u0000\u0000\u0000\u0000\u0000\u0000\u0000\u0000\u0000\u0000\u0000\u0000\u0000\u0000\u0000\u0000\u0000\u0000\u0000\u0000\u0000\u0000\u0000\u0000\u0000\u0000\u0000\u0000\u0000\u0000\u0000\u0000\u0000\u0000\u0000\u0000\u0000\u0000\u0000\u0000\u0000\u0000\u0000\u0000\u0000\u0000\u0000\u0000\u0000\u0000\u0000\u0000\u0000\u0000\u0000\u0000\u0000\u0000\u0000\u0000\u0000\u0000\u0000\u0000\u0000\u0000\u0000\u0000\u0000\u0000\u0000\u0000\u0000\u0000\u0000\u0000\u0000\u0000\u0000\u0000\u0000\u0000\u0000\u0000\u0000\u0000\u0000\u0000\u0000\u0000\u0000\u0000\u0000\u0000\u0000\u0000\u0000\u0000\u0000\u0000\u0000\u0000\u0000\u0000\u0000\u0000\u0000\u0000\u0000\u0000\u0000\u0000\u0000\u0000\u0000\u0000\u0000\u0000\u0000\u0000\u0000\u0000\u0000\u0000\u0000\u0000\u0000\u0000\u0000\u0000\u0000\u0000\u0000\u0000\u0000\u0000\u0000\u0000\u0000\u0000\u0000\u0000\u0000\u0000\u0000\u0000\u0000\u0000\u0000\u0000\u0000\u0000\u0000\u0000\u0000\u0000\u0000\u0000\u0000\u0000\u0000\u0000\u0000\u0000\u0000\u0000\u0000\u0000\u0000\u0000\u0000\u0000\u0000\u0000\u0000\u0000\u0000\u0000\u0000\u0000\u0000\u0000\u0000\u0000\u0000\u0000\u0000\u0000\u0000\u0000\u0000\u0000\u0000\u0000\u0000\u0000\u0000\u0000\u0000\u0000\u0000\u0000\u0000\u0000\u0000\u0000\u0000\u0000\u0000\u0000\u0000\u0000\u0000\u0000\u0000\u0000\u0000\u0000\u0000\u0000\u0000\u0000\u0000\u0000\u0000\u0000\u0000\u0000\u0000\u0000\u0000\u0000\u0000\u0000\u0000\u0000\u0000\u0000\u0000\u0000\u0000\u0000\u0000\u0000\u0000\u0000\u0000\u0000\u0000\u0000\u0000\u0000\u0000\u0000\u0000\u0000\u0000\u0000\u0000\u0000\u0000\u0000\u0000\u0000\u0000\u0000\u0000\u0000\u0000\u0000\u0000\u0000\u0000\u0000\u0000\u0000\u0000\u0000\u0000\u0000\u0000\u0000\u0000\u0000\u0000\u0000\u0000\u0000\u0000\u0000\u0000\u0000\u0000\u0000\u0000\u0000\u0000\u0000\u0000\u0000\u0000\u0000\u0000\u0000\u0000\u0000\u0000\u0000\u0000\u0000\u0000\u0000\u0000\u0000\u0000\u0000\u0000\u0000\u0000\u0000\u0000\u0000\u0000\u0000\u0000\u0000\u0000\u0000\u0000\u0000\u0000\u0000\u0000\u0000\u0000\u0000\u0000\u0000\u0000\u0000\u0000\u0000\u0000\u0000\u0000\u0000\u0000\u0000\u0000\u0000\u0000\u0000\u0000\u0000\u0000\u0000\u0000\u0000\u0000\u0000\u0000\u0000\u0000\u0000\u0000\u0000\u0000\u0000\u0000\u0000\u0000\u0000\u0000\u0000\u0000\u0000\u0000\u0000\u0000\u0000\u0000\u0000\u0000\u0000\u0000\u0000\u0000\u0000\u0000\u0000\u0000\u0000\u0000\u0000\u0000\u0000\u0000\u0000\u0000\u0000\u0000\u0000\u0000\u0000\u0000\u0000\u0000\u0000\u0000\u0000\u0000\u0000\u0000\u0000\u0000\u0000\u0000\u0000\u0000\u0000\u0000\u0000\u0000\u0000\u0000\u0000\u0000\u0000\u0000\u0000\u0000\u0000\u0000\u0000\u0000\u0000\u0000\u0000\u0000\u0000\u0000\u0000\u0000\u0000\u0000\u0000\u0000\u0000\u0000\u0000\u0000\u0000\u0000\u0000\u0000\u0000\u0000\u0000\u0000\u0000\u0000\u0000\u0000\u0000\u0000\u0000\u0000\u0000\u0000\u0000\u0000\u0000\u0000\u0000\u0000\u0000\u0000\u0000\u0000\u0000\u0000\u0000\u0000\u0000\u0000\u0000\u0000\u0000\u0000\u0000\u0000\u0000\u0000\u0000\u0000\u0000\u0000\u0000\u0000\u0000\u0000\u0000\u0000\u0000\u0000\u0000\u0000\u0000\u0000\u0000\u0000\u0000\u0000\u0000\u0000\u0000\u0000\u0000\u0000\u0000\u0000\u0000\u0000\u0000\u0000\u0000\u0000\u0000\u0000\u0000\u0000\u0000\u0000\u0000\u0000\u0000\u0000\u0000\u0000\u0000\u0000\u0000\u0000\u0000\u0000\u0000\u0000\u0000\u0000\u0000\u0000\u0000\u0000\u0000\u0000\u0000\u0000\u0000\u0000\u0000\u0000\u0000\u0000\u0000\u0000\u0000\u0000\u0000\u0000\u0000\u0000\u0000\u0000\u0000\u0000\u0000\u0000\u0000\u0000\u0000\u0000\u0000\u0000\u0000\u0000\u0000\u0000\u0000\u0000\u0000\u0000\u0000\u0000\u0000\u0000\u0000\u0000\u0000\u0000\u0000\u0000\u0000\u0000\u0000\u0000\u0000\u0000\u0000\u0000\u0000\u0000\u0000\u0000\u0000\u0000\u0000\u0000\u0000\u0000\u0000\u0000\u0000\u0000\u0000\u0000\u0000\u0000\u0000\u0000\u0000\u0000\u0000\u0000\u0000\u0000\u0000\u0000\u0000\u0000\u0000\u0000\u0000\u0000\u0000\u0000\u0000\u0000\u0000\u0000\u0000\u0000\u0000\u0000\u0000\u0000\u0000\u0000\u0000\u0000\u0000\u0000\u0000\u0000\u0000\u0000\u0000\u0000\u0000\u0000\u0000\u0000\u0000\u0000\u0000\u0000\u0000\u0000\u0018�\u0004\u0019'\u0001GreeceUnited States23�~\u0004O'\u0001Bonaire, Sint Eustatius, and SabaUnited States\u0010\u0017�}\u0004'\u0019\tUnited StatesUganda\u0018�|\u0004'\u0017\u0002United StatesHaiti\u0000�\u001e",
      "�{\u0004''\tUnited StatesFrench Guiana\r",
      "\u0000\u0000\u0000 \u0000M\u0000\u0003�\u0003�\u0003�\u0003�\u0003s\u0003W\u00036\u0003\u001b\u0003\u0001\u0002�\u0002�\u0002�\u0002�\u0002p\u0002T\u00026\u0002\u001b\u0001�\u0001�\u0001�\u0001�\u0001�\u0001p\u0001U\u00011\u0001\b\u0000�\u0000�\u0000�\u0000�\u0000i\u0000M\u0000\u0000\u0000\u0000\u0000\u0019�z\u0004\u001d",
      "'\tBulgariaUnited States'�y\u0004'7\u0001United StatesSaint Kitts and Nevis\u001e",
      "�x\u0004%'\u0001Cook IslandsUnited States\r",
      "\u0019�w\u0004\u001b'\u0001UruguayUnited States6\u0019�v\u0004'\u001d",
      "\tUnited StatesSlovakia\u0019�u\u0004'\u001b\u0001United StatesBolivia'&�t\u0004'3\u0002United StatesTrinidad and Tobago\u0000�!�s\u0004')\u0002United StatesCayman Islands\u0000�\u0018�r\u0004'\u0019\u0001United StatesJordan3\u001c",
      "�q\u0004\u001f'\u0002AustraliaUnited States\u0001\"\u001a�p\u0004'\u001d",
      "\u0001United StatesBarbadosw\u0017�o\u0004'\u0017\u0001United StatesQatar(\u001b�n\u0004'\u001d",
      "\u0002United StatesColombia\u0003@\u0017�m\u0004'\u0015\u0002United StatesCuba\u0000�\u001a�l\u0004'\u001b\u0002United StatesBermuda\u0000�\u0018�k\u0004\u0017'\u0002ChileUnited States\u0000�\u001b�j\u0004\u001f'\u0001GreenlandUnited States\u0002\u0019�i\u0004'\u001b\u0001United StatesUruguay\u0018\u0019�h\u0004\u001b'\u0001NigeriaUnited States\u0010\u0018�g\u0004\u0019'\u0001PolandUnited States>\u001c",
      "�f\u0004'!\u0001United StatesKyrgyzstan\f",
      "\u0019�e\u0004\u0019'\u0002FranceUnited States\u0003\u0006\u001c",
      "�d\u0004!'\u0001GuadeloupeUnited States(\u0017�c\u0004\u0017'\u0001GhanaUnited States\u001b\u0018�b\u0004\u0019'\u0001AngolaUnited States\u000e\u001e",
      "�a\u0004#'\u0002South KoreaUnited States\u0002�\u0019�`\u0004'\u001d",
      "\tUnited StatesCameroon\u0018�_\u0004\u0019'\u0001UgandaUnited States\u0002\u0017�^\u0004\u0017'\u0001PalauUnited States\u001f\u0018�]\u0004\u0019'\u0001JordanUnited States2\u001e",
      "�\\\u0004'%\u0001United StatesCook Islands\f",
      "\u0019�[\u0004\u001b'\u0001AustriaUnited States$\r",
      "\u0000\u0000\u0000 \u0000K\u0000\u0003�\u0003�\u0003�\u0003�\u0003h\u0003J\u0003/\u0003\u0015\u0002�\u0002�\u0002�\u0002�\u0002�\u0002h\u0002L\u00022\u0002\u0017\u0001�\u0001�\u0001�\u0001�\u0001�\u0001m\u0001Q\u0001,\u0001\u0004\u0000�\u0000�\u0000�\u0000�\u0000j\u0000K\u0000\u0000\u0000\u001c",
      "�Z\u0004'\u001f\u0002United StatesAustralia\u0000� �Y\u0004')\u0001United StatesCzech Republic\u0016\u001a�X\u0004'\u001d",
      "\u0001United StatesDominica \u0018�W\u0004'\u0019\u0001United StatesLatvia\r",
      "\u001c",
      "�V\u0004\u001f'\u0002NicaraguaUnited States\u0000�\u001d",
      "�U\u0004'%\tUnited StatesBurkina Faso%�T\u0004'3\u0001United StatesAntigua and Barbuday\"�S\u0004'-\u0001United StatesFrench Polynesia&\u0019�R\u0004'\u0019\u0002United StatesCanada q\u0016�Q\u0004'\u0015\u0001United StatesFiji3\u001a�P\u0004'\u001f\tUnited StatesIndonesia\u0017�O\u0004'\u0017\u0001United StatesGhana\u001c",
      "\u0018�N\u0004\u0019'\u0001BelizeUnited Statesy\u0018�M\u0004'\u0019\u0001United StatesBelizev!�L\u0004')\u0002United StatesUnited Kingdom\u0005�\u0018�K\u0004\u001b'\tVietnamUnited States\u0017�J\u0004'\u0015\u0002United StatesPeru\u0001\u001c",
      "\u0019�I\u0004\u001b'\u0001BahrainUnited States\u001e",
      "\u0019�H\u0004'\u0019\u0002United StatesBrazil\u0002B\u001a�G\u0004\u001d",
      "'\u0001PortugalUnited Statesf\u0018�F\u0004'\u0017\u0002United StatesJapan\u0005\u001b\u001a�E\u0004\u001d",
      "'\u0001DominicaUnited States\u001c",
      "\u001e",
      "�D\u0004'#\u0002United StatesSwitzerland\u0001N\u0018�C\u0004'\u0017\u0002United StatesItaly\u0001�\u0017�B\u0004\u0015'\u0002CubaUnited States\u0000�\u0018�A\u0004'\u0017\u0002United StatesSpain\u0001�\u001b�@\u0004'\u001f\u0001United StatesGreenland\u0002!�?\u0004)'\u0002United KingdomUnited States\u0006]\u0018�>\u0004\u0019'\u0001TurkeyUnited StatesK\u001e",
      "�=\u0004'%\u0001United StatesSouth Africa\u000f\u0019�<\u0004'\u0019\u0002United StatesTaiwan\u0000�\u0019�;\u0004'\u001b\u0001United StatesCuracao\u000e\r",
      "\u0000\u0000\u0000\u001e",
      "\u0000N\u0000\u0003�\u0003�\u0003�\u0003\u0003c\u0003G\u0003\u0011\u0002�\u0002�\u0002�\u0002�\u0002x\u0002]\u0002=\u0002\u001d",
      "\u0001�\u0001�\u0001�\u0001�\u0001�\u0001b\u0001F\u0001'\u0001\u000b",
      "\u0000�\u0000�\u0000�\u0000�\u0000k\u0000N\u0000\u0000\u0000\u0000\u0000\u0000\u0000\u0000\u0000\u0000\u001a�:\u0004\u001d",
      "'\u0001ParaguayUnited StatesZ\u001d",
      "�9\u0004#'\u0001Saint LuciaUnited Statest\u001c",
      "�8\u0004\u001f'\u0002GuatemalaUnited States\u0001�\u0019�7\u0004\u0019'\u0002RussiaUnited States\u0000�\u001e",
      "�6\u0004'%\u0001United StatesSaudi Arabia6!�5\u0004'-\tUnited StatesPapua New Guinea\u0019�4\u0004\u001b'\u0001UkraineUnited States\u0013\u001c",
      "�3\u0004!'\u0001Cape VerdeUnited States\u0012\u0019�2\u0004\u001b'\u0001GrenadaUnited StatesA\u001e",
      "�1\u0004#'\u0002PhilippinesUnited States\u0000�\u0019�0\u0004'\u001b\u0001United StatesDenmarkk\u0018�/\u0004'\u0019\u0001United StatesGuyana\u0014\u0019�.\u0004\u001b'\u0001GeorgiaUnited States\u0002\u0019�-\u0004\u001b'\u0001CuracaoUnited States\u0014(�,\u0004'9\u0001United StatesBritish Virgin Islands/\u001d",
      "�+\u0004#'\u0001AfghanistanUnited States\u000b",
      "\u001d",
      "�*\u0004'#\u0001United StatesSaint Luciay\u0018�)\u0004'\u001b\tUnited StatesBahrain\u0018�(\u0004'\u0019\u0001United StatesIsraelz\u001a�'\u0004\u001b'\u0002BelgiumUnited States\u0001� �&\u0004)'\u0001Czech RepublicUnited States\u0015\u001e",
      "�%\u0004%'\u0001Saudi ArabiaUnited States*\u001a�$\u0004\u001d",
      "'\u0001KiribatiUnited States\u00113�#\u0004'O\u0001United StatesBonaire, Sint Eustatius, and Saba\u0010\u0019�\"\u0004'\u001b\u0001United StatesNigeria\u0012\u0019�!\u0004'\u001b\u0001United StatesAustria\"\u001a� \u0004\u001b'\u0002BermudaUnited States\u0000�'�\u001f\u00045'\u0002Netherlands AntillesUnited States\u0001\u001e",
      "\u0018�\u001e",
      "\u0004\u0017'\u0002SpainUnited States\u0001�\u001c",
      "�\u001d",
      "\u0004'\u001f\u0002United StatesArgentina\u0000�\r",
      "\u0000\u0000\u0000\u001e",
      "\u0000`\u0000\u0003�\u0003�\u0003�\u0003�\u0003p\u0003V\u0003+\u0003\u000e\u0002�\u0002�\u0002�\u0002�\u0002e\u0002I\u0002(\u0002\r",
      "\u0001�\u0001�\u0001�\u0001�\u0001s\u0001W\u00017\u0001\u0018\u0000�\u0000�\u0000�\u0000�\u0000}\u0000`\u0000\u0000\u0000\u0000\u0000\u0000\u0000\u0000\u0000\u0000\u0000\u0000\u0000\u0000\u0000\u0000\u0000\u0000\u0000\u0000\u0000\u0000\u0000\u0000\u0000\u0000\u0000\u0000\u001a�\u001c",
      "\u0004'\u001b\u0002United StatesIceland\u0000�\u001e",
      "�\u001b\u0004%'\u0001South AfricaUnited States\u0019!�\u001a\u0004)'\u0002Cayman IslandsUnited States\u0000�\u001c",
      "�\u0019\u0004\u001f'\u0002ArgentinaUnited States\u0000�\u0017�\u0018\u0004\u0015'\u0002PeruUnited States\u0000�\u001a�\u0017\u0004'\u001b\u0002United StatesBelgium\u0001c\u001c",
      "�\u0016\u0004'\u001f\u0002United StatesNicaragua\u0000�\u001d",
      "�\u0015\u0004'#\u0001United StatesPhilippinest\u0019�\u0014\u0004\u001b'\u0001DenmarkUnited Statesb\u0018�\u0013\u0004\u0017'\u0002ChinaUnited States\u0001�\u001a�\u0012\u0004'\u001d",
      "\u0001United StatesBulgaria\u0002'�\u0011\u0004'5\u0002United StatesUnited Arab Emirates\u0000�\u001c",
      "�\u0010\u0004'!\u0001United StatesMartinique\u0014\u0016�\u000f\u0004'\u0017\tUnited StatesGabon\u0018�\u000e\u0004'\u0019\u0001United StatesSwedenI\u001e",
      "�\r",
      "\u0004#'\u0002NetherlandsUnited States\u0002J\u0019�\f",
      "\u0004'\u0019\u0002United StatesMexico\u0018L\u001b�\u000b",
      "\u0004\u001f'\u0001SingaporeUnited States\u0019'�\r\n",
      "\u00045'\u0002United Arab EmiratesUnited States\u0000�\"�\t\u0004-'\u0001French PolynesiaUnited States&\u001d",
      "�\b\u0004'#\u0001United StatesNew ZealandG\u0019�\u0007\u0004\u0019'\u0002BrazilUnited States\u0003�\u001a�\u0006\u0004'\u001b\u0002United StatesGermany\u0005~(�\u0005\u00049'\u0001British Virgin IslandsUnited States1\u0017�\u0004\u0004\u0017'\u0001IndiaUnited StatesB\u001a�\u0003\u0004'\u001d",
      "\u0001United StatesKiribati\u0012\u001f�\u0002\u0004''\u0001French GuianaUnited States\u0004\u0018�\u0001\u0004\u0017'\u0002ArubaUnited States\u0001g\u0018�\u0000\u0004'\u0019\u0001United StatesNorway$\u0019\u0004'\u0019\u0002United StatesFrance\u0003\b\r",
      "\u0000\u0000\u0000\u001f\u0000Q\u0000\u0003�\u0003�\u0003�\u0003�\u0003u\u0003Z\u0003>\u0003$\u0003\b\u0002�\u0002�\u0002�\u0002|\u0002_\u0002F\u0002.\u0002\u0005\u0001�\u0001�\u0001�\u0001�\u0001i\u0001O\u00013\u0001\u001a\u0000�\u0000�\u0000�\u0000�\u0000l\u0000Q\u0000\u0000\u0000\u0000\u0000\u0000\u0000\u0000\u0000\u0000\u0000\u0019~\u0004'\u001b\u0001United StatesUkraine\u0011\u0019}\u0004\u001b'\u0001FinlandUnited States\u0018\u001c",
      "|\u0004'!\u0001United StatesGuadeloupe!2{\u0004'M\u0001United StatesSaint Vincent and the Grenadines\u0010\u0018z\u0004\u0017'\u0002JapanUnited States\u0005g%y\u00041'\u0002Dominican RepublicUnited States\u0004U\u0017x\u0004'\u0017\u0001United StatesMalta\u0002\u001aw\u0004\u001b'\u0002JamaicaUnited States\u0002�\u0018v\u0004'\u001b\tUnited StatesLiberia0u\u0004I'\u0001Federated States of MicronesiaUnited States.\u0019t\u0004\u0019'\u0002CanadaUnited States O\u0018s\u0004\u0019'\u0001KuwaitUnited States\u001a\u0018r\u0004\u0017'\u0002HaitiUnited States\u0000�\u0019q\u0004\u0019'\u0002TaiwanUnited States\u0001\u0013'p\u00047'\u0001Saint Kitts and NevisUnited Statesq\u0016o\u0004\u0015'\u0001FijiUnited States5\u0017n\u0004\u0017'\u0001QatarUnited States)\u001bm\u0004'\u001d",
      "\u0002United StatesHonduras\u0001�\u001al\u0004'\u001d",
      "\u0001United StatesPakistan\u000f\u0018k\u0004\u0019'\u0001CyprusUnited States\u0002+j\u0004'=\u0002United StatesTurks and Caicos Islands\u0000�'i\u0004'5\u0002United StatesNetherlands Antilles\u0001!\u001ah\u0004'\u001d",
      "\u0001United StatesThailand\r",
      "\u0018g\u0004'\u0017\u0002United StatesAruba\u0001]\u001af\u0004'\u001d",
      "\u0001United StatesEthiopia\f",
      "\u0019e\u0004'\u0019\u0002United StatesPanama\u0001k\u0019d\u0004\u001d",
      "'\tMalaysiaUnited States\u0017c\u0004'\u0019\tUnited StatesSerbia\u0019b\u0004'\u001b\u0001United StatesHungary\u000f\u001aa\u0004\u001b'\u0002IrelandUnited States\u0000�\u001e",
      "`\u0004'#\u0002United StatesEl Salvador\u0001�\r",
      "\u0000\u0000\u0000 \u0000Y\u0000\u0003�\u0003�\u0003�\u0003�\u0003o\u0003R\u00032\u0003\u0013\u0002�\u0002�\u0002�\u0002�\u0002�\u0002r\u0002X\u00021\u0002\u0018\u0001�\u0001�\u0001�\u0001�\u0001�\u0001i\u0001E\u0001!\u0001\u0007\u0000�\u0000�\u0000�\u0000�\u0000y\u0000Y\u0000\u0000\u0000\u0000\u0000\u0000\u0000\u0000\u0000\u0000\u0000\u0000\u0000\u0000\u0000\u0000\u0000\u001e",
      "_\u0004'#\u0002United StatesSouth Korea\u0002m\u001c",
      "^\u0004!'\u0001KyrgyzstanUnited States\u0002\u001a]\u0004\u001b'\u0002GermanyUnited States\u0005p\u001b\\\u0004'!\tUnited StatesAzerbaijan\u0018[\u0004'\u001b\tUnited StatesEstonia\u001bZ\u0004\u001d",
      "'\u0002BarbadosUnited States\u0000�\u0018Y\u0004'\u0019\u0001United StatesTurkeyW\"X\u0004'-\u0001United StatesSaint Barthelemy\u001d",
      "\"W\u0004-'\u0001Saint BarthelemyUnited States\u001c",
      "\u001c",
      "V\u0004!'\u0001MartiniqueUnited States\u0017\u0018U\u0004'\u0019\u0001United StatesPoland=\u001aT\u0004\u001d",
      "'\u0001EthiopiaUnited States\f",
      "\u001c",
      "S\u0004'!\u0001United StatesLuxembourgZ!R\u0004''\u0003United StatesUnited States\u0005O�\u0018Q\u0004\u0019'\u0001IsraelUnited Statesu\u0017P\u0004'\u0017\u0001United StatesEgypt\u0019%O\u0004'1\u0002United StatesDominican Republic\u0004~\u0018N\u0004'\u0019\u0001United StatesKuwait\u0019\u0018M\u0004\u0019'\u0001SwedenUnited StatesA\u0018L\u0004'\u001b\tUnited StatesVietnam\u0018K\u0004'\u0017\u0002United StatesChina\u0001�\u0019J\u0004\u001b'\u0001HungaryUnited States\u000e\u001c",
      "I\u0004'\u001f\u0002United StatesHong Kong\u0001%\u0018H\u0004\u001b'\tLiberiaUnited States\u001d",
      "G\u0004#'\u0001New ZealandUnited StatesV\u001e",
      "F\u0004'#\u0002United StatesThe Bahamas\u0003�\u001bE\u0004!'\tAzerbaijanUnited States%D\u00043'\u0001Antigua and BarbudaUnited States{\u0018C\u0004'\u0019\u0001United StatesGreece=\u0019B\u0004\u001b'\u0001MoroccoUnited States\u0010\u0018A\u0004'\u0017\u0002United StatesChile\u0000�\u0019@\u0004'\u001b\u0001United StatesFinland\u0014\r",
      "\u0000\u0000\u0000!\u0000K\u0000\u0003�\u0003�\u0003�\u0003�\u0003s\u0003S\u00035\u0003\r",
      "\u0002�\u0002�\u0002�\u0002�\u0002�\u0002l\u0002P\u0002'\u0002\u000b",
      "\u0001�\u0001�\u0001�\u0001�\u0001w\u0001[\u0001?\u0001%\u0001\r\n",
      "\u0000�\u0000�\u0000�\u0000�\u0000�\u0000f\u0000K\u0000\u0019?\u0004\u0019'\u0002PanamaUnited States\u0001c\u001c",
      ">\u0004'\u001f\u0002United StatesVenezuela\u0001U\u0018=\u0004'\u001b\tUnited StatesAlgeria\u0017<\u0004'\u0017\u0001United StatesSamoa\u001c",
      "\u0017;\u0004'\u0017\u0001United StatesPalau\u001e",
      "\u001c",
      ":\u0004\u001f'\u0002VenezuelaUnited States\u0001y\u001a9\u0004\u001d",
      "'\u0001ThailandUnited States\u0010\u00198\u0004'\u001b\u0001United StatesMorocco\u0010\u00187\u0004\u0019'\u0001NorwayUnited States\u001d",
      "\u001a6\u0004'\u001d",
      "\u0001United StatesMalaysia\u0003\u001a5\u0004'\u001b\u0002United StatesJamaica\u0002�\u001c",
      "4\u0004'!\u0001United StatesCape Verde\u0012\u001b3\u0004\u001d",
      "'\u0002ColombiaUnited States\u0003\u0011\u001a2\u0004'\u001d",
      "\u0001United StatesSuriname\r",
      "\u001c",
      "1\u0004'\u001f\u0002United StatesGuatemala\u0001M\u001d",
      "0\u0004'!\u0002United StatesCosta Rica\u0001�\u001a/\u0004'\u001d",
      "\u0001United StatesPortugalh'.\u0004'9\tUnited StatesBosnia and Herzegovina\u001a-\u0004\u001b'\u0002EcuadorUnited States\u0001\u0010\u0017,\u0004'\u0019\tUnited StatesCyprus\u0019+\u0004\u0019'\u0002MexicoUnited States\u00188\u001a*\u0004\u001d",
      "'\u0001SurinameUnited States\f",
      "\u0019)\u0004\u001d",
      "'\tSlovakiaUnited States\u001a(\u0004'\u001b\u0002United StatesEcuador\u0001Y\u0018'\u0004\u0019'\u0001LatviaUnited States\f",
      "&&\u00043'\u0002Trinidad and TobagoUnited States\u0000�\u001c",
      "%\u0004\u001f'\u0002Hong KongUnited States\u0000�\u001e",
      "$\u0004%'\u0001Sint MaartenUnited States=\u001a#\u0004'\u001d",
      "\u0001United StatesAnguilla\u0014\u001e",
      "\"\u0004#'\u0002SwitzerlandUnited States\u0001;\u001c",
      "!\u0004!'\u0001KazakhstanUnited States\u0003\u0018 \u0004'\u0019\u0001United StatesAngola\u0012\u0017\u001f\u0004\u0017'\u0001SamoaUnited States\u001c"
     ]
    }
   ],
   "source": [
    "# 1 db file\n",
    "!head /Users/grp/sparkTheDefinitiveGuide/tmp/sqlWrite.db"
   ]
  },
  {
   "cell_type": "markdown",
   "metadata": {},
   "source": [
    "### _Reading Results Example_"
   ]
  },
  {
   "cell_type": "code",
   "execution_count": 262,
   "metadata": {},
   "outputs": [
    {
     "data": {
      "text/plain": [
       "255"
      ]
     },
     "execution_count": 262,
     "metadata": {},
     "output_type": "execute_result"
    }
   ],
   "source": [
    "spark.read.jdbc(newPath, tablename, properties=props).count()"
   ]
  },
  {
   "cell_type": "markdown",
   "metadata": {},
   "source": [
    "### _Append Write/Re-read Example_"
   ]
  },
  {
   "cell_type": "code",
   "execution_count": 263,
   "metadata": {},
   "outputs": [
    {
     "data": {
      "text/plain": [
       "510"
      ]
     },
     "execution_count": 263,
     "metadata": {},
     "output_type": "execute_result"
    }
   ],
   "source": [
    "csvFile.write.jdbc(newPath, tablename, mode=\"append\", properties=props)\n",
    "spark.read.jdbc(newPath, tablename, properties=props).count()"
   ]
  },
  {
   "cell_type": "markdown",
   "metadata": {},
   "source": [
    "### _TXT Read Example_"
   ]
  },
  {
   "cell_type": "code",
   "execution_count": 264,
   "metadata": {},
   "outputs": [
    {
     "name": "stdout",
     "output_type": "stream",
     "text": [
      "+-----------------------------------------------+\n",
      "|rows                                           |\n",
      "+-----------------------------------------------+\n",
      "|[DEST_COUNTRY_NAME, ORIGIN_COUNTRY_NAME, count]|\n",
      "|[United States, Romania, 1]                    |\n",
      "|[United States, Ireland, 264]                  |\n",
      "+-----------------------------------------------+\n",
      "only showing top 3 rows\n",
      "\n"
     ]
    }
   ],
   "source": [
    "spark.read.text(flightDataCSV2010).selectExpr(\"split(value, ',') as rows\").show(3, False)"
   ]
  },
  {
   "cell_type": "markdown",
   "metadata": {},
   "source": [
    "### _TXT Write Example_"
   ]
  },
  {
   "cell_type": "code",
   "execution_count": 265,
   "metadata": {
    "collapsed": true
   },
   "outputs": [],
   "source": [
    "csvFile.select(\"DEST_COUNTRY_NAME\").write.mode(\"overwrite\")\\\n",
    ".text(\"/Users/grp/sparkTheDefinitiveGuide/tmp/txtWrite.txt\")"
   ]
  },
  {
   "cell_type": "code",
   "execution_count": 266,
   "metadata": {},
   "outputs": [
    {
     "name": "stdout",
     "output_type": "stream",
     "text": [
      "United States\r\n",
      "United States\r\n",
      "United States\r\n",
      "Egypt\r\n",
      "Equatorial Guinea\r\n",
      "United States\r\n",
      "United States\r\n",
      "Costa Rica\r\n",
      "Senegal\r\n",
      "United States\r\n"
     ]
    }
   ],
   "source": [
    "# 1 txt file\n",
    "!head /Users/grp/sparkTheDefinitiveGuide/tmp/txtWrite.txt/*.txt"
   ]
  },
  {
   "cell_type": "markdown",
   "metadata": {},
   "source": [
    "### _TXT Write Partition By Example_"
   ]
  },
  {
   "cell_type": "code",
   "execution_count": 267,
   "metadata": {
    "collapsed": true
   },
   "outputs": [],
   "source": [
    "csvFile.limit(10).select(\"DEST_COUNTRY_NAME\", \"count\").write.mode(\"overwrite\").partitionBy(\"count\")\\\n",
    ".text(\"/Users/grp/sparkTheDefinitiveGuide/tmp/partitionWrite.txt\")"
   ]
  },
  {
   "cell_type": "code",
   "execution_count": 268,
   "metadata": {},
   "outputs": [
    {
     "name": "stdout",
     "output_type": "stream",
     "text": [
      "count=69\n",
      "._SUCCESS.crc\n",
      "count=29\n",
      "count=264\n",
      "count=44\n",
      "count=54\n",
      "count=477\n",
      "_SUCCESS\n",
      "count=1\n",
      "count=24\n",
      "count=25\n"
     ]
    }
   ],
   "source": [
    "import os\n",
    "for i in os.listdir(\"/Users/grp/sparkTheDefinitiveGuide/tmp/partitionWrite.txt\"): print(i)"
   ]
  },
  {
   "cell_type": "code",
   "execution_count": 269,
   "metadata": {},
   "outputs": [
    {
     "name": "stdout",
     "output_type": "stream",
     "text": [
      "United States\n",
      "Equatorial Guinea\n",
      "\n",
      "\n",
      "Egypt\n",
      "\n",
      "\n",
      "United States\n",
      "\n",
      "\n",
      "United States\n"
     ]
    }
   ],
   "source": [
    "# files split by count column\n",
    "!head /Users/grp/sparkTheDefinitiveGuide/tmp/partitionWrite.txt/count=1/*.txt\n",
    "print(\"\\n\")\n",
    "!head /Users/grp/sparkTheDefinitiveGuide/tmp/partitionWrite.txt/count=24/*.txt\n",
    "print(\"\\n\")\n",
    "!head /Users/grp/sparkTheDefinitiveGuide/tmp/partitionWrite.txt/count=25/*.txt\n",
    "print(\"\\n\")\n",
    "!head /Users/grp/sparkTheDefinitiveGuide/tmp/partitionWrite.txt/count=264/*.txt"
   ]
  },
  {
   "cell_type": "markdown",
   "metadata": {},
   "source": [
    "### _Writing Data in Parallel Example_"
   ]
  },
  {
   "cell_type": "code",
   "execution_count": 270,
   "metadata": {
    "collapsed": true
   },
   "outputs": [],
   "source": [
    "csvFile.repartition(5).write.mode(\"overwrite\").format(\"csv\")\\\n",
    ".save(\"/Users/grp/sparkTheDefinitiveGuide/tmp/repartitionWrite.csv\")"
   ]
  },
  {
   "cell_type": "code",
   "execution_count": 271,
   "metadata": {},
   "outputs": [
    {
     "name": "stdout",
     "output_type": "stream",
     "text": [
      "part-00004-85c4b81c-1971-41b7-ada5-932b8a53fc45-c000.csv\n",
      "._SUCCESS.crc\n",
      ".part-00004-85c4b81c-1971-41b7-ada5-932b8a53fc45-c000.csv.crc\n",
      ".part-00001-85c4b81c-1971-41b7-ada5-932b8a53fc45-c000.csv.crc\n",
      "part-00001-85c4b81c-1971-41b7-ada5-932b8a53fc45-c000.csv\n",
      ".part-00000-85c4b81c-1971-41b7-ada5-932b8a53fc45-c000.csv.crc\n",
      "part-00000-85c4b81c-1971-41b7-ada5-932b8a53fc45-c000.csv\n",
      ".part-00002-85c4b81c-1971-41b7-ada5-932b8a53fc45-c000.csv.crc\n",
      ".part-00003-85c4b81c-1971-41b7-ada5-932b8a53fc45-c000.csv.crc\n",
      "part-00003-85c4b81c-1971-41b7-ada5-932b8a53fc45-c000.csv\n",
      "_SUCCESS\n",
      "part-00002-85c4b81c-1971-41b7-ada5-932b8a53fc45-c000.csv\n"
     ]
    }
   ],
   "source": [
    "# files split into 5 partitions\n",
    "for i in os.listdir(\"/Users/grp/sparkTheDefinitiveGuide/tmp/repartitionWrite.csv/\"): print(i)"
   ]
  },
  {
   "cell_type": "code",
   "execution_count": 272,
   "metadata": {},
   "outputs": [
    {
     "name": "stdout",
     "output_type": "stream",
     "text": [
      "Barbados,United States,130\r\n",
      "United States,Fiji,51\r\n",
      "United States,Senegal,46\r\n",
      "New Zealand,United States,86\r\n",
      "Kiribati,United States,17\r\n",
      "Afghanistan,United States,11\r\n",
      "Latvia,United States,12\r\n",
      "United States,Luxembourg,90\r\n",
      "United States,Angola,18\r\n",
      "United States,Cyprus,1\r\n"
     ]
    }
   ],
   "source": [
    "!head /Users/grp/sparkTheDefinitiveGuide/tmp/repartitionWrite.csv/part-00001*.csv"
   ]
  },
  {
   "cell_type": "markdown",
   "metadata": {},
   "source": [
    "### _Partitioning (partitionBy) Example_"
   ]
  },
  {
   "cell_type": "code",
   "execution_count": 273,
   "metadata": {
    "collapsed": true
   },
   "outputs": [],
   "source": [
    "csvFile.limit(10).write.mode(\"overwrite\").partitionBy(\"DEST_COUNTRY_NAME\")\\\n",
    ".save(\"/Users/grp/sparkTheDefinitiveGuide/tmp/partitionByWrite.parquet/\")"
   ]
  },
  {
   "cell_type": "code",
   "execution_count": 274,
   "metadata": {},
   "outputs": [
    {
     "name": "stdout",
     "output_type": "stream",
     "text": [
      "DEST_COUNTRY_NAME=United States\n",
      "DEST_COUNTRY_NAME=Costa Rica\n",
      "._SUCCESS.crc\n",
      "DEST_COUNTRY_NAME=Senegal\n",
      "DEST_COUNTRY_NAME=Equatorial Guinea\n",
      "_SUCCESS\n",
      "DEST_COUNTRY_NAME=Egypt\n"
     ]
    }
   ],
   "source": [
    "# files split by predicate\n",
    "for i in os.listdir(\"/Users/grp/sparkTheDefinitiveGuide/tmp/partitionByWrite.parquet/\"): print(i)"
   ]
  },
  {
   "cell_type": "markdown",
   "metadata": {},
   "source": [
    "### _Bucketing Example_"
   ]
  },
  {
   "cell_type": "code",
   "execution_count": 275,
   "metadata": {
    "collapsed": true
   },
   "outputs": [],
   "source": [
    "numberBuckets = 10\n",
    "columnToBucketBy = \"count\"\n",
    "csvFile.write.format(\"parquet\").mode(\"overwrite\")\\\n",
    ".bucketBy(numberBuckets, columnToBucketBy).mode(\"overwrite\").saveAsTable(\"bucketedFiles\")"
   ]
  },
  {
   "cell_type": "code",
   "execution_count": 276,
   "metadata": {
    "scrolled": false
   },
   "outputs": [
    {
     "name": "stdout",
     "output_type": "stream",
     "text": [
      ".part-00000-eda721fc-d305-4db5-941e-c76906a0a539_00007.c000.snappy.parquet.crc\n",
      ".part-00000-eda721fc-d305-4db5-941e-c76906a0a539_00008.c000.snappy.parquet.crc\n",
      ".part-00000-eda721fc-d305-4db5-941e-c76906a0a539_00003.c000.snappy.parquet.crc\n",
      "._SUCCESS.crc\n",
      ".part-00000-eda721fc-d305-4db5-941e-c76906a0a539_00000.c000.snappy.parquet.crc\n",
      ".part-00000-eda721fc-d305-4db5-941e-c76906a0a539_00004.c000.snappy.parquet.crc\n",
      "part-00000-eda721fc-d305-4db5-941e-c76906a0a539_00006.c000.snappy.parquet\n",
      "part-00000-eda721fc-d305-4db5-941e-c76906a0a539_00007.c000.snappy.parquet\n",
      "part-00000-eda721fc-d305-4db5-941e-c76906a0a539_00004.c000.snappy.parquet\n",
      ".part-00000-eda721fc-d305-4db5-941e-c76906a0a539_00002.c000.snappy.parquet.crc\n",
      "part-00000-eda721fc-d305-4db5-941e-c76906a0a539_00005.c000.snappy.parquet\n",
      "part-00000-eda721fc-d305-4db5-941e-c76906a0a539_00003.c000.snappy.parquet\n",
      "part-00000-eda721fc-d305-4db5-941e-c76906a0a539_00002.c000.snappy.parquet\n",
      ".part-00000-eda721fc-d305-4db5-941e-c76906a0a539_00009.c000.snappy.parquet.crc\n",
      "part-00000-eda721fc-d305-4db5-941e-c76906a0a539_00001.c000.snappy.parquet\n",
      "part-00000-eda721fc-d305-4db5-941e-c76906a0a539_00000.c000.snappy.parquet\n",
      ".part-00000-eda721fc-d305-4db5-941e-c76906a0a539_00006.c000.snappy.parquet.crc\n",
      "_SUCCESS\n",
      ".part-00000-eda721fc-d305-4db5-941e-c76906a0a539_00005.c000.snappy.parquet.crc\n",
      "part-00000-eda721fc-d305-4db5-941e-c76906a0a539_00008.c000.snappy.parquet\n",
      ".part-00000-eda721fc-d305-4db5-941e-c76906a0a539_00001.c000.snappy.parquet.crc\n",
      "part-00000-eda721fc-d305-4db5-941e-c76906a0a539_00009.c000.snappy.parquet\n"
     ]
    }
   ],
   "source": [
    "# stored in spark-warehouse local dir or /user/hive/warehouse on a cluster\n",
    "for i in os.listdir(\"/Users/grp/sparkNotebooks/spark-warehouse/bucketedfiles/\"): print(i)"
   ]
  },
  {
   "cell_type": "markdown",
   "metadata": {},
   "source": [
    "## _Chapter #10 - Spark SQL_"
   ]
  },
  {
   "cell_type": "markdown",
   "metadata": {},
   "source": [
    "-  ability to run SQL queries against views or tables in databases\n",
    "-  SQL or \"Structured Query Language\" is a language expressing relational operations over data (manipulations, definitions, controls)\n",
    "-  supports both ANSI-SQL and HiveQL queries\n",
    "-  intended to operate as an OLAP DB not a OLTP DB for low-latency queries\n",
    "-  a Spark SQL CLI is available via ./bin/spark-sql\n",
    "-  ad hoc Spark SQL via SparkSession as spark.sql(...)\n",
    "-  includes an JDBC/ODBC server started via ./sbin/start-thriftserver.sh\n",
    "\n",
    "### Spark's Relationship to Hive:\n",
    "-  connects to Hive metastores (where Hive maintains table information)  \n",
    "-  configure Hive with Spark by placing hive-site.xml, core-site.xml, and hdfs-site.xml files in conf/\n",
    "\n",
    "### Catalog:\n",
    "-  stores metadata about data stored in tables, databases, functions, views\n",
    "-  available in the _org.apache.spark.sql.catalog.Catalog_ package\n",
    "\n",
    "### Tables:\n",
    "-  structure of data\n",
    "-  hold information - data and metadata (data about the tables)\n",
    "-  tables are defined in database and dataframes are defined within programming language code\n",
    "-  tables will be assigned a database (_default_ is default database) ... \"show tables in DATABASENAME\"\n",
    "-  Types:\n",
    "    -  Managed:\n",
    "        -  saveAsTable on DF\n",
    "        -  writes to default Hive Warehouse location (/user/hive/warehouse)\n",
    "    -  Unmanaged:\n",
    "        - define a table structure from files on disk\n",
    "\n",
    "### Dropping Tables:\n",
    "-  dropping a managed table the data and the table definition will be removed\n",
    "-  \"DROP TABLE IF EXISTS\" will delete the table and the data if the table exists\n",
    "-  dropping a unmanaged table the underlying table will be removed however the data will still exist in linked directory\n",
    "\n",
    "### Metadata:\n",
    "-  can describe the table's metadata\n",
    "-  REFRESH TABLE refreshes all cached files linked to table\n",
    "-  REPAIR TABLE refreshes partitions / collects new partitions maintained in the Catalog\n",
    "\n",
    "### Views:\n",
    "-  set of transformations (saved query) on top of an existing table\n",
    "-  equivalent to creating a new DF from an existing DF\n",
    "-  when dropping a VIEW the underlying data is not removed just the view definition itself\n",
    "-  Types:\n",
    "    -  global [viewable across entire Spark Application however removed at end of session] (GLOBAL TEMPORARY VIEW)\n",
    "    -  set to a database\n",
    "    -  per session [only available during current sesion and not registered to a database] (TEMPORARY VIEW)\n",
    "    \n",
    "### Databases:\n",
    "-  organize tables\n",
    "\n",
    "### Spark SQL Complex Types:\n",
    "-  structs [provide a way of creating or querying nested data in Spark]\n",
    "-  lists [array]\n",
    "-  maps\n",
    "\n",
    "### Functions:\n",
    "-  system functions as well as user defined functions\n",
    "\n",
    "### Subqueries:\n",
    "-  queries within other queries\n",
    "-  Kinds:\n",
    "    -  correlated subqueries [use logic from outer scope of query in inner query to suplement information in subquery]\n",
    "    -  uncorrelated subqueries [includes no information from the outer scope of the query]\n",
    "    -  predicate subqueries [filtering based on values]"
   ]
  },
  {
   "cell_type": "markdown",
   "metadata": {},
   "source": [
    "### _Chapter #10 Exercises (SQL)_"
   ]
  },
  {
   "cell_type": "code",
   "execution_count": 277,
   "metadata": {},
   "outputs": [
    {
     "data": {
      "text/plain": [
       "DataFrame[]"
      ]
     },
     "execution_count": 277,
     "metadata": {},
     "output_type": "execute_result"
    }
   ],
   "source": [
    "spark.sql(\"drop database if exists sparkSQL CASCADE\")\n",
    "spark.sql(\"create database sparkSQL\")\n",
    "spark.sql(\"use sparkSQL\")"
   ]
  },
  {
   "cell_type": "code",
   "execution_count": 278,
   "metadata": {},
   "outputs": [
    {
     "data": {
      "text/plain": [
       "DataFrame[]"
      ]
     },
     "execution_count": 278,
     "metadata": {},
     "output_type": "execute_result"
    }
   ],
   "source": [
    "spark.sql(\"drop table if exists flights_from_select\")\n",
    "spark.sql(\"drop table if exists flights\")\n",
    "spark.sql(\"drop table if exists flights_csv\")\n",
    "spark.sql(\"drop table if exists hive_flights\")\n",
    "spark.sql(\"drop table if exists partitioned_flights\")\n",
    "spark.sql(\"drop table if exists nested_data\")\n",
    "spark.sql(\"drop table if exists just_usa_view\")\n",
    "spark.sql(\"drop table if exists just_usa_view_temp\")"
   ]
  },
  {
   "cell_type": "markdown",
   "metadata": {},
   "source": [
    "### _Spark DF and SQL Integration Example_"
   ]
  },
  {
   "cell_type": "code",
   "execution_count": 279,
   "metadata": {
    "collapsed": true
   },
   "outputs": [],
   "source": [
    "spark.read.json(flightDataJson2015).createOrReplaceTempView(\"some_sql_view\") # DF => SQL"
   ]
  },
  {
   "cell_type": "code",
   "execution_count": 280,
   "metadata": {},
   "outputs": [
    {
     "data": {
      "text/plain": [
       "12"
      ]
     },
     "execution_count": 280,
     "metadata": {},
     "output_type": "execute_result"
    }
   ],
   "source": [
    "spark.sql\\\n",
    "(\n",
    "\"\"\"\n",
    "SELECT DEST_COUNTRY_NAME, sum(count)\n",
    "FROM some_sql_view GROUP BY DEST_COUNTRY_NAME\n",
    "\"\"\"\n",
    ")\\\n",
    ".where(\"DEST_COUNTRY_NAME like 'S%'\").where(\"`sum(count)` > 10\")\\\n",
    ".count() # SQL => DF"
   ]
  },
  {
   "cell_type": "markdown",
   "metadata": {},
   "source": [
    "### _Creating Spark Managed Tables Example_:\n",
    "-  USING syntax uses Spark Serialization whereas STORED AS uses Hive SerDe configuration which is much slower"
   ]
  },
  {
   "cell_type": "code",
   "execution_count": 281,
   "metadata": {},
   "outputs": [
    {
     "data": {
      "text/plain": [
       "DataFrame[]"
      ]
     },
     "execution_count": 281,
     "metadata": {},
     "output_type": "execute_result"
    }
   ],
   "source": [
    "spark.sql\\\n",
    "(\n",
    "\"\"\"\n",
    "CREATE TABLE flights (DEST_COUNTRY_NAME STRING, ORIGIN_COUNTRY_NAME STRING, count LONG)\n",
    "USING JSON OPTIONS (path '/Users/grp/sparkTheDefinitiveGuide/data/flight-data/json/2015-summary.json')\n",
    "\"\"\"\n",
    ")"
   ]
  },
  {
   "cell_type": "code",
   "execution_count": 282,
   "metadata": {},
   "outputs": [
    {
     "name": "stdout",
     "output_type": "stream",
     "text": [
      "+-------------------+---------+-------+\n",
      "|           col_name|data_type|comment|\n",
      "+-------------------+---------+-------+\n",
      "|  DEST_COUNTRY_NAME|   string|   null|\n",
      "|ORIGIN_COUNTRY_NAME|   string|   null|\n",
      "|              count|   bigint|   null|\n",
      "+-------------------+---------+-------+\n",
      "\n"
     ]
    }
   ],
   "source": [
    "spark.sql(\"describe flights\").show()"
   ]
  },
  {
   "cell_type": "code",
   "execution_count": 283,
   "metadata": {},
   "outputs": [
    {
     "name": "stdout",
     "output_type": "stream",
     "text": [
      "+-----------------+-------------------+-----+\n",
      "|DEST_COUNTRY_NAME|ORIGIN_COUNTRY_NAME|count|\n",
      "+-----------------+-------------------+-----+\n",
      "|    United States|            Romania|   15|\n",
      "|    United States|            Croatia|    1|\n",
      "|    United States|            Ireland|  344|\n",
      "+-----------------+-------------------+-----+\n",
      "only showing top 3 rows\n",
      "\n"
     ]
    }
   ],
   "source": [
    "spark.sql(\"select * from flights\").show(3)"
   ]
  },
  {
   "cell_type": "code",
   "execution_count": 284,
   "metadata": {},
   "outputs": [
    {
     "data": {
      "text/plain": [
       "DataFrame[]"
      ]
     },
     "execution_count": 284,
     "metadata": {},
     "output_type": "execute_result"
    }
   ],
   "source": [
    "spark.sql\\\n",
    "(\n",
    "\"\"\"\n",
    "CREATE TABLE flights_csv (DEST_COUNTRY_NAME STRING, ORIGIN_COUNTRY_NAME STRING COMMENT \"remember, the US will be most prevalent\",\n",
    "count LONG) USING csv OPTIONS (header true, path '/Users/grp/sparkTheDefinitiveGuide/data/flight-data/csv/2015-summary.csv')\n",
    "\"\"\"\n",
    ")"
   ]
  },
  {
   "cell_type": "code",
   "execution_count": 285,
   "metadata": {},
   "outputs": [
    {
     "name": "stdout",
     "output_type": "stream",
     "text": [
      "+-------------------+---------+---------------------------------------+\n",
      "|col_name           |data_type|comment                                |\n",
      "+-------------------+---------+---------------------------------------+\n",
      "|DEST_COUNTRY_NAME  |string   |null                                   |\n",
      "|ORIGIN_COUNTRY_NAME|string   |remember, the US will be most prevalent|\n",
      "|count              |bigint   |null                                   |\n",
      "+-------------------+---------+---------------------------------------+\n",
      "\n"
     ]
    }
   ],
   "source": [
    "spark.sql(\"describe flights_csv\").show(truncate=False)"
   ]
  },
  {
   "cell_type": "code",
   "execution_count": 286,
   "metadata": {},
   "outputs": [
    {
     "name": "stdout",
     "output_type": "stream",
     "text": [
      "+-----------------+-------------------+-----+\n",
      "|DEST_COUNTRY_NAME|ORIGIN_COUNTRY_NAME|count|\n",
      "+-----------------+-------------------+-----+\n",
      "|    United States|            Romania|   15|\n",
      "|    United States|            Croatia|    1|\n",
      "|    United States|            Ireland|  344|\n",
      "+-----------------+-------------------+-----+\n",
      "only showing top 3 rows\n",
      "\n"
     ]
    }
   ],
   "source": [
    "spark.sql(\"select * from flights_csv\").show(3)"
   ]
  },
  {
   "cell_type": "code",
   "execution_count": 287,
   "metadata": {},
   "outputs": [
    {
     "data": {
      "text/plain": [
       "DataFrame[]"
      ]
     },
     "execution_count": 287,
     "metadata": {},
     "output_type": "execute_result"
    }
   ],
   "source": [
    "spark.sql(\"CREATE TABLE flights_from_select USING parquet AS SELECT * FROM flights\")\n",
    "spark.sql(\"CREATE TABLE IF NOT EXISTS flights_from_select AS SELECT * FROM flights\")"
   ]
  },
  {
   "cell_type": "markdown",
   "metadata": {},
   "source": [
    "### _Creating Spark Managed Partitioned Table Example_"
   ]
  },
  {
   "cell_type": "code",
   "execution_count": 288,
   "metadata": {},
   "outputs": [
    {
     "data": {
      "text/plain": [
       "DataFrame[]"
      ]
     },
     "execution_count": 288,
     "metadata": {},
     "output_type": "execute_result"
    }
   ],
   "source": [
    "spark.sql\\\n",
    "(\n",
    "\"\"\"\n",
    "CREATE TABLE partitioned_flights USING parquet PARTITIONED BY (DEST_COUNTRY_NAME)\n",
    "AS SELECT DEST_COUNTRY_NAME, ORIGIN_COUNTRY_NAME, count FROM flights\n",
    "\"\"\"\n",
    ")"
   ]
  },
  {
   "cell_type": "code",
   "execution_count": 289,
   "metadata": {},
   "outputs": [
    {
     "name": "stdout",
     "output_type": "stream",
     "text": [
      "+-------------------+-----+-----------------+\n",
      "|ORIGIN_COUNTRY_NAME|count|DEST_COUNTRY_NAME|\n",
      "+-------------------+-----+-----------------+\n",
      "|            Romania|   15|    United States|\n",
      "|            Croatia|    1|    United States|\n",
      "|            Ireland|  344|    United States|\n",
      "+-------------------+-----+-----------------+\n",
      "only showing top 3 rows\n",
      "\n"
     ]
    }
   ],
   "source": [
    "spark.sql(\"select * from partitioned_flights\").show(3)"
   ]
  },
  {
   "cell_type": "code",
   "execution_count": 290,
   "metadata": {},
   "outputs": [
    {
     "name": "stdout",
     "output_type": "stream",
     "text": [
      "+-----------------------+---------+-------+\n",
      "|col_name               |data_type|comment|\n",
      "+-----------------------+---------+-------+\n",
      "|ORIGIN_COUNTRY_NAME    |string   |null   |\n",
      "|count                  |bigint   |null   |\n",
      "|DEST_COUNTRY_NAME      |string   |null   |\n",
      "|# Partition Information|         |       |\n",
      "|# col_name             |data_type|comment|\n",
      "|DEST_COUNTRY_NAME      |string   |null   |\n",
      "+-----------------------+---------+-------+\n",
      "\n"
     ]
    }
   ],
   "source": [
    "spark.sql(\"describe partitioned_flights\").show(truncate=False)"
   ]
  },
  {
   "cell_type": "code",
   "execution_count": 291,
   "metadata": {},
   "outputs": [
    {
     "name": "stdout",
     "output_type": "stream",
     "text": [
      "+--------------------------+\n",
      "|partition                 |\n",
      "+--------------------------+\n",
      "|DEST_COUNTRY_NAME=Algeria |\n",
      "|DEST_COUNTRY_NAME=Angola  |\n",
      "|DEST_COUNTRY_NAME=Anguilla|\n",
      "+--------------------------+\n",
      "only showing top 3 rows\n",
      "\n"
     ]
    }
   ],
   "source": [
    "spark.sql(\"show PARTITIONS partitioned_flights\").show(3, truncate=False)"
   ]
  },
  {
   "cell_type": "markdown",
   "metadata": {},
   "source": [
    "### _Creating External Table Example_"
   ]
  },
  {
   "cell_type": "code",
   "execution_count": 292,
   "metadata": {},
   "outputs": [
    {
     "data": {
      "text/plain": [
       "DataFrame[]"
      ]
     },
     "execution_count": 292,
     "metadata": {},
     "output_type": "execute_result"
    }
   ],
   "source": [
    "spark.sql\\\n",
    "(\n",
    "\"\"\"\n",
    "CREATE EXTERNAL TABLE hive_flights (DEST_COUNTRY_NAME STRING, ORIGIN_COUNTRY_NAME STRING, count LONG)\n",
    "ROW FORMAT DELIMITED FIELDS TERMINATED BY ',' LOCATION '/Users/grp/sparkTheDefinitiveGuide/data/flight-data-hive/'\n",
    "\"\"\"\n",
    ")"
   ]
  },
  {
   "cell_type": "code",
   "execution_count": 293,
   "metadata": {},
   "outputs": [
    {
     "name": "stdout",
     "output_type": "stream",
     "text": [
      "+--------+-------------------+-----------+\n",
      "|database|          tableName|isTemporary|\n",
      "+--------+-------------------+-----------+\n",
      "|sparksql|            flights|      false|\n",
      "|sparksql|        flights_csv|      false|\n",
      "|sparksql|flights_from_select|      false|\n",
      "|sparksql|       hive_flights|      false|\n",
      "|sparksql|partitioned_flights|      false|\n",
      "|        |          complexdf|       true|\n",
      "|        |         datatable2|       true|\n",
      "|        |          datetable|       true|\n",
      "|        |           dfnonull|       true|\n",
      "|        |            dftable|       true|\n",
      "|        |         dfwithdate|       true|\n",
      "|        |    graduateprogram|       true|\n",
      "|        |             person|       true|\n",
      "|        |      some_sql_view|       true|\n",
      "|        |        sparkstatus|       true|\n",
      "+--------+-------------------+-----------+\n",
      "\n"
     ]
    }
   ],
   "source": [
    "spark.sql(\"show tables\").show()"
   ]
  },
  {
   "cell_type": "markdown",
   "metadata": {},
   "source": [
    "### _Insert and Insert Partition Example_"
   ]
  },
  {
   "cell_type": "code",
   "execution_count": 294,
   "metadata": {},
   "outputs": [
    {
     "data": {
      "text/plain": [
       "DataFrame[]"
      ]
     },
     "execution_count": 294,
     "metadata": {},
     "output_type": "execute_result"
    }
   ],
   "source": [
    "spark.sql\\\n",
    "(\n",
    "\"\"\"\n",
    "INSERT INTO flights_from_select SELECT DEST_COUNTRY_NAME, ORIGIN_COUNTRY_NAME, count FROM flights\n",
    "\"\"\"\n",
    ")"
   ]
  },
  {
   "cell_type": "code",
   "execution_count": 295,
   "metadata": {},
   "outputs": [
    {
     "data": {
      "text/plain": [
       "DataFrame[]"
      ]
     },
     "execution_count": 295,
     "metadata": {},
     "output_type": "execute_result"
    }
   ],
   "source": [
    "spark.sql\\\n",
    "(\n",
    "\"\"\"\n",
    "INSERT INTO partitioned_flights\n",
    "PARTITION (DEST_COUNTRY_NAME=\"UNITED STATES\")\n",
    "SELECT count, ORIGIN_COUNTRY_NAME FROM flights\n",
    "WHERE DEST_COUNTRY_NAME='UNITED STATES'\n",
    "\"\"\"\n",
    ")"
   ]
  },
  {
   "cell_type": "markdown",
   "metadata": {},
   "source": [
    "### _Metadata Example_"
   ]
  },
  {
   "cell_type": "code",
   "execution_count": 296,
   "metadata": {},
   "outputs": [
    {
     "data": {
      "text/plain": [
       "DataFrame[]"
      ]
     },
     "execution_count": 296,
     "metadata": {},
     "output_type": "execute_result"
    }
   ],
   "source": [
    "spark.sql(\"REFRESH table partitioned_flights\")\n",
    "spark.sql(\"MSCK REPAIR TABLE partitioned_flights\")"
   ]
  },
  {
   "cell_type": "markdown",
   "metadata": {},
   "source": [
    "### _Dropping Tables Example_"
   ]
  },
  {
   "cell_type": "code",
   "execution_count": 297,
   "metadata": {},
   "outputs": [
    {
     "data": {
      "text/plain": [
       "'\\nspark.sql(\"DROP TABLE flights\")\\nspark.sql(\"DROP TABLE IF EXISTS flights\")\\n'"
      ]
     },
     "execution_count": 297,
     "metadata": {},
     "output_type": "execute_result"
    }
   ],
   "source": [
    "'''\n",
    "spark.sql(\"DROP TABLE flights\")\n",
    "spark.sql(\"DROP TABLE IF EXISTS flights\")\n",
    "'''"
   ]
  },
  {
   "cell_type": "markdown",
   "metadata": {},
   "source": [
    "### _Cache/UnCache Tables Example_"
   ]
  },
  {
   "cell_type": "code",
   "execution_count": 298,
   "metadata": {},
   "outputs": [
    {
     "data": {
      "text/plain": [
       "'\\nspark.sql(\"CACHE TABLE flights\")\\nspark.sql(\"UNCACHE TABLE flights\")\\n'"
      ]
     },
     "execution_count": 298,
     "metadata": {},
     "output_type": "execute_result"
    }
   ],
   "source": [
    "'''\n",
    "spark.sql(\"CACHE TABLE flights\")\n",
    "spark.sql(\"UNCACHE TABLE flights\")\n",
    "'''"
   ]
  },
  {
   "cell_type": "markdown",
   "metadata": {},
   "source": [
    "### _Views Example_"
   ]
  },
  {
   "cell_type": "code",
   "execution_count": 299,
   "metadata": {},
   "outputs": [
    {
     "data": {
      "text/plain": [
       "DataFrame[]"
      ]
     },
     "execution_count": 299,
     "metadata": {},
     "output_type": "execute_result"
    }
   ],
   "source": [
    "spark.sql(\"\"\"\n",
    "CREATE VIEW just_usa_view AS\n",
    "SELECT * FROM flights WHERE dest_country_name = 'United States'\n",
    "\"\"\")\n",
    "\n",
    "spark.sql(\"\"\"\n",
    "CREATE TEMP VIEW just_usa_view_temp AS\n",
    "SELECT * FROM flights WHERE dest_country_name = 'United States'\n",
    "\"\"\")\n",
    "\n",
    "spark.sql(\"\"\"\n",
    "CREATE GLOBAL TEMP VIEW just_usa_global_view_temp AS\n",
    "SELECT * FROM flights WHERE dest_country_name = 'United States'\n",
    "\"\"\")\n",
    "\n",
    "spark.sql(\"\"\"\n",
    "CREATE OR REPLACE TEMP VIEW just_usa_view_temp AS\n",
    "SELECT * FROM flights WHERE dest_country_name = 'United States'\n",
    "\"\"\")"
   ]
  },
  {
   "cell_type": "code",
   "execution_count": 300,
   "metadata": {},
   "outputs": [
    {
     "name": "stdout",
     "output_type": "stream",
     "text": [
      "+--------+-------------------+-----------+\n",
      "|database|          tableName|isTemporary|\n",
      "+--------+-------------------+-----------+\n",
      "|sparksql|            flights|      false|\n",
      "|sparksql|        flights_csv|      false|\n",
      "|sparksql|flights_from_select|      false|\n",
      "|sparksql|       hive_flights|      false|\n",
      "|sparksql|      just_usa_view|      false|\n",
      "|sparksql|partitioned_flights|      false|\n",
      "|        |          complexdf|       true|\n",
      "|        |         datatable2|       true|\n",
      "|        |          datetable|       true|\n",
      "|        |           dfnonull|       true|\n",
      "|        |            dftable|       true|\n",
      "|        |         dfwithdate|       true|\n",
      "|        |    graduateprogram|       true|\n",
      "|        | just_usa_view_temp|       true|\n",
      "|        |             person|       true|\n",
      "|        |      some_sql_view|       true|\n",
      "|        |        sparkstatus|       true|\n",
      "+--------+-------------------+-----------+\n",
      "\n"
     ]
    }
   ],
   "source": [
    "spark.sql(\"show tables\").show()"
   ]
  },
  {
   "cell_type": "markdown",
   "metadata": {},
   "source": [
    "### _Database Example_"
   ]
  },
  {
   "cell_type": "code",
   "execution_count": 301,
   "metadata": {},
   "outputs": [
    {
     "data": {
      "text/plain": [
       "'\\nspark.sql(\"show databases\").show()\\nspark.sql(\"create database example\")\\nspark.sql(\"use example\")\\nspark.sql(\"select * from table\").show()\\nspark.sql(\"select * from example.table\").show()\\nspark.sql(\"select current_database()\").show()\\nspark.sql(\"drop database if exists example\")\\n'"
      ]
     },
     "execution_count": 301,
     "metadata": {},
     "output_type": "execute_result"
    }
   ],
   "source": [
    "'''\n",
    "spark.sql(\"show databases\").show()\n",
    "spark.sql(\"create database example\")\n",
    "spark.sql(\"use example\")\n",
    "spark.sql(\"select * from table\").show()\n",
    "spark.sql(\"select * from example.table\").show()\n",
    "spark.sql(\"select current_database()\").show()\n",
    "spark.sql(\"drop database if exists example\")\n",
    "'''"
   ]
  },
  {
   "cell_type": "code",
   "execution_count": 302,
   "metadata": {},
   "outputs": [
    {
     "name": "stdout",
     "output_type": "stream",
     "text": [
      "+------------------+\n",
      "|current_database()|\n",
      "+------------------+\n",
      "|          sparksql|\n",
      "+------------------+\n",
      "\n"
     ]
    }
   ],
   "source": [
    "spark.sql(\"select current_database()\").show()"
   ]
  },
  {
   "cell_type": "markdown",
   "metadata": {},
   "source": [
    "### _Select Statements Example_"
   ]
  },
  {
   "cell_type": "code",
   "execution_count": 303,
   "metadata": {},
   "outputs": [
    {
     "data": {
      "text/plain": [
       "'\\nSELECT [ALL|DISTINCT] named_expression[, named_expression, ...]\\n    FROM relation[, relation, ...]\\n    [lateral_view[, lateral_view, ...]]\\n    [WHERE boolean_expression]\\n    [aggregation [HAVING boolean_expression]]\\n    [ORDER BY sort_expressions]\\n    [CLUSTER BY expressions]\\n    [DISTRIBUTE BY expressions]\\n    [SORT BY sort_expressions]\\n    [WINDOW named_window[, WINDOW named_window, ...]]\\n    [LIMIT num_rows]\\n\\nnamed_expression:\\n    : expression [AS alias]\\n\\nrelation:\\n    | join_relation\\n    | (table_name|query|relation) [sample] [AS alias]\\n    : VALUES (expressions)[, (expressions), ...]\\n          [AS (column_name[, column_name, ...])]\\n\\nexpressions:\\n    : expression[, expression, ...]\\n\\nsort_expressions:\\n    : expression [ASC|DESC][, expression [ASC|DESC], ...]\\n'"
      ]
     },
     "execution_count": 303,
     "metadata": {},
     "output_type": "execute_result"
    }
   ],
   "source": [
    "'''\n",
    "SELECT [ALL|DISTINCT] named_expression[, named_expression, ...]\n",
    "    FROM relation[, relation, ...]\n",
    "    [lateral_view[, lateral_view, ...]]\n",
    "    [WHERE boolean_expression]\n",
    "    [aggregation [HAVING boolean_expression]]\n",
    "    [ORDER BY sort_expressions]\n",
    "    [CLUSTER BY expressions]\n",
    "    [DISTRIBUTE BY expressions]\n",
    "    [SORT BY sort_expressions]\n",
    "    [WINDOW named_window[, WINDOW named_window, ...]]\n",
    "    [LIMIT num_rows]\n",
    "\n",
    "named_expression:\n",
    "    : expression [AS alias]\n",
    "\n",
    "relation:\n",
    "    | join_relation\n",
    "    | (table_name|query|relation) [sample] [AS alias]\n",
    "    : VALUES (expressions)[, (expressions), ...]\n",
    "          [AS (column_name[, column_name, ...])]\n",
    "\n",
    "expressions:\n",
    "    : expression[, expression, ...]\n",
    "\n",
    "sort_expressions:\n",
    "    : expression [ASC|DESC][, expression [ASC|DESC], ...]\n",
    "'''"
   ]
  },
  {
   "cell_type": "markdown",
   "metadata": {},
   "source": [
    "### _CASE ... WHEN ... THEN Statements Example_"
   ]
  },
  {
   "cell_type": "code",
   "execution_count": 304,
   "metadata": {},
   "outputs": [
    {
     "name": "stdout",
     "output_type": "stream",
     "text": [
      "+--------------------------------------------------------------------------------------------------------+\n",
      "|CASE WHEN (DEST_COUNTRY_NAME = UNITED STATES) THEN 1 WHEN (DEST_COUNTRY_NAME = Egypt) THEN 0 ELSE -1 END|\n",
      "+--------------------------------------------------------------------------------------------------------+\n",
      "|                                                                                                      -1|\n",
      "|                                                                                                      -1|\n",
      "|                                                                                                      -1|\n",
      "+--------------------------------------------------------------------------------------------------------+\n",
      "only showing top 3 rows\n",
      "\n"
     ]
    }
   ],
   "source": [
    "spark.sql(\"\"\"\n",
    "SELECT\n",
    "  CASE WHEN DEST_COUNTRY_NAME = 'UNITED STATES' THEN 1\n",
    "       WHEN DEST_COUNTRY_NAME = 'Egypt' THEN 0\n",
    "       ELSE -1 END\n",
    "FROM partitioned_flights\n",
    "\"\"\").show(3)"
   ]
  },
  {
   "cell_type": "markdown",
   "metadata": {},
   "source": [
    "### _Structs Example_"
   ]
  },
  {
   "cell_type": "code",
   "execution_count": 305,
   "metadata": {},
   "outputs": [
    {
     "name": "stdout",
     "output_type": "stream",
     "text": [
      "+------------------------+-----+\n",
      "|country                 |count|\n",
      "+------------------------+-----+\n",
      "|[United States, Romania]|15   |\n",
      "|[United States, Croatia]|1    |\n",
      "|[United States, Ireland]|344  |\n",
      "+------------------------+-----+\n",
      "only showing top 3 rows\n",
      "\n",
      "+-----------------+-----+\n",
      "|DEST_COUNTRY_NAME|count|\n",
      "+-----------------+-----+\n",
      "|United States    |15   |\n",
      "|United States    |1    |\n",
      "|United States    |344  |\n",
      "+-----------------+-----+\n",
      "only showing top 3 rows\n",
      "\n",
      "+-----------------+-------------------+-----+\n",
      "|DEST_COUNTRY_NAME|ORIGIN_COUNTRY_NAME|count|\n",
      "+-----------------+-------------------+-----+\n",
      "|United States    |Romania            |15   |\n",
      "|United States    |Croatia            |1    |\n",
      "|United States    |Ireland            |344  |\n",
      "+-----------------+-------------------+-----+\n",
      "only showing top 3 rows\n",
      "\n"
     ]
    }
   ],
   "source": [
    "spark\\\n",
    ".sql(\\\n",
    "    \"\"\"\n",
    "    CREATE VIEW IF NOT EXISTS nested_data AS\n",
    "    SELECT (DEST_COUNTRY_NAME, ORIGIN_COUNTRY_NAME) as country, count FROM flights\n",
    "    \"\"\")\n",
    "spark.sql(\"select * from nested_data\").show(3, False)\n",
    "spark.sql(\"select country.DEST_COUNTRY_NAME, count from nested_data\").show(3, False)\n",
    "spark.sql(\"select country.*, count from nested_data\").show(3, False)"
   ]
  },
  {
   "cell_type": "markdown",
   "metadata": {},
   "source": [
    "### _Lists Example_"
   ]
  },
  {
   "cell_type": "code",
   "execution_count": 306,
   "metadata": {
    "scrolled": false
   },
   "outputs": [
    {
     "name": "stdout",
     "output_type": "stream",
     "text": [
      "+--------+-------------+---------------+\n",
      "|new_name|flight_counts|origin_set     |\n",
      "+--------+-------------+---------------+\n",
      "|Algeria |[4]          |[United States]|\n",
      "|Angola  |[15]         |[United States]|\n",
      "|Austria |[62]         |[United States]|\n",
      "+--------+-------------+---------------+\n",
      "only showing top 3 rows\n",
      "\n",
      "+-----------------+--------------+\n",
      "|DEST_COUNTRY_NAME|array(1, 2, 3)|\n",
      "+-----------------+--------------+\n",
      "|United States    |[1, 2, 3]     |\n",
      "|United States    |[1, 2, 3]     |\n",
      "|United States    |[1, 2, 3]     |\n",
      "+-----------------+--------------+\n",
      "only showing top 3 rows\n",
      "\n",
      "+--------+----------------------+\n",
      "|new_name|collect_list(count)[0]|\n",
      "+--------+----------------------+\n",
      "|Algeria |4                     |\n",
      "|Angola  |15                    |\n",
      "|Austria |62                    |\n",
      "+--------+----------------------+\n",
      "only showing top 3 rows\n",
      "\n",
      "+---+-----------------+\n",
      "|col|DEST_COUNTRY_NAME|\n",
      "+---+-----------------+\n",
      "|4  |Algeria          |\n",
      "|15 |Angola           |\n",
      "|62 |Austria          |\n",
      "+---+-----------------+\n",
      "only showing top 3 rows\n",
      "\n"
     ]
    }
   ],
   "source": [
    "spark\\\n",
    ".sql(\\\n",
    "    \"\"\"\n",
    "    SELECT DEST_COUNTRY_NAME as new_name, collect_list(count) as flight_counts,\n",
    "    collect_set(ORIGIN_COUNTRY_NAME) as origin_set\n",
    "    FROM flights GROUP BY DEST_COUNTRY_NAME\n",
    "    \"\"\")\\\n",
    ".show(3, False)\n",
    "\n",
    "spark.sql(\"SELECT DEST_COUNTRY_NAME, ARRAY(1, 2, 3) FROM flights\").show(3, False)\n",
    "\n",
    "spark\\\n",
    ".sql(\\\n",
    "    \"\"\"\n",
    "    SELECT DEST_COUNTRY_NAME as new_name, collect_list(count)[0]\n",
    "    FROM flights GROUP BY DEST_COUNTRY_NAME\n",
    "    \"\"\")\\\n",
    ".show(3, False)\n",
    "\n",
    "spark\\\n",
    ".sql(\\\n",
    "    \"\"\"\n",
    "    CREATE OR REPLACE TEMP VIEW flights_agg AS\n",
    "    SELECT DEST_COUNTRY_NAME, collect_list(count) as collected_counts\n",
    "    FROM flights GROUP BY DEST_COUNTRY_NAME\n",
    "    \"\"\")\n",
    "\n",
    "spark.sql(\"SELECT explode(collected_counts), DEST_COUNTRY_NAME FROM flights_agg\").show(3, False)"
   ]
  },
  {
   "cell_type": "markdown",
   "metadata": {},
   "source": [
    "### _Function Example_"
   ]
  },
  {
   "cell_type": "code",
   "execution_count": 307,
   "metadata": {},
   "outputs": [
    {
     "name": "stdout",
     "output_type": "stream",
     "text": [
      "+--------+\n",
      "|function|\n",
      "+--------+\n",
      "|       !|\n",
      "|       %|\n",
      "|       &|\n",
      "+--------+\n",
      "only showing top 3 rows\n",
      "\n",
      "+--------+\n",
      "|function|\n",
      "+--------+\n",
      "|       !|\n",
      "|       %|\n",
      "|       &|\n",
      "+--------+\n",
      "only showing top 3 rows\n",
      "\n",
      "+--------+\n",
      "|function|\n",
      "+--------+\n",
      "|power3py|\n",
      "+--------+\n",
      "\n",
      "+---------+\n",
      "| function|\n",
      "+---------+\n",
      "|   second|\n",
      "|sentences|\n",
      "|      sha|\n",
      "+---------+\n",
      "only showing top 3 rows\n",
      "\n",
      "+------------+\n",
      "|    function|\n",
      "+------------+\n",
      "|collect_list|\n",
      "| collect_set|\n",
      "+------------+\n",
      "\n"
     ]
    },
    {
     "data": {
      "text/plain": [
       "[Row(function_desc='Function: collect_list'),\n",
       " Row(function_desc='Class: org.apache.spark.sql.catalyst.expressions.aggregate.CollectList'),\n",
       " Row(function_desc='Usage: collect_list(expr) - Collects and returns a list of non-unique elements.')]"
      ]
     },
     "execution_count": 307,
     "metadata": {},
     "output_type": "execute_result"
    }
   ],
   "source": [
    "spark.sql(\"SHOW FUNCTIONS\").show(3) # list of spark functions\n",
    "spark.sql(\"SHOW SYSTEM FUNCTIONS\").show(3) # spark built in functions\n",
    "spark.sql(\"SHOW USER FUNCTIONS\").show(3) # user defined functions\n",
    "spark.sql(\"SHOW FUNCTIONS 's*'\").show(3) # functions that begin with 's'\n",
    "spark.sql(\"SHOW FUNCTIONS LIKE 'collect*'\").show(3) # functions that contain 'collect'\n",
    "spark.sql(\"DESCRIBE FUNCTION collect_list\").collect() # describes function"
   ]
  },
  {
   "cell_type": "markdown",
   "metadata": {},
   "source": [
    "### _Subquery Example_:\n",
    "-  correlated subqueries\n",
    "-  uncorrelated subqueries\n",
    "-  predicate subqueries"
   ]
  },
  {
   "cell_type": "code",
   "execution_count": 308,
   "metadata": {},
   "outputs": [
    {
     "name": "stdout",
     "output_type": "stream",
     "text": [
      "uncorrelated predicate subquery:\n",
      "+-----------------+\n",
      "|dest_country_name|\n",
      "+-----------------+\n",
      "|United States    |\n",
      "|Canada           |\n",
      "|Mexico           |\n",
      "|United Kingdom   |\n",
      "|Japan            |\n",
      "+-----------------+\n",
      "\n",
      "+-----------------+-------------------+-----+\n",
      "|DEST_COUNTRY_NAME|ORIGIN_COUNTRY_NAME|count|\n",
      "+-----------------+-------------------+-----+\n",
      "|Egypt            |United States      |15   |\n",
      "|Costa Rica       |United States      |588  |\n",
      "|Senegal          |United States      |40   |\n",
      "+-----------------+-------------------+-----+\n",
      "only showing top 3 rows\n",
      "\n",
      "correlated predicate subquery:\n",
      "+-----------------+-------------------+-----+\n",
      "|DEST_COUNTRY_NAME|ORIGIN_COUNTRY_NAME|count|\n",
      "+-----------------+-------------------+-----+\n",
      "|United States    |Romania            |15   |\n",
      "|United States    |Croatia            |1    |\n",
      "|United States    |Ireland            |344  |\n",
      "+-----------------+-------------------+-----+\n",
      "only showing top 3 rows\n",
      "\n",
      "uncorrelated scalar queries:\n",
      "+-----------------+-------------------+-----+-------+\n",
      "|DEST_COUNTRY_NAME|ORIGIN_COUNTRY_NAME|count|maximum|\n",
      "+-----------------+-------------------+-----+-------+\n",
      "|United States    |Romania            |15   |370002 |\n",
      "|United States    |Croatia            |1    |370002 |\n",
      "|United States    |Ireland            |344  |370002 |\n",
      "+-----------------+-------------------+-----+-------+\n",
      "only showing top 3 rows\n",
      "\n"
     ]
    }
   ],
   "source": [
    "# uncorrelated predicate subquery\n",
    "print(\"uncorrelated predicate subquery:\")\n",
    "\n",
    "spark\\\n",
    ".sql(\\\n",
    "    \"\"\"\n",
    "    SELECT dest_country_name FROM flights\n",
    "        GROUP BY dest_country_name ORDER BY sum(count) DESC LIMIT 5\n",
    "    \"\"\")\\\n",
    ".show(5, False)\n",
    "\n",
    "spark\\\n",
    ".sql(\\\n",
    "    \"\"\"\n",
    "    SELECT * FROM flights WHERE origin_country_name IN \n",
    "        (SELECT dest_country_name FROM flights GROUP BY dest_country_name ORDER BY sum(count) DESC LIMIT 5)\n",
    "    \"\"\")\\\n",
    ".show(3, False)\n",
    "\n",
    "# correlated predicate subquery\n",
    "print(\"correlated predicate subquery:\")\n",
    "\n",
    "spark\\\n",
    ".sql(\\\n",
    "    \"\"\"\n",
    "    SELECT * FROM flights f1\n",
    "    WHERE EXISTS (SELECT 1 FROM flights f2\n",
    "                WHERE f1.dest_country_name = f2.origin_country_name)\n",
    "    AND EXISTS (SELECT 1 FROM flights f2\n",
    "                WHERE f2.dest_country_name = f1.origin_country_name)\n",
    "    \"\"\")\\\n",
    ".show(3, False)\n",
    "\n",
    "# uncorrelated scalar queries\n",
    "print(\"uncorrelated scalar queries:\")\n",
    "\n",
    "spark.sql(\"SELECT *, (SELECT max(count) FROM flights) AS maximum FROM flights\").show(3, False)"
   ]
  },
  {
   "cell_type": "markdown",
   "metadata": {},
   "source": [
    "### Spark SQL Configuration Example"
   ]
  },
  {
   "cell_type": "code",
   "execution_count": 309,
   "metadata": {},
   "outputs": [
    {
     "data": {
      "text/plain": [
       "DataFrame[key: string, value: string]"
      ]
     },
     "execution_count": 309,
     "metadata": {},
     "output_type": "execute_result"
    }
   ],
   "source": [
    "spark.sql(\"SET spark.sql.shuffle.partitions=8\")"
   ]
  },
  {
   "cell_type": "markdown",
   "metadata": {},
   "source": [
    "## _Chapter #11 - Datasets_"
   ]
  },
  {
   "cell_type": "markdown",
   "metadata": {
    "collapsed": true
   },
   "source": [
    "-  solely JVM language feature that only works with Scala and Java programming language\n",
    "-  ability to define the object that each row in your Dataset will consist of\n",
    "-  Scala:\n",
    "    -  define case class object that holds schema\n",
    "    -  Case Class:\n",
    "        -  immutable\n",
    "        -  comparison by structure (schema) instead of value\n",
    "-  Java:\n",
    "    -  define Java Bean\n",
    "-  Spark converts the Spark Row format to the object specified (Scala case class or Java class)"
   ]
  },
  {
   "cell_type": "markdown",
   "metadata": {},
   "source": [
    "### _Chapter #11 Exercises (Scala/Java Datasets)_"
   ]
  },
  {
   "cell_type": "code",
   "execution_count": 310,
   "metadata": {},
   "outputs": [
    {
     "data": {
      "text/plain": [
       "'\\ncase class Flight(DEST_COUNTRY_NAME: String,\\n                  ORIGIN_COUNTRY_NAME: String, count: BigInt)\\n\\n\\n// COMMAND ----------\\n\\nval flightsDF = spark.read\\n  .parquet(\"/data/flight-data/parquet/2010-summary.parquet/\")\\nval flights = flightsDF.as[Flight]\\n\\n\\n// COMMAND ----------\\n\\nflights.show(2)\\n\\n\\n// COMMAND ----------\\n\\nflights.first.DEST_COUNTRY_NAME // United States\\n\\n\\n// COMMAND ----------\\n\\ndef originIsDestination(flight_row: Flight): Boolean = {\\n  return flight_row.ORIGIN_COUNTRY_NAME == flight_row.DEST_COUNTRY_NAME\\n}\\n\\n\\n// COMMAND ----------\\n\\nflights.filter(flight_row => originIsDestination(flight_row)).first()\\n\\n\\n// COMMAND ----------\\n\\nflights.collect().filter(flight_row => originIsDestination(flight_row))\\n\\n\\n// COMMAND ----------\\n\\nval destinations = flights.map(f => f.DEST_COUNTRY_NAME)\\n\\n\\n// COMMAND ----------\\n\\nval localDestinations = destinations.take(5)\\n\\n\\n// COMMAND ----------\\n\\ncase class FlightMetadata(count: BigInt, randomData: BigInt)\\n\\nval flightsMeta = spark.range(500).map(x => (x, scala.util.Random.nextLong))\\n  .withColumnRenamed(\"_1\", \"count\").withColumnRenamed(\"_2\", \"randomData\")\\n  .as[FlightMetadata]\\n\\n\\n// COMMAND ----------\\n\\nval flights2 = flights\\n  .joinWith(flightsMeta, flights.col(\"count\") === flightsMeta.col(\"count\"))\\n\\n\\n// COMMAND ----------\\n\\nflights2.selectExpr(\"_1.DEST_COUNTRY_NAME\")\\n\\n\\n// COMMAND ----------\\n\\nflights2.take(2)\\n\\n\\n// COMMAND ----------\\n\\nval flights2 = flights.join(flightsMeta, Seq(\"count\"))\\n\\n\\n// COMMAND ----------\\n\\nval flights2 = flights.join(flightsMeta.toDF(), Seq(\"count\"))\\n\\n\\n// COMMAND ----------\\n\\nflights.groupBy(\"DEST_COUNTRY_NAME\").count()\\n\\n\\n// COMMAND ----------\\n\\nflights.groupByKey(x => x.DEST_COUNTRY_NAME).count()\\n\\n\\n// COMMAND ----------\\n\\nflights.groupByKey(x => x.DEST_COUNTRY_NAME).count().explain\\n\\n\\n// COMMAND ----------\\n\\ndef grpSum(countryName:String, values: Iterator[Flight]) = {\\n  values.dropWhile(_.count < 5).map(x => (countryName, x))\\n}\\nflights.groupByKey(x => x.DEST_COUNTRY_NAME).flatMapGroups(grpSum).show(5)\\n\\n\\n// COMMAND ----------\\n\\ndef grpSum2(f:Flight):Integer = {\\n  1\\n}\\nflights.groupByKey(x => x.DEST_COUNTRY_NAME).mapValues(grpSum2).count().take(5)\\n\\n\\n// COMMAND ----------\\n\\ndef sum2(left:Flight, right:Flight) = {\\n  Flight(left.DEST_COUNTRY_NAME, null, left.count + right.count)\\n}\\nflights.groupByKey(x => x.DEST_COUNTRY_NAME).reduceGroups((l, r) => sum2(l, r))\\n  .take(5)\\n\\n\\n// COMMAND ----------\\n\\nflights.groupBy(\"DEST_COUNTRY_NAME\").count().explain\\n\\n\\n// COMMAND ----------\\n\\n'"
      ]
     },
     "execution_count": 310,
     "metadata": {},
     "output_type": "execute_result"
    }
   ],
   "source": [
    "'''\n",
    "case class Flight(DEST_COUNTRY_NAME: String,\n",
    "                  ORIGIN_COUNTRY_NAME: String, count: BigInt)\n",
    "\n",
    "\n",
    "// COMMAND ----------\n",
    "\n",
    "val flightsDF = spark.read\n",
    "  .parquet(\"/data/flight-data/parquet/2010-summary.parquet/\")\n",
    "val flights = flightsDF.as[Flight]\n",
    "\n",
    "\n",
    "// COMMAND ----------\n",
    "\n",
    "flights.show(2)\n",
    "\n",
    "\n",
    "// COMMAND ----------\n",
    "\n",
    "flights.first.DEST_COUNTRY_NAME // United States\n",
    "\n",
    "\n",
    "// COMMAND ----------\n",
    "\n",
    "def originIsDestination(flight_row: Flight): Boolean = {\n",
    "  return flight_row.ORIGIN_COUNTRY_NAME == flight_row.DEST_COUNTRY_NAME\n",
    "}\n",
    "\n",
    "\n",
    "// COMMAND ----------\n",
    "\n",
    "flights.filter(flight_row => originIsDestination(flight_row)).first()\n",
    "\n",
    "\n",
    "// COMMAND ----------\n",
    "\n",
    "flights.collect().filter(flight_row => originIsDestination(flight_row))\n",
    "\n",
    "\n",
    "// COMMAND ----------\n",
    "\n",
    "val destinations = flights.map(f => f.DEST_COUNTRY_NAME)\n",
    "\n",
    "\n",
    "// COMMAND ----------\n",
    "\n",
    "val localDestinations = destinations.take(5)\n",
    "\n",
    "\n",
    "// COMMAND ----------\n",
    "\n",
    "case class FlightMetadata(count: BigInt, randomData: BigInt)\n",
    "\n",
    "val flightsMeta = spark.range(500).map(x => (x, scala.util.Random.nextLong))\n",
    "  .withColumnRenamed(\"_1\", \"count\").withColumnRenamed(\"_2\", \"randomData\")\n",
    "  .as[FlightMetadata]\n",
    "\n",
    "\n",
    "// COMMAND ----------\n",
    "\n",
    "val flights2 = flights\n",
    "  .joinWith(flightsMeta, flights.col(\"count\") === flightsMeta.col(\"count\"))\n",
    "\n",
    "\n",
    "// COMMAND ----------\n",
    "\n",
    "flights2.selectExpr(\"_1.DEST_COUNTRY_NAME\")\n",
    "\n",
    "\n",
    "// COMMAND ----------\n",
    "\n",
    "flights2.take(2)\n",
    "\n",
    "\n",
    "// COMMAND ----------\n",
    "\n",
    "val flights2 = flights.join(flightsMeta, Seq(\"count\"))\n",
    "\n",
    "\n",
    "// COMMAND ----------\n",
    "\n",
    "val flights2 = flights.join(flightsMeta.toDF(), Seq(\"count\"))\n",
    "\n",
    "\n",
    "// COMMAND ----------\n",
    "\n",
    "flights.groupBy(\"DEST_COUNTRY_NAME\").count()\n",
    "\n",
    "\n",
    "// COMMAND ----------\n",
    "\n",
    "flights.groupByKey(x => x.DEST_COUNTRY_NAME).count()\n",
    "\n",
    "\n",
    "// COMMAND ----------\n",
    "\n",
    "flights.groupByKey(x => x.DEST_COUNTRY_NAME).count().explain\n",
    "\n",
    "\n",
    "// COMMAND ----------\n",
    "\n",
    "def grpSum(countryName:String, values: Iterator[Flight]) = {\n",
    "  values.dropWhile(_.count < 5).map(x => (countryName, x))\n",
    "}\n",
    "flights.groupByKey(x => x.DEST_COUNTRY_NAME).flatMapGroups(grpSum).show(5)\n",
    "\n",
    "\n",
    "// COMMAND ----------\n",
    "\n",
    "def grpSum2(f:Flight):Integer = {\n",
    "  1\n",
    "}\n",
    "flights.groupByKey(x => x.DEST_COUNTRY_NAME).mapValues(grpSum2).count().take(5)\n",
    "\n",
    "\n",
    "// COMMAND ----------\n",
    "\n",
    "def sum2(left:Flight, right:Flight) = {\n",
    "  Flight(left.DEST_COUNTRY_NAME, null, left.count + right.count)\n",
    "}\n",
    "flights.groupByKey(x => x.DEST_COUNTRY_NAME).reduceGroups((l, r) => sum2(l, r))\n",
    "  .take(5)\n",
    "\n",
    "\n",
    "// COMMAND ----------\n",
    "\n",
    "flights.groupBy(\"DEST_COUNTRY_NAME\").count().explain\n",
    "\n",
    "\n",
    "// COMMAND ----------\n",
    "\n",
    "'''"
   ]
  },
  {
   "cell_type": "markdown",
   "metadata": {},
   "source": [
    "### grp"
   ]
  }
 ],
 "metadata": {
  "kernelspec": {
   "display_name": "Python 3",
   "language": "python",
   "name": "python3"
  },
  "language_info": {
   "codemirror_mode": {
    "name": "ipython",
    "version": 3
   },
   "file_extension": ".py",
   "mimetype": "text/x-python",
   "name": "python",
   "nbconvert_exporter": "python",
   "pygments_lexer": "ipython3",
   "version": "3.6.3"
  }
 },
 "nbformat": 4,
 "nbformat_minor": 2
}
