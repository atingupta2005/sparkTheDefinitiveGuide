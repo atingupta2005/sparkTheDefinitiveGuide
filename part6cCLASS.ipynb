{
 "cells": [
  {
   "cell_type": "markdown",
   "metadata": {},
   "source": [
    "### grp"
   ]
  },
  {
   "cell_type": "markdown",
   "metadata": {},
   "source": [
    "# Spark: The Definitive Guide"
   ]
  },
  {
   "cell_type": "markdown",
   "metadata": {},
   "source": [
    "## PART 6: Advanced Analytics and Machine Learning "
   ]
  },
  {
   "cell_type": "markdown",
   "metadata": {},
   "source": [
    "## dataPaths"
   ]
  },
  {
   "cell_type": "code",
   "execution_count": 1,
   "metadata": {
    "collapsed": true
   },
   "outputs": [],
   "source": [
    "binaryClass = '/Users/grp/sparkTheDefinitiveGuide/data/binary-classification/'"
   ]
  },
  {
   "cell_type": "markdown",
   "metadata": {},
   "source": [
    "## _Chapter #26 - Classification_"
   ]
  },
  {
   "cell_type": "markdown",
   "metadata": {
    "collapsed": true
   },
   "source": [
    "-  predicts a label, category, class, or discrete variable via input features\n",
    "-  output label has a finite set of possible values\n",
    "\n",
    "### Use Cases:\n",
    "-  credit [predict whether loan should be issued or not] risk\n",
    "-  news [predict topic category] classification\n",
    "-  classifying human [predict human status (walking, sleeping, running, standing)] activity\n",
    "\n",
    "### Types:\n",
    "-  binary [only 2 labels you can predict]\n",
    "    -  fraud analytics\n",
    "    -  email spam\n",
    "-  multiclass [more than 2 labels you can predict, but always a finite set of classes to predict]:\n",
    "    -  predicting weather (rainy, sunny, cloudy)\n",
    "-  multilabel [input can produce multiple set of labels that are not fixed]\n",
    "    -  predict # of objects appearing in image\n",
    "\n",
    "### MLlib Classification Models:\n",
    "-  Logistic Regression\n",
    "-  Decision Trees\n",
    "-  Random Forests\n",
    "-  Gradient-Boosted Trees\n",
    "\n",
    "### Evaluators:\n",
    "-  provide metric of model success and accuracy\n",
    "-  used best via automated grid search, hyperparameter tuning, and ML pipeline API\n",
    "-  classification evaluators expect a \"predicted label\" and a \"true label\"\n",
    "-  Binary (BinaryClassificationEvaluator):\n",
    "    -  areaUnderROC\n",
    "    -  areaUnderPR\n",
    "-  MultiClass (MulticlassClassificationEvaluator):\n",
    "    -  f1\n",
    "    -  weightedPrecision\n",
    "    -  weightedRecall\n",
    "    -  accuracy\n",
    "\n",
    "### One-vs-Rest Classifier:\n",
    "-  some models don't support multiclass classification\n",
    "-  use one-vs-rest estimator as an alternative to turn model into a binary classification per class\n",
    "-  isolates 1 class as target and groups all the other classes into 1"
   ]
  },
  {
   "cell_type": "markdown",
   "metadata": {},
   "source": [
    "### Model Configuration:\n",
    "-  Model Hyperparameters (structure of how model can be initialized)\n",
    "-  Training Parameters (structure of how model can be trained)\n",
    "-  Prediction Parameters (structured of how model determines making predictions)\n",
    "-  Model Summary (provides information about final trained model)"
   ]
  },
  {
   "cell_type": "markdown",
   "metadata": {},
   "source": [
    "### _Chapter #26 Exercises (Class)_"
   ]
  },
  {
   "cell_type": "code",
   "execution_count": 2,
   "metadata": {},
   "outputs": [
    {
     "name": "stdout",
     "output_type": "stream",
     "text": [
      "root\n",
      " |-- features: vector (nullable = true)\n",
      " |-- label: double (nullable = true)\n",
      "\n",
      "+--------------+-----+\n",
      "|      features|label|\n",
      "+--------------+-----+\n",
      "|[3.0,10.1,3.0]|  1.0|\n",
      "|[1.0,0.1,-1.0]|  0.0|\n",
      "|[1.0,0.1,-1.0]|  0.0|\n",
      "+--------------+-----+\n",
      "only showing top 3 rows\n",
      "\n"
     ]
    }
   ],
   "source": [
    "bInput = spark.read.format(\"parquet\").load(binaryClass).selectExpr(\"features\", \"cast(label as double) as label\")\n",
    "bInput.printSchema()\n",
    "bInput.show(3)"
   ]
  },
  {
   "cell_type": "markdown",
   "metadata": {},
   "source": [
    "## Logistic Regression:\n",
    "-  combines each of the individual inputs (features) with specific weights generated during training process\n",
    "-  weights are combined to get probability of belonging to a particular class\n",
    "-  weights represent of feature importance\n",
    "-  high weighted features have significance effect on outcome\n",
    "-  low weighted features are less important\n",
    "    -  Model Hyperparameters:\n",
    "        -  family:\n",
    "            -  multinomial aka multiclass (2 or more possible distinct labels)\n",
    "            -  binary (2 possible labels)\n",
    "        -  elasticNetParam:\n",
    "            -  float value from 0 to 1\n",
    "            -  mix of L1 and L2 regularization\n",
    "                -  L1 (value of 1):\n",
    "                    -  creates sparsity in model because certain feature weights will be zero (no significance to output)\n",
    "                -  L2 (value of 0):\n",
    "                    -  does not create sparsity because feature weights will never completely be zero\n",
    "        -  fitIntercept:\n",
    "            -  either TRUE or FALSE\n",
    "            -  determines whether to fit intercept to linear combination of inputs and weights of model\n",
    "            -  recommended to fit intercept if the training data has not been normalized\n",
    "        -  regParam:\n",
    "            -  determines how much weight to give to regularization\n",
    "            -  recommended to use wide range of values (0, 0.01, 0.1, 1)\n",
    "        -  standardization:\n",
    "            -  either TRUE or FALSE\n",
    "            -  decides whether to standardize the inputs before passing into model\n",
    "    -  Training Parameters:\n",
    "        -  maxIter:\n",
    "            -  total number of iterations over the data before stopping (default value is usually best)\n",
    "        -  tol:\n",
    "            -  threshold that stops before maxIter when weights are considered optimized (default value is usually best)\n",
    "        -  weightCol:\n",
    "            -  weighs certain rows more than others\n",
    "    -  Prediction Parameters:\n",
    "        -  threshold:\n",
    "            -  Double in range of 0 to 1\n",
    "            -  probability threshold for predicting a given class\n",
    "        -  thresholds:\n",
    "            -  specify an array of threshold values for each class via multiclass classification"
   ]
  },
  {
   "cell_type": "code",
   "execution_count": 3,
   "metadata": {
    "collapsed": true
   },
   "outputs": [],
   "source": [
    "from pyspark.ml.classification import LogisticRegression"
   ]
  },
  {
   "cell_type": "code",
   "execution_count": 4,
   "metadata": {},
   "outputs": [
    {
     "name": "stdout",
     "output_type": "stream",
     "text": [
      "aggregationDepth: suggested depth for treeAggregate (>= 2). (default: 2)\n",
      "elasticNetParam: the ElasticNet mixing parameter, in range [0, 1]. For alpha = 0, the penalty is an L2 penalty. For alpha = 1, it is an L1 penalty. (default: 0.0)\n",
      "family: The name of family which is a description of the label distribution to be used in the model. Supported options: auto, binomial, multinomial (default: auto)\n",
      "featuresCol: features column name. (default: features)\n",
      "fitIntercept: whether to fit an intercept term. (default: True)\n",
      "labelCol: label column name. (default: label)\n",
      "lowerBoundsOnCoefficients: The lower bounds on coefficients if fitting under bound constrained optimization. The bound matrix must be compatible with the shape (1, number of features) for binomial regression, or (number of classes, number of features) for multinomial regression. (undefined)\n",
      "lowerBoundsOnIntercepts: The lower bounds on intercepts if fitting under bound constrained optimization. The bounds vector size must beequal with 1 for binomial regression, or the number oflasses for multinomial regression. (undefined)\n",
      "maxIter: max number of iterations (>= 0). (default: 100)\n",
      "predictionCol: prediction column name. (default: prediction)\n",
      "probabilityCol: Column name for predicted class conditional probabilities. Note: Not all models output well-calibrated probability estimates! These probabilities should be treated as confidences, not precise probabilities. (default: probability)\n",
      "rawPredictionCol: raw prediction (a.k.a. confidence) column name. (default: rawPrediction)\n",
      "regParam: regularization parameter (>= 0). (default: 0.0)\n",
      "standardization: whether to standardize the training features before fitting the model. (default: True)\n",
      "threshold: Threshold in binary classification prediction, in range [0, 1]. If threshold and thresholds are both set, they must match.e.g. if threshold is p, then thresholds must be equal to [1-p, p]. (default: 0.5)\n",
      "thresholds: Thresholds in multi-class classification to adjust the probability of predicting each class. Array must have length equal to the number of classes, with values > 0, excepting that at most one value may be 0. The class with largest value p/t is predicted, where p is the original probability of that class and t is the class's threshold. (undefined)\n",
      "tol: the convergence tolerance for iterative algorithms (>= 0). (default: 1e-06)\n",
      "upperBoundsOnCoefficients: The upper bounds on coefficients if fitting under bound constrained optimization. The bound matrix must be compatible with the shape (1, number of features) for binomial regression, or (number of classes, number of features) for multinomial regression. (undefined)\n",
      "upperBoundsOnIntercepts: The upper bounds on intercepts if fitting under bound constrained optimization. The bound vector size must be equal with 1 for binomial regression, or the number of classes for multinomial regression. (undefined)\n",
      "weightCol: weight column name. If this is not set or empty, we treat all instance weights as 1.0. (undefined)\n",
      "\n",
      "\n",
      "[6.848741326855034,0.35356589010197487,14.814900276915889]\n",
      "-10.225695864480993\n",
      "\n",
      "\n",
      "1.0\n",
      "+---+------------------+\n",
      "|FPR|               TPR|\n",
      "+---+------------------+\n",
      "|0.0|               0.0|\n",
      "|0.0|0.3333333333333333|\n",
      "|0.0|               1.0|\n",
      "|1.0|               1.0|\n",
      "|1.0|               1.0|\n",
      "+---+------------------+\n",
      "\n",
      "+------------------+---------+\n",
      "|            recall|precision|\n",
      "+------------------+---------+\n",
      "|               0.0|      1.0|\n",
      "|0.3333333333333333|      1.0|\n",
      "|               1.0|      1.0|\n",
      "|               1.0|      0.6|\n",
      "+------------------+---------+\n",
      "\n",
      "[0.6730116670092565, 0.5042829330409728, 0.36356862066874396, 0.1252407018038338, 0.08532556611276212, 0.03550487641573043, 0.01819649450857124, 0.008817369922959128, 0.004413673785392138, 0.002194038351234706, 0.001096564114808084, 0.0005476575519853136, 0.000273762379514901, 0.0001368465223657475, 6.84180903707058e-05, 3.4207077910384856e-05, 1.710317666423191e-05, 8.551470106426885e-06, 4.275703677941412e-06, 2.1378240117781396e-06, 1.0688564054651744e-06, 5.342600202575258e-07, 2.668135105897087e-07, 1.32046278653136e-07, 6.768401481681801e-08, 3.3145477184834547e-08, 1.6151438837488498e-08, 8.309350118268437e-09]\n"
     ]
    }
   ],
   "source": [
    "lr = LogisticRegression()\n",
    "print(lr.explainParams()) # see all parameters\n",
    "lrModel = lr.fit(bInput)\n",
    "print(\"\\n\")\n",
    "print(lrModel.coefficients) # individual feature weights [3 features in this example]\n",
    "print(lrModel.intercept) # intercept value\n",
    "print(\"\\n\")\n",
    "\n",
    "'''\n",
    "# multiclass coefficients and intercept:\n",
    "\n",
    "lrModel.coefficientMatrix\n",
    "lrModel.interceptVector\n",
    "\n",
    "# will return values for each of the classes\n",
    "'''\n",
    "\n",
    "# Model Summary:\n",
    "summary = lrModel.summary\n",
    "print(summary.areaUnderROC)\n",
    "summary.roc.show()\n",
    "summary.pr.show()\n",
    "print(summary.objectiveHistory) # performance over training iterations"
   ]
  },
  {
   "cell_type": "markdown",
   "metadata": {},
   "source": [
    "## Decision Trees:\n",
    "-  creates a 1 big tree of decisions\n",
    "-  tends to overfit data hence not performing well on new data outside the training set\n",
    "    -  Model Hyperparameters:\n",
    "        -  maxDepth:\n",
    "            -  helps avoid overfitting dataset\n",
    "        -  maxBins:\n",
    "            -  determines the # of bins created from continuous features (converted from categorical features)\n",
    "            -  more bins give higher level of granularity\n",
    "        -  impurity:\n",
    "            -  used to build the tree\n",
    "            -  metric to determine where model should split at specific leaf node\n",
    "            -  either \"entropy\" or \"gini\"\n",
    "        -  minInfoGain:\n",
    "            -  provides information used for splitting\n",
    "            -  higher value can help prevent overfitting\n",
    "            -  this parameter can require a lot of testing variations\n",
    "        -  minInstancePerNode:\n",
    "            -  determines minimum # of training instances that need to occur in each leaf node\n",
    "            -  tree will be \"pruned\" (removes sections of the tree that provide little power to classify instances) until requirements are met\n",
    "    -  Training Parameters:\n",
    "        -  checkpointInterval:\n",
    "            -  set to save model's work over training every N iterations\n",
    "    -  Prediction Parameters:\n",
    "        -  thresholds:\n",
    "            -  specify an array of threshold values for each class"
   ]
  },
  {
   "cell_type": "code",
   "execution_count": 5,
   "metadata": {
    "collapsed": true
   },
   "outputs": [],
   "source": [
    "from pyspark.ml.classification import RandomForestClassifier"
   ]
  },
  {
   "cell_type": "code",
   "execution_count": 6,
   "metadata": {},
   "outputs": [
    {
     "name": "stdout",
     "output_type": "stream",
     "text": [
      "cacheNodeIds: If false, the algorithm will pass trees to executors to match instances with nodes. If true, the algorithm will cache node IDs for each instance. Caching can speed up training of deeper trees. Users can set how often should the cache be checkpointed or disable it by setting checkpointInterval. (default: False)\n",
      "checkpointInterval: set checkpoint interval (>= 1) or disable checkpoint (-1). E.g. 10 means that the cache will get checkpointed every 10 iterations. Note: this setting will be ignored if the checkpoint directory is not set in the SparkContext. (default: 10)\n",
      "featureSubsetStrategy: The number of features to consider for splits at each tree node. Supported options: auto, all, onethird, sqrt, log2, (0.0-1.0], [1-n]. (default: auto)\n",
      "featuresCol: features column name. (default: features)\n",
      "impurity: Criterion used for information gain calculation (case-insensitive). Supported options: entropy, gini (default: gini)\n",
      "labelCol: label column name. (default: label)\n",
      "maxBins: Max number of bins for discretizing continuous features.  Must be >=2 and >= number of categories for any categorical feature. (default: 32)\n",
      "maxDepth: Maximum depth of the tree. (>= 0) E.g., depth 0 means 1 leaf node; depth 1 means 1 internal node + 2 leaf nodes. (default: 5)\n",
      "maxMemoryInMB: Maximum memory in MB allocated to histogram aggregation. If too small, then 1 node will be split per iteration, and its aggregates may exceed this size. (default: 256)\n",
      "minInfoGain: Minimum information gain for a split to be considered at a tree node. (default: 0.0)\n",
      "minInstancesPerNode: Minimum number of instances each child must have after split. If a split causes the left or right child to have fewer than minInstancesPerNode, the split will be discarded as invalid. Should be >= 1. (default: 1)\n",
      "numTrees: Number of trees to train (>= 1). (default: 20)\n",
      "predictionCol: prediction column name. (default: prediction)\n",
      "probabilityCol: Column name for predicted class conditional probabilities. Note: Not all models output well-calibrated probability estimates! These probabilities should be treated as confidences, not precise probabilities. (default: probability)\n",
      "rawPredictionCol: raw prediction (a.k.a. confidence) column name. (default: rawPrediction)\n",
      "seed: random seed. (default: -5387697053847413545)\n",
      "subsamplingRate: Fraction of the training data used for learning each decision tree, in range (0, 1]. (default: 1.0)\n"
     ]
    }
   ],
   "source": [
    "rfClassifier = RandomForestClassifier()\n",
    "print(rfClassifier.explainParams())\n",
    "trainedModel = rfClassifier.fit(bInput)"
   ]
  },
  {
   "cell_type": "markdown",
   "metadata": {},
   "source": [
    "## Random Forest & Gradient-Boosted Trees:\n",
    "-  trains multiple trees on various subsets of data\n",
    "-  having multiple trees will help reduce overfitting because each tree becomes an \"expert\" on its assigned data within tree\n",
    "-  RF [train each tree and combine to make an average weighted prediction]\n",
    "-  BGT [train each tree to make a weighted prediction]\n",
    "    -  Model Hyperparameters:\n",
    "        -  RF:\n",
    "            -  numTrees:\n",
    "                -  total # of trees to train\n",
    "            -  featureSubsetStrategy:\n",
    "                -  determines how many features should be considered for splits\n",
    "        -  GBT:\n",
    "            -  lossType:\n",
    "                -  loss function\n",
    "            -  maxIter:\n",
    "                -  total # of iterations over data before stopping\n",
    "                -  the default is typically best\n",
    "            -  stepSize:\n",
    "                - learning rate\n",
    "    -  Training Parameters:\n",
    "        -  checkpointInterval:\n",
    "            -  set to save model's work over training every N iterations\n",
    "    -  Prediction Parameters:\n",
    "        -  thresholds:\n",
    "            -  specify an array of threshold values for each class"
   ]
  },
  {
   "cell_type": "code",
   "execution_count": 7,
   "metadata": {
    "collapsed": true
   },
   "outputs": [],
   "source": [
    "from pyspark.ml.classification import RandomForestClassifier\n",
    "from pyspark.ml.classification import GBTClassifier"
   ]
  },
  {
   "cell_type": "code",
   "execution_count": 8,
   "metadata": {},
   "outputs": [
    {
     "name": "stdout",
     "output_type": "stream",
     "text": [
      "cacheNodeIds: If false, the algorithm will pass trees to executors to match instances with nodes. If true, the algorithm will cache node IDs for each instance. Caching can speed up training of deeper trees. Users can set how often should the cache be checkpointed or disable it by setting checkpointInterval. (default: False)\n",
      "checkpointInterval: set checkpoint interval (>= 1) or disable checkpoint (-1). E.g. 10 means that the cache will get checkpointed every 10 iterations. Note: this setting will be ignored if the checkpoint directory is not set in the SparkContext. (default: 10)\n",
      "featureSubsetStrategy: The number of features to consider for splits at each tree node. Supported options: auto, all, onethird, sqrt, log2, (0.0-1.0], [1-n]. (default: auto)\n",
      "featuresCol: features column name. (default: features)\n",
      "impurity: Criterion used for information gain calculation (case-insensitive). Supported options: entropy, gini (default: gini)\n",
      "labelCol: label column name. (default: label)\n",
      "maxBins: Max number of bins for discretizing continuous features.  Must be >=2 and >= number of categories for any categorical feature. (default: 32)\n",
      "maxDepth: Maximum depth of the tree. (>= 0) E.g., depth 0 means 1 leaf node; depth 1 means 1 internal node + 2 leaf nodes. (default: 5)\n",
      "maxMemoryInMB: Maximum memory in MB allocated to histogram aggregation. If too small, then 1 node will be split per iteration, and its aggregates may exceed this size. (default: 256)\n",
      "minInfoGain: Minimum information gain for a split to be considered at a tree node. (default: 0.0)\n",
      "minInstancesPerNode: Minimum number of instances each child must have after split. If a split causes the left or right child to have fewer than minInstancesPerNode, the split will be discarded as invalid. Should be >= 1. (default: 1)\n",
      "numTrees: Number of trees to train (>= 1). (default: 20)\n",
      "predictionCol: prediction column name. (default: prediction)\n",
      "probabilityCol: Column name for predicted class conditional probabilities. Note: Not all models output well-calibrated probability estimates! These probabilities should be treated as confidences, not precise probabilities. (default: probability)\n",
      "rawPredictionCol: raw prediction (a.k.a. confidence) column name. (default: rawPrediction)\n",
      "seed: random seed. (default: -5387697053847413545)\n",
      "subsamplingRate: Fraction of the training data used for learning each decision tree, in range (0, 1]. (default: 1.0)\n",
      "\n",
      "\n",
      "cacheNodeIds: If false, the algorithm will pass trees to executors to match instances with nodes. If true, the algorithm will cache node IDs for each instance. Caching can speed up training of deeper trees. Users can set how often should the cache be checkpointed or disable it by setting checkpointInterval. (default: False)\n",
      "checkpointInterval: set checkpoint interval (>= 1) or disable checkpoint (-1). E.g. 10 means that the cache will get checkpointed every 10 iterations. Note: this setting will be ignored if the checkpoint directory is not set in the SparkContext. (default: 10)\n",
      "featuresCol: features column name. (default: features)\n",
      "labelCol: label column name. (default: label)\n",
      "lossType: Loss function which GBT tries to minimize (case-insensitive). Supported options: logistic (default: logistic)\n",
      "maxBins: Max number of bins for discretizing continuous features.  Must be >=2 and >= number of categories for any categorical feature. (default: 32)\n",
      "maxDepth: Maximum depth of the tree. (>= 0) E.g., depth 0 means 1 leaf node; depth 1 means 1 internal node + 2 leaf nodes. (default: 5)\n",
      "maxIter: max number of iterations (>= 0). (default: 20)\n",
      "maxMemoryInMB: Maximum memory in MB allocated to histogram aggregation. If too small, then 1 node will be split per iteration, and its aggregates may exceed this size. (default: 256)\n",
      "minInfoGain: Minimum information gain for a split to be considered at a tree node. (default: 0.0)\n",
      "minInstancesPerNode: Minimum number of instances each child must have after split. If a split causes the left or right child to have fewer than minInstancesPerNode, the split will be discarded as invalid. Should be >= 1. (default: 1)\n",
      "predictionCol: prediction column name. (default: prediction)\n",
      "seed: random seed. (default: 3504127614838123891)\n",
      "stepSize: Step size (a.k.a. learning rate) in interval (0, 1] for shrinking the contribution of each estimator. (default: 0.1)\n",
      "subsamplingRate: Fraction of the training data used for learning each decision tree, in range (0, 1]. (default: 1.0)\n"
     ]
    }
   ],
   "source": [
    "rfClassifier = RandomForestClassifier()\n",
    "print(rfClassifier.explainParams())\n",
    "trainedModel = rfClassifier.fit(bInput)\n",
    "print(\"\\n\")\n",
    "gbtClassifier = GBTClassifier()\n",
    "print(gbtClassifier.explainParams())\n",
    "trainedModel = gbtClassifier.fit(bInput)"
   ]
  },
  {
   "cell_type": "markdown",
   "metadata": {},
   "source": [
    "## Naive Bayes:\n",
    "-  collection of classifiers based on Bayes' theorem\n",
    "-  assumes all features in dataset are independent of one another\n",
    "-  typically used in text classification\n",
    "-  features must be non-negative\n",
    "-  Model Types:\n",
    "    -  multivariate Bernoulli [indicator variables represent existence of a term in a document]\n",
    "    -  multinomial [uses total counts of terms]\n",
    "        -  Model Hyperparameters:\n",
    "            -  modelType:\n",
    "                -  \"bernoulli\" or \"multinomial\"\n",
    "            -  weightCol:\n",
    "                -  weight differences for different data points\n",
    "        -  Training Parameters:\n",
    "            -  smoothing:\n",
    "                -  determines amount of regularization\n",
    "                -  helps smooth categorical data to prevent overfitting on training dataset\n",
    "        -  Prediction Parameters:\n",
    "            -  thresholds:\n",
    "                -  specify an array of threshold values for each class"
   ]
  },
  {
   "cell_type": "code",
   "execution_count": 9,
   "metadata": {
    "collapsed": true
   },
   "outputs": [],
   "source": [
    "from pyspark.ml.classification import NaiveBayes"
   ]
  },
  {
   "cell_type": "code",
   "execution_count": 10,
   "metadata": {},
   "outputs": [
    {
     "name": "stdout",
     "output_type": "stream",
     "text": [
      "featuresCol: features column name. (default: features)\n",
      "labelCol: label column name. (default: label)\n",
      "modelType: The model type which is a string (case-sensitive). Supported options: multinomial (default) and bernoulli. (default: multinomial)\n",
      "predictionCol: prediction column name. (default: prediction)\n",
      "probabilityCol: Column name for predicted class conditional probabilities. Note: Not all models output well-calibrated probability estimates! These probabilities should be treated as confidences, not precise probabilities. (default: probability)\n",
      "rawPredictionCol: raw prediction (a.k.a. confidence) column name. (default: rawPrediction)\n",
      "smoothing: The smoothing parameter, should be >= 0, default is 1.0 (default: 1.0)\n",
      "thresholds: Thresholds in multi-class classification to adjust the probability of predicting each class. Array must have length equal to the number of classes, with values > 0, excepting that at most one value may be 0. The class with largest value p/t is predicted, where p is the original probability of that class and t is the class's threshold. (undefined)\n",
      "weightCol: weight column name. If this is not set or empty, we treat all instance weights as 1.0. (undefined)\n"
     ]
    }
   ],
   "source": [
    "nb = NaiveBayes()\n",
    "print(nb.explainParams())\n",
    "trainedModel = nb.fit(bInput.where(\"label != 0\"))"
   ]
  },
  {
   "cell_type": "markdown",
   "metadata": {},
   "source": [
    "### _Evaluation Metrics Example_"
   ]
  },
  {
   "cell_type": "code",
   "execution_count": 11,
   "metadata": {},
   "outputs": [
    {
     "data": {
      "text/plain": [
       "'\\nimport org.apache.spark.mllib.evaluation.BinaryClassificationMetrics\\nval out = model.transform(bInput)\\n  .select(\"prediction\", \"label\")\\n  .rdd.map(x => (x(0).asInstanceOf[Double], x(1).asInstanceOf[Double]))\\nval metrics = new BinaryClassificationMetrics(out)\\n\\nmetrics.areaUnderPR\\nmetrics.areaUnderROC\\nprintln(\"Receiver Operating Characteristic\")\\nmetrics.roc.toDF().show()\\n'"
      ]
     },
     "execution_count": 11,
     "metadata": {},
     "output_type": "execute_result"
    }
   ],
   "source": [
    "'''\n",
    "import org.apache.spark.mllib.evaluation.BinaryClassificationMetrics\n",
    "val out = model.transform(bInput)\n",
    "  .select(\"prediction\", \"label\")\n",
    "  .rdd.map(x => (x(0).asInstanceOf[Double], x(1).asInstanceOf[Double]))\n",
    "val metrics = new BinaryClassificationMetrics(out)\n",
    "\n",
    "metrics.areaUnderPR\n",
    "metrics.areaUnderROC\n",
    "println(\"Receiver Operating Characteristic\")\n",
    "metrics.roc.toDF().show()\n",
    "'''"
   ]
  },
  {
   "cell_type": "markdown",
   "metadata": {},
   "source": [
    "### grp"
   ]
  }
 ],
 "metadata": {
  "kernelspec": {
   "display_name": "Python 3",
   "language": "python",
   "name": "python3"
  },
  "language_info": {
   "codemirror_mode": {
    "name": "ipython",
    "version": 3
   },
   "file_extension": ".py",
   "mimetype": "text/x-python",
   "name": "python",
   "nbconvert_exporter": "python",
   "pygments_lexer": "ipython3",
   "version": "3.6.3"
  }
 },
 "nbformat": 4,
 "nbformat_minor": 2
}
