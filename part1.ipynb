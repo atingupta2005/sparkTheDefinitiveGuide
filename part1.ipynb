{
 "cells": [
  {
   "cell_type": "markdown",
   "metadata": {},
   "source": [
    "### grp"
   ]
  },
  {
   "cell_type": "markdown",
   "metadata": {},
   "source": [
    "# Spark: The Definitive Guide"
   ]
  },
  {
   "cell_type": "markdown",
   "metadata": {},
   "source": [
    "## PART 1: Gentle Overview of Big Data and Spark"
   ]
  },
  {
   "cell_type": "markdown",
   "metadata": {},
   "source": [
    "## dataPaths"
   ]
  },
  {
   "cell_type": "code",
   "execution_count": 1,
   "metadata": {
    "collapsed": true
   },
   "outputs": [],
   "source": [
    "flightData2015 = '/Users/grp/sparkTheDefinitiveGuide/data/flight-data/csv/2015-summary.csv'\n",
    "retailDataDay = '/Users/grp/sparkTheDefinitiveGuide/data/retail-data/by-day/'"
   ]
  },
  {
   "cell_type": "markdown",
   "metadata": {},
   "source": [
    "## _Chapter #1 - What is Apache Spark?_"
   ]
  },
  {
   "cell_type": "markdown",
   "metadata": {},
   "source": [
    "-  Unified computing engine for parallel data processing distributed across clusters (machine nodes)   \n",
    "<br>\n",
    "    -  **Structured APIs**:\n",
    "        -  Datasets\n",
    "        -  DataFrames\n",
    "        -  SQL   \n",
    "        <br>\n",
    "    -  **Unstructured APIs**:\n",
    "        -  RDDs   \n",
    "        <br>\n",
    "    -  **Libraries**:\n",
    "        -  Structured Streaming\n",
    "        -  Machine Learning\n",
    "        -  Graph   \n",
    "        <br>\n",
    "    -  **Resource Manager**:\n",
    "        -  Local\n",
    "        -  Standalone (Cluster)\n",
    "        -  YARN (Cluster)\n",
    "        -  Mesos (Cluster)   \n",
    "        <br>\n",
    "    -  **Language APIs**:\n",
    "        -  Scala\n",
    "        -  Java\n",
    "        -  Python\n",
    "        -  SQL\n",
    "        -  R"
   ]
  },
  {
   "cell_type": "markdown",
   "metadata": {},
   "source": [
    "## _Chapter #2 - A Gentle Introduction to Spark_"
   ]
  },
  {
   "cell_type": "markdown",
   "metadata": {},
   "source": [
    "-  **Spark Applications**:\n",
    "    -  **Driver** (heart of Spark Application during application's lifecycle):\n",
    "        -  maintains information about Spark Application\n",
    "        -  responds to user's program / input\n",
    "        -  distributes and schedules work across executors   \n",
    "        <br>\n",
    "    -  **Executors**:\n",
    "        -  executes work (code) assigned by driver\n",
    "        -  reports state of work execution back to driver node   \n",
    "        <br>\n",
    "    -  **SparkSession**:\n",
    "        -  entry point that manages Spark Application via driver process   \n",
    "        <br>\n",
    "    -  **DataFrames**:\n",
    "        -  represents a table of data with rows and columns\n",
    "        -  compiled in a schema that defines the column labels and data types   \n",
    "        <br>\n",
    "    -  **Partitions**:\n",
    "        -  chunks of data distributed across cluster for parallel execution\n",
    "        -  in addition, a collection of rows sitting on one physical machine in cluster\n",
    "        -  parallelism = partitions = executors (x: 1 partition / 1,000 executors = parallelism of 1; 1,000 paritions / 1 executors = parallelism of 1)   \n",
    "        <br>\n",
    "    -  **Lazy Evaluation**:\n",
    "        -  bundles plan of transformations on source data into DAG then triggers DAG on action\n",
    "        -  molds a logical plan into a pysical plan that will run across cluster   \n",
    "        <br>\n",
    "    -  **Transformations**:\n",
    "         -  data manipulations and modifications   \n",
    "            <br>\n",
    "             -  **Narrow Transformations** (1 to 1):\n",
    "                 -  each input partition will contribute to only one output partition\n",
    "                 -  no dependencies => 1 parent w/ 1 child\n",
    "                 -  ex: filter, maps   \n",
    "                <br>\n",
    "             -  **Wide Transformations** (1 to N):\n",
    "                  -  \"aka\" shuffle\n",
    "                  -  many dependencies => 1 parent w/ many children\n",
    "                  -  each input parition will contribute to many output partitions across the cluster\n",
    "                  -  **when a shuffle occurs Spark writes the results to disk** ex: spark.sql.shuffle.partitions\n",
    "                  -  ex: aggregations, joins, groupings   \n",
    "       <br>           \n",
    "    -  **Actions**:\n",
    "        -  triggers the series of transformations into a spark job\n",
    "            -  types:\n",
    "                -  view data in the console\n",
    "                -  collect data\n",
    "                -  write to output data sources"
   ]
  },
  {
   "cell_type": "markdown",
   "metadata": {},
   "source": [
    "## **Additional Definitions**:\n",
    "   -  Spark Job (represents set of transformations triggered by an individual action)\n",
    "   -  Schema Inference (have Spark best guess the schema of data) ***triggers Spark Job when scanning through data***\n",
    "   -  Spark-Submit (launches application code to a cluster)\n",
    "   -  Catalyst (planning and processing of work engine)"
   ]
  },
  {
   "cell_type": "markdown",
   "metadata": {},
   "source": [
    "### _Spark contains separate Python and R processes hence when using Spark from Python or R language API the Python or R code is transaled into code that Spark can run on the executor JVMs_"
   ]
  },
  {
   "cell_type": "markdown",
   "metadata": {},
   "source": [
    "### _Chapter #2 - Exercises_"
   ]
  },
  {
   "cell_type": "code",
   "execution_count": 2,
   "metadata": {
    "collapsed": true
   },
   "outputs": [],
   "source": [
    "flightDataDF2015 = spark\\\n",
    ".read\\\n",
    ".option(\"inferSchema\", \"true\")\\\n",
    ".option(\"header\", \"true\")\\\n",
    ".csv(flightData2015)"
   ]
  },
  {
   "cell_type": "code",
   "execution_count": 3,
   "metadata": {},
   "outputs": [
    {
     "data": {
      "text/plain": [
       "1"
      ]
     },
     "execution_count": 3,
     "metadata": {},
     "output_type": "execute_result"
    }
   ],
   "source": [
    "flightDataDF2015.rdd.getNumPartitions()"
   ]
  },
  {
   "cell_type": "code",
   "execution_count": 4,
   "metadata": {},
   "outputs": [
    {
     "data": {
      "text/plain": [
       "[Row(DEST_COUNTRY_NAME='United States', ORIGIN_COUNTRY_NAME='Romania', count=15),\n",
       " Row(DEST_COUNTRY_NAME='United States', ORIGIN_COUNTRY_NAME='Croatia', count=1),\n",
       " Row(DEST_COUNTRY_NAME='United States', ORIGIN_COUNTRY_NAME='Ireland', count=344)]"
      ]
     },
     "execution_count": 4,
     "metadata": {},
     "output_type": "execute_result"
    }
   ],
   "source": [
    "flightDataDF2015.take(3)"
   ]
  },
  {
   "cell_type": "markdown",
   "metadata": {},
   "source": [
    "-  **Explain Plan**:\n",
    "    -  displays DFs lineage"
   ]
  },
  {
   "cell_type": "code",
   "execution_count": 5,
   "metadata": {},
   "outputs": [
    {
     "name": "stdout",
     "output_type": "stream",
     "text": [
      "== Physical Plan ==\n",
      "*Sort [count#14 ASC NULLS FIRST], true, 0\n",
      "+- Exchange rangepartitioning(count#14 ASC NULLS FIRST, 200)\n",
      "   +- *FileScan csv [DEST_COUNTRY_NAME#12,ORIGIN_COUNTRY_NAME#13,count#14] Batched: false, Format: CSV, Location: InMemoryFileIndex[file:/Users/grp/sparkTheDefinitiveGuide/data/flight-data/csv/2015-summary.csv], PartitionFilters: [], PushedFilters: [], ReadSchema: struct<DEST_COUNTRY_NAME:string,ORIGIN_COUNTRY_NAME:string,count:int>\n"
     ]
    }
   ],
   "source": [
    "flightDataDF2015.sort(\"count\").explain()"
   ]
  },
  {
   "cell_type": "markdown",
   "metadata": {},
   "source": [
    "-  **SPARK.SQL.SHUFFLE.PARTITIONS**:\n",
    "    -  by default, there are 200 shuffle partitions"
   ]
  },
  {
   "cell_type": "code",
   "execution_count": 6,
   "metadata": {
    "collapsed": true
   },
   "outputs": [],
   "source": [
    "spark.conf.set(\"spark.sql.shuffle.partitions\", \"5\")"
   ]
  },
  {
   "cell_type": "code",
   "execution_count": 7,
   "metadata": {},
   "outputs": [
    {
     "name": "stdout",
     "output_type": "stream",
     "text": [
      "== Physical Plan ==\n",
      "*Sort [count#14 ASC NULLS FIRST], true, 0\n",
      "+- Exchange rangepartitioning(count#14 ASC NULLS FIRST, 5)\n",
      "   +- *FileScan csv [DEST_COUNTRY_NAME#12,ORIGIN_COUNTRY_NAME#13,count#14] Batched: false, Format: CSV, Location: InMemoryFileIndex[file:/Users/grp/sparkTheDefinitiveGuide/data/flight-data/csv/2015-summary.csv], PartitionFilters: [], PushedFilters: [], ReadSchema: struct<DEST_COUNTRY_NAME:string,ORIGIN_COUNTRY_NAME:string,count:int>\n"
     ]
    }
   ],
   "source": [
    "flightDataDF2015.sort(\"count\").explain()"
   ]
  },
  {
   "cell_type": "code",
   "execution_count": 8,
   "metadata": {
    "collapsed": true
   },
   "outputs": [],
   "source": [
    "flightDataDF2015.createOrReplaceTempView(\"flight_data_2015\")"
   ]
  },
  {
   "cell_type": "code",
   "execution_count": 9,
   "metadata": {
    "collapsed": true
   },
   "outputs": [],
   "source": [
    "sqlWay = spark\\\n",
    ".sql(\"\"\"\n",
    "select dest_country_name, count(1)\n",
    "from flight_data_2015\n",
    "group by dest_country_name\n",
    "\"\"\")"
   ]
  },
  {
   "cell_type": "code",
   "execution_count": 10,
   "metadata": {
    "collapsed": true
   },
   "outputs": [],
   "source": [
    "dataFrameWay = flightDataDF2015\\\n",
    ".groupBy(\"dest_country_name\")\\\n",
    ".count()"
   ]
  },
  {
   "cell_type": "code",
   "execution_count": 11,
   "metadata": {},
   "outputs": [
    {
     "name": "stdout",
     "output_type": "stream",
     "text": [
      "== Physical Plan ==\n",
      "*HashAggregate(keys=[dest_country_name#12], functions=[count(1)])\n",
      "+- Exchange hashpartitioning(dest_country_name#12, 5)\n",
      "   +- *HashAggregate(keys=[dest_country_name#12], functions=[partial_count(1)])\n",
      "      +- *FileScan csv [DEST_COUNTRY_NAME#12] Batched: false, Format: CSV, Location: InMemoryFileIndex[file:/Users/grp/sparkTheDefinitiveGuide/data/flight-data/csv/2015-summary.csv], PartitionFilters: [], PushedFilters: [], ReadSchema: struct<DEST_COUNTRY_NAME:string>\n",
      "== Physical Plan ==\n",
      "*HashAggregate(keys=[dest_country_name#12], functions=[count(1)])\n",
      "+- Exchange hashpartitioning(dest_country_name#12, 5)\n",
      "   +- *HashAggregate(keys=[dest_country_name#12], functions=[partial_count(1)])\n",
      "      +- *FileScan csv [DEST_COUNTRY_NAME#12] Batched: false, Format: CSV, Location: InMemoryFileIndex[file:/Users/grp/sparkTheDefinitiveGuide/data/flight-data/csv/2015-summary.csv], PartitionFilters: [], PushedFilters: [], ReadSchema: struct<DEST_COUNTRY_NAME:string>\n"
     ]
    }
   ],
   "source": [
    "sqlWay.explain()\n",
    "dataFrameWay.explain()"
   ]
  },
  {
   "cell_type": "code",
   "execution_count": 12,
   "metadata": {
    "collapsed": true
   },
   "outputs": [],
   "source": [
    "from pyspark.sql.functions import desc"
   ]
  },
  {
   "cell_type": "code",
   "execution_count": 13,
   "metadata": {},
   "outputs": [
    {
     "name": "stdout",
     "output_type": "stream",
     "text": [
      "== Physical Plan ==\n",
      "TakeOrderedAndProject(limit=5, orderBy=[destination_total#56L DESC NULLS LAST], output=[dest_country_name#12,destination_total#56L])\n",
      "+- *HashAggregate(keys=[dest_country_name#12], functions=[sum(cast(count#14 as bigint))])\n",
      "   +- Exchange hashpartitioning(dest_country_name#12, 5)\n",
      "      +- *HashAggregate(keys=[dest_country_name#12], functions=[partial_sum(cast(count#14 as bigint))])\n",
      "         +- *FileScan csv [DEST_COUNTRY_NAME#12,count#14] Batched: false, Format: CSV, Location: InMemoryFileIndex[file:/Users/grp/sparkTheDefinitiveGuide/data/flight-data/csv/2015-summary.csv], PartitionFilters: [], PushedFilters: [], ReadSchema: struct<DEST_COUNTRY_NAME:string,count:int>\n"
     ]
    }
   ],
   "source": [
    "flightDataDF2015\\\n",
    ".groupBy(\"dest_country_name\")\\\n",
    ".sum(\"count\")\\\n",
    ".withColumnRenamed(\"sum(count)\", \"destination_total\")\\\n",
    ".sort(desc(\"destination_total\"))\\\n",
    ".limit(5)\\\n",
    ".explain()"
   ]
  },
  {
   "cell_type": "code",
   "execution_count": 14,
   "metadata": {},
   "outputs": [
    {
     "name": "stdout",
     "output_type": "stream",
     "text": [
      "+-----------------+-----------------+\n",
      "|dest_country_name|destination_total|\n",
      "+-----------------+-----------------+\n",
      "|    United States|           411352|\n",
      "|           Canada|             8399|\n",
      "|           Mexico|             7140|\n",
      "+-----------------+-----------------+\n",
      "\n"
     ]
    }
   ],
   "source": [
    "flightDataDF2015\\\n",
    ".groupBy(\"dest_country_name\")\\\n",
    ".sum(\"count\")\\\n",
    ".withColumnRenamed(\"sum(count)\", \"destination_total\")\\\n",
    ".sort(desc(\"destination_total\"))\\\n",
    ".limit(3)\\\n",
    ".show()"
   ]
  },
  {
   "cell_type": "markdown",
   "metadata": {},
   "source": [
    "## _Chapter #3 - A Tour of Spark's Toolset_"
   ]
  },
  {
   "cell_type": "markdown",
   "metadata": {
    "collapsed": true
   },
   "source": [
    "### _Chapter #3 - Exercise (Structured Streaming)_"
   ]
  },
  {
   "cell_type": "markdown",
   "metadata": {},
   "source": [
    "-  **Structured Streaming**:\n",
    "    -  read streams\n",
    "    -  window functions\n",
    "    -  triggers\n",
    "    -  write streams"
   ]
  },
  {
   "cell_type": "code",
   "execution_count": 15,
   "metadata": {
    "collapsed": true
   },
   "outputs": [],
   "source": [
    "staticDataFrame = spark\\\n",
    ".read\\\n",
    ".format(\"csv\")\\\n",
    ".option(\"header\", \"true\")\\\n",
    ".option(\"inferSchema\", \"true\")\\\n",
    ".load(retailDataDay)"
   ]
  },
  {
   "cell_type": "code",
   "execution_count": 16,
   "metadata": {
    "collapsed": true
   },
   "outputs": [],
   "source": [
    "staticDataFrame.createOrReplaceTempView(\"retail_data\")\n",
    "staticSchema = staticDataFrame.schema"
   ]
  },
  {
   "cell_type": "code",
   "execution_count": 17,
   "metadata": {
    "collapsed": true
   },
   "outputs": [],
   "source": [
    "from pyspark.sql.functions import window, column, desc, col"
   ]
  },
  {
   "cell_type": "code",
   "execution_count": 18,
   "metadata": {},
   "outputs": [
    {
     "name": "stdout",
     "output_type": "stream",
     "text": [
      "+----------+---------------------------------------------+------------------+\n",
      "|CustomerId|window                                       |sum(total_cost)   |\n",
      "+----------+---------------------------------------------+------------------+\n",
      "|14075.0   |[2011-12-04 18:00:00.0,2011-12-05 18:00:00.0]|316.78000000000003|\n",
      "|18180.0   |[2011-12-04 18:00:00.0,2011-12-05 18:00:00.0]|310.73            |\n",
      "|15358.0   |[2011-12-04 18:00:00.0,2011-12-05 18:00:00.0]|830.0600000000003 |\n",
      "+----------+---------------------------------------------+------------------+\n",
      "only showing top 3 rows\n",
      "\n"
     ]
    }
   ],
   "source": [
    "staticDataFrame\\\n",
    ".selectExpr(\\\n",
    "           \"CustomerId\",\n",
    "           \"(UnitPrice * Quantity) as total_cost\",\\\n",
    "           \"InvoiceDate\")\\\n",
    ".groupBy(\\\n",
    "        col(\"CustomerId\"), window(col(\"InvoiceDate\"), \"1 day\"))\\\n",
    ".sum(\"total_cost\")\\\n",
    ".show(3, truncate=False)"
   ]
  },
  {
   "cell_type": "code",
   "execution_count": 19,
   "metadata": {
    "collapsed": true
   },
   "outputs": [],
   "source": [
    "streamingDataFrame = spark\\\n",
    ".readStream\\\n",
    ".schema(staticSchema)\\\n",
    ".option(\"maxFilesPerTrigger\", 1)\\\n",
    ".format(\"csv\")\\\n",
    ".option(\"header\", \"true\")\\\n",
    ".load(retailDataDay)"
   ]
  },
  {
   "cell_type": "code",
   "execution_count": 20,
   "metadata": {},
   "outputs": [
    {
     "name": "stdout",
     "output_type": "stream",
     "text": [
      "True\n"
     ]
    }
   ],
   "source": [
    "print(streamingDataFrame.isStreaming)"
   ]
  },
  {
   "cell_type": "code",
   "execution_count": 21,
   "metadata": {
    "collapsed": true
   },
   "outputs": [],
   "source": [
    "purchaseByCustomerPerHour = streamingDataFrame\\\n",
    ".selectExpr(\\\n",
    "           \"CustomerId\",\n",
    "           \"(UnitPrice * Quantity) as total_cost\",\\\n",
    "           \"InvoiceDate\")\\\n",
    ".groupBy(\\\n",
    "        col(\"CustomerId\"), window(col(\"InvoiceDate\"), \"1 day\"))\\\n",
    ".sum(\"total_cost\")"
   ]
  },
  {
   "cell_type": "code",
   "execution_count": 22,
   "metadata": {},
   "outputs": [
    {
     "data": {
      "text/plain": [
       "<pyspark.sql.streaming.StreamingQuery at 0x107c1d3c8>"
      ]
     },
     "execution_count": 22,
     "metadata": {},
     "output_type": "execute_result"
    }
   ],
   "source": [
    "purchaseByCustomerPerHour.writeStream\\\n",
    ".format(\"memory\")\\\n",
    ".queryName(\"customer_purchases\")\\\n",
    ".outputMode(\"complete\")\\\n",
    ".start()\n"
   ]
  },
  {
   "cell_type": "code",
   "execution_count": 23,
   "metadata": {
    "collapsed": true
   },
   "outputs": [],
   "source": [
    "from time import sleep\n",
    "sleep(10)"
   ]
  },
  {
   "cell_type": "code",
   "execution_count": 24,
   "metadata": {},
   "outputs": [
    {
     "name": "stdout",
     "output_type": "stream",
     "text": [
      "+----------+---------------------------------------------+------------------+\n",
      "|CustomerId|window                                       |sum(total_cost)   |\n",
      "+----------+---------------------------------------------+------------------+\n",
      "|15909.0   |[2011-06-18 19:00:00.0,2011-06-19 19:00:00.0]|191.93999999999997|\n",
      "|15805.0   |[2011-11-15 18:00:00.0,2011-11-16 18:00:00.0]|370.4             |\n",
      "|17858.0   |[2011-03-15 19:00:00.0,2011-03-16 19:00:00.0]|432.20000000000005|\n",
      "+----------+---------------------------------------------+------------------+\n",
      "only showing top 3 rows\n",
      "\n"
     ]
    }
   ],
   "source": [
    "spark.sql(\"\"\"\n",
    "select *\n",
    "from customer_purchases\n",
    "order by 'sum(total_cost)' desc\"\"\")\\\n",
    ".show(3, truncate=False)"
   ]
  },
  {
   "cell_type": "markdown",
   "metadata": {},
   "source": [
    "### _Chapter #3 - Exercise (Machine Learning)_"
   ]
  },
  {
   "cell_type": "markdown",
   "metadata": {},
   "source": [
    "-  **Machine Learning**:\n",
    "    -  numerical representation\n",
    "    -  data cleansing\n",
    "    -  train / test split\n",
    "    -  feature engineering (index, encode, vector assemble)"
   ]
  },
  {
   "cell_type": "code",
   "execution_count": 25,
   "metadata": {
    "collapsed": true
   },
   "outputs": [],
   "source": [
    "from pyspark.sql.functions import date_format, col"
   ]
  },
  {
   "cell_type": "code",
   "execution_count": 26,
   "metadata": {
    "collapsed": true
   },
   "outputs": [],
   "source": [
    "preppedDataFrame = staticDataFrame\\\n",
    ".na.fill(0)\\\n",
    ".withColumn(\"day_of_week\", date_format(col(\"InvoiceDate\"), \"EEEE\"))\\\n",
    ".coalesce(5)"
   ]
  },
  {
   "cell_type": "code",
   "execution_count": 27,
   "metadata": {
    "collapsed": true
   },
   "outputs": [],
   "source": [
    "trainDF = preppedDataFrame\\\n",
    ".where(\"InvoiceDate < '2011-07-01'\")\n",
    "testDF = preppedDataFrame\\\n",
    ".where(\"InvoiceDate >= '2011-07-01'\")"
   ]
  },
  {
   "cell_type": "code",
   "execution_count": 28,
   "metadata": {},
   "outputs": [
    {
     "name": "stdout",
     "output_type": "stream",
     "text": [
      "245903\n",
      "296006\n"
     ]
    }
   ],
   "source": [
    "print(trainDF.count())\n",
    "print(testDF.count())"
   ]
  },
  {
   "cell_type": "code",
   "execution_count": 29,
   "metadata": {},
   "outputs": [
    {
     "name": "stdout",
     "output_type": "stream",
     "text": [
      "Row(InvoiceNo='537226', StockCode='22811', Description='SET OF 6 T-LIGHTS CACTI ', Quantity=6, InvoiceDate=datetime.datetime(2010, 12, 6, 8, 34), UnitPrice=2.95, CustomerID=15987.0, Country='United Kingdom', day_of_week='Monday')\n",
      "Row(InvoiceNo='537226', StockCode='21713', Description='CITRONELLA CANDLE FLOWERPOT', Quantity=8, InvoiceDate=datetime.datetime(2010, 12, 6, 8, 34), UnitPrice=2.1, CustomerID=15987.0, Country='United Kingdom', day_of_week='Monday')\n",
      "Row(InvoiceNo='537226', StockCode='22927', Description='GREEN GIANT GARDEN THERMOMETER', Quantity=2, InvoiceDate=datetime.datetime(2010, 12, 6, 8, 34), UnitPrice=5.95, CustomerID=15987.0, Country='United Kingdom', day_of_week='Monday')\n"
     ]
    }
   ],
   "source": [
    "for i in trainDF.take(3): print(i)"
   ]
  },
  {
   "cell_type": "code",
   "execution_count": 30,
   "metadata": {
    "collapsed": true
   },
   "outputs": [],
   "source": [
    "from pyspark.ml.feature import StringIndexer"
   ]
  },
  {
   "cell_type": "code",
   "execution_count": 31,
   "metadata": {
    "collapsed": true
   },
   "outputs": [],
   "source": [
    "indexer = StringIndexer()\\\n",
    ".setInputCol(\"day_of_week\")\\\n",
    ".setOutputCol(\"day_of_week_index\")"
   ]
  },
  {
   "cell_type": "code",
   "execution_count": 32,
   "metadata": {},
   "outputs": [
    {
     "name": "stdout",
     "output_type": "stream",
     "text": [
      "+-----------+-----------------+\n",
      "|day_of_week|day_of_week_index|\n",
      "+-----------+-----------------+\n",
      "|Monday     |2.0              |\n",
      "|Monday     |2.0              |\n",
      "|Monday     |2.0              |\n",
      "+-----------+-----------------+\n",
      "only showing top 3 rows\n",
      "\n"
     ]
    }
   ],
   "source": [
    "indexer.fit(trainDF).transform(testDF).select(\"day_of_week\", \"day_of_week_index\").show(3, truncate=False)"
   ]
  },
  {
   "cell_type": "code",
   "execution_count": 33,
   "metadata": {
    "collapsed": true
   },
   "outputs": [],
   "source": [
    "from pyspark.ml.feature import OneHotEncoder"
   ]
  },
  {
   "cell_type": "code",
   "execution_count": 34,
   "metadata": {
    "collapsed": true
   },
   "outputs": [],
   "source": [
    "encoder = OneHotEncoder()\\\n",
    ".setInputCol(\"day_of_week_index\")\\\n",
    ".setOutputCol(\"day_of_week_encoded\")"
   ]
  },
  {
   "cell_type": "code",
   "execution_count": 35,
   "metadata": {
    "collapsed": true
   },
   "outputs": [],
   "source": [
    "from pyspark.ml.feature import VectorAssembler"
   ]
  },
  {
   "cell_type": "code",
   "execution_count": 36,
   "metadata": {
    "collapsed": true
   },
   "outputs": [],
   "source": [
    "vectorAssembler = VectorAssembler()\\\n",
    ".setInputCols([\"UnitPrice\", \"Quantity\", \"day_of_week_encoded\"])\\\n",
    ".setOutputCol(\"features\")"
   ]
  },
  {
   "cell_type": "code",
   "execution_count": 37,
   "metadata": {
    "collapsed": true
   },
   "outputs": [],
   "source": [
    "from pyspark.ml import Pipeline"
   ]
  },
  {
   "cell_type": "code",
   "execution_count": 38,
   "metadata": {
    "collapsed": true
   },
   "outputs": [],
   "source": [
    "transformationPipeline = Pipeline()\\\n",
    ".setStages([indexer, encoder, vectorAssembler]) # feature engineering to prepare for learning algorithm"
   ]
  },
  {
   "cell_type": "code",
   "execution_count": 39,
   "metadata": {
    "collapsed": true
   },
   "outputs": [],
   "source": [
    "fittedPipeline = transformationPipeline.fit(trainDF)"
   ]
  },
  {
   "cell_type": "code",
   "execution_count": 40,
   "metadata": {
    "collapsed": true
   },
   "outputs": [],
   "source": [
    "transformedTraining = fittedPipeline.transform(trainDF)"
   ]
  },
  {
   "cell_type": "code",
   "execution_count": 41,
   "metadata": {},
   "outputs": [
    {
     "name": "stdout",
     "output_type": "stream",
     "text": [
      "root\n",
      " |-- InvoiceNo: string (nullable = true)\n",
      " |-- StockCode: string (nullable = true)\n",
      " |-- Description: string (nullable = true)\n",
      " |-- Quantity: integer (nullable = true)\n",
      " |-- InvoiceDate: timestamp (nullable = true)\n",
      " |-- UnitPrice: double (nullable = false)\n",
      " |-- CustomerID: double (nullable = false)\n",
      " |-- Country: string (nullable = true)\n",
      " |-- day_of_week: string (nullable = true)\n",
      " |-- day_of_week_index: double (nullable = true)\n",
      " |-- day_of_week_encoded: vector (nullable = true)\n",
      " |-- features: vector (nullable = true)\n",
      "\n"
     ]
    }
   ],
   "source": [
    "transformedTraining.printSchema()"
   ]
  },
  {
   "cell_type": "code",
   "execution_count": 42,
   "metadata": {},
   "outputs": [
    {
     "name": "stdout",
     "output_type": "stream",
     "text": [
      "+---------+--------+-----------+-----------------+-------------------+--------------------------+\n",
      "|UnitPrice|Quantity|day_of_week|day_of_week_index|day_of_week_encoded|features                  |\n",
      "+---------+--------+-----------+-----------------+-------------------+--------------------------+\n",
      "|2.95     |6       |Monday     |2.0              |(5,[2],[1.0])      |(7,[0,1,4],[2.95,6.0,1.0])|\n",
      "|2.1      |8       |Monday     |2.0              |(5,[2],[1.0])      |(7,[0,1,4],[2.1,8.0,1.0]) |\n",
      "|5.95     |2       |Monday     |2.0              |(5,[2],[1.0])      |(7,[0,1,4],[5.95,2.0,1.0])|\n",
      "+---------+--------+-----------+-----------------+-------------------+--------------------------+\n",
      "only showing top 3 rows\n",
      "\n"
     ]
    }
   ],
   "source": [
    "transformedTraining.select(\"UnitPrice\", \"Quantity\", \\\n",
    "                      \"day_of_week\", \"day_of_week_index\", \\\n",
    "                      \"day_of_week_encoded\", \"features\")\\\n",
    ".show(3, truncate=False)"
   ]
  },
  {
   "cell_type": "code",
   "execution_count": 43,
   "metadata": {},
   "outputs": [
    {
     "data": {
      "text/plain": [
       "DataFrame[InvoiceNo: string, StockCode: string, Description: string, Quantity: int, InvoiceDate: timestamp, UnitPrice: double, CustomerID: double, Country: string, day_of_week: string, day_of_week_index: double, day_of_week_encoded: vector, features: vector]"
      ]
     },
     "execution_count": 43,
     "metadata": {},
     "output_type": "execute_result"
    }
   ],
   "source": [
    "transformedTraining.cache()"
   ]
  },
  {
   "cell_type": "code",
   "execution_count": 44,
   "metadata": {},
   "outputs": [
    {
     "name": "stdout",
     "output_type": "stream",
     "text": [
      "245903\n"
     ]
    }
   ],
   "source": [
    "print(transformedTraining.count())"
   ]
  },
  {
   "cell_type": "markdown",
   "metadata": {},
   "source": [
    "-  **kMeans**:\n",
    "    -  \"k\" centers are assigned to data points\n",
    "    -  points are assigned to a class and center points (centroid) are computed"
   ]
  },
  {
   "cell_type": "code",
   "execution_count": 45,
   "metadata": {
    "collapsed": true
   },
   "outputs": [],
   "source": [
    "from pyspark.ml.clustering import KMeans"
   ]
  },
  {
   "cell_type": "code",
   "execution_count": 46,
   "metadata": {
    "collapsed": true
   },
   "outputs": [],
   "source": [
    "kmeans = KMeans()\\\n",
    ".setK(20)\\\n",
    ".setSeed(1)"
   ]
  },
  {
   "cell_type": "code",
   "execution_count": 47,
   "metadata": {
    "collapsed": true
   },
   "outputs": [],
   "source": [
    "kmModel = kmeans.fit(transformedTraining)"
   ]
  },
  {
   "cell_type": "code",
   "execution_count": 48,
   "metadata": {},
   "outputs": [
    {
     "data": {
      "text/plain": [
       "84553739.96537484"
      ]
     },
     "execution_count": 48,
     "metadata": {},
     "output_type": "execute_result"
    }
   ],
   "source": [
    "kmModel.computeCost(transformedTraining)"
   ]
  },
  {
   "cell_type": "code",
   "execution_count": 49,
   "metadata": {
    "collapsed": true
   },
   "outputs": [],
   "source": [
    "transformedTest = fittedPipeline.transform(testDF)"
   ]
  },
  {
   "cell_type": "code",
   "execution_count": 50,
   "metadata": {},
   "outputs": [
    {
     "data": {
      "text/plain": [
       "517507094.72221166"
      ]
     },
     "execution_count": 50,
     "metadata": {},
     "output_type": "execute_result"
    }
   ],
   "source": [
    "kmModel.computeCost(transformedTest)"
   ]
  },
  {
   "cell_type": "markdown",
   "metadata": {},
   "source": [
    "### grp"
   ]
  }
 ],
 "metadata": {
  "kernelspec": {
   "display_name": "Python 3",
   "language": "python",
   "name": "python3"
  },
  "language_info": {
   "codemirror_mode": {
    "name": "ipython",
    "version": 3
   },
   "file_extension": ".py",
   "mimetype": "text/x-python",
   "name": "python",
   "nbconvert_exporter": "python",
   "pygments_lexer": "ipython3",
   "version": "3.6.3"
  }
 },
 "nbformat": 4,
 "nbformat_minor": 2
}
