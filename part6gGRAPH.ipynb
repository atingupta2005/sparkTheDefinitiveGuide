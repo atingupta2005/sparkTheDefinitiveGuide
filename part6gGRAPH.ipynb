{
 "cells": [
  {
   "cell_type": "markdown",
   "metadata": {},
   "source": [
    "### grp"
   ]
  },
  {
   "cell_type": "markdown",
   "metadata": {},
   "source": [
    "# Spark: The Definitive Guide"
   ]
  },
  {
   "cell_type": "markdown",
   "metadata": {},
   "source": [
    "## PART 6: Advanced Analytics and Machine Learning "
   ]
  },
  {
   "cell_type": "markdown",
   "metadata": {},
   "source": [
    "## dataPaths"
   ]
  },
  {
   "cell_type": "code",
   "execution_count": 1,
   "metadata": {
    "collapsed": true
   },
   "outputs": [],
   "source": [
    "bikes = '/Users/grp/sparkTheDefinitiveGuide/data/bike-data/201508_station_data.csv'\n",
    "trips = '/Users/grp/sparkTheDefinitiveGuide/data/bike-data/201508_trip_data.csv'"
   ]
  },
  {
   "cell_type": "markdown",
   "metadata": {},
   "source": [
    "## _Chapter #30 - Graph Analytics_"
   ]
  },
  {
   "cell_type": "markdown",
   "metadata": {
    "collapsed": true
   },
   "source": [
    "-  graphs described a relationship among objects\n",
    "-  graphs are a logical representation of data\n",
    "-  edges and vertices in graphs can have data (weights) associated with them\n",
    "\n",
    "### Graph Structure:\n",
    "-  nodes [vertices] (objects)\n",
    "-  edges (define relationships between nodes)\n",
    "\n",
    "### Graph Types:\n",
    "-  undirected:\n",
    "    -  edges do not have a specified \"start\" and \"end\" vertex (unbounded linkage)\n",
    "-  directed:\n",
    "    -  edges have a directional \"start\" location and \"end\" location (bounded linkage)\n",
    "\n",
    "### Use Cases:\n",
    "-  social network\n",
    "-  airline connections\n",
    "-  hierarchy data\n",
    "-  Google's pageRank algorithm\n",
    "\n",
    "### Spark Models:\n",
    "-  GraphFrames (structued DF API)\n",
    "-  GraphX (unstructured RDD API)\n",
    "\n",
    "### GraphFrames vs Graph Databases:\n",
    "-  Spark is a distributed computing engine that does not store data or perform transactional processing\n",
    "-  GraphFrames are better suited for larger analytics workloads like ETL, querying, and modeling\n",
    "-  Graph Databases are better suited for supporting transactional processing and server-side scaling"
   ]
  },
  {
   "cell_type": "markdown",
   "metadata": {},
   "source": [
    "### _Chapter #30 Exercises (Graph)_"
   ]
  },
  {
   "cell_type": "markdown",
   "metadata": {},
   "source": [
    "### _Terminal Package Example_"
   ]
  },
  {
   "cell_type": "code",
   "execution_count": 2,
   "metadata": {},
   "outputs": [
    {
     "data": {
      "text/plain": [
       "'\\npyspark --packages graphframes:graphframes:0.6.0-spark2.3-s_2.11\\n'"
      ]
     },
     "execution_count": 2,
     "metadata": {},
     "output_type": "execute_result"
    }
   ],
   "source": [
    "'''\n",
    "pyspark --packages graphframes:graphframes:0.6.0-spark2.3-s_2.11\n",
    "'''"
   ]
  },
  {
   "cell_type": "markdown",
   "metadata": {},
   "source": [
    "### _Graph Build Example_"
   ]
  },
  {
   "cell_type": "code",
   "execution_count": 3,
   "metadata": {},
   "outputs": [
    {
     "name": "stdout",
     "output_type": "stream",
     "text": [
      "root\n",
      " |-- station_id: string (nullable = true)\n",
      " |-- name: string (nullable = true)\n",
      " |-- lat: string (nullable = true)\n",
      " |-- long: string (nullable = true)\n",
      " |-- dockcount: string (nullable = true)\n",
      " |-- landmark: string (nullable = true)\n",
      " |-- installation: string (nullable = true)\n",
      "\n",
      "+----------+--------------------+---------+-----------+---------+--------+------------+\n",
      "|station_id|                name|      lat|       long|dockcount|landmark|installation|\n",
      "+----------+--------------------+---------+-----------+---------+--------+------------+\n",
      "|         2|San Jose Diridon ...|37.329732|-121.901782|       27|San Jose|    8/6/2013|\n",
      "|         3|San Jose Civic Ce...|37.330698|-121.888979|       15|San Jose|    8/5/2013|\n",
      "|         4|Santa Clara at Al...|37.333988|-121.894902|       11|San Jose|    8/6/2013|\n",
      "+----------+--------------------+---------+-----------+---------+--------+------------+\n",
      "only showing top 3 rows\n",
      "\n",
      "root\n",
      " |-- Trip ID: string (nullable = true)\n",
      " |-- Duration: string (nullable = true)\n",
      " |-- Start Date: string (nullable = true)\n",
      " |-- Start Station: string (nullable = true)\n",
      " |-- Start Terminal: string (nullable = true)\n",
      " |-- End Date: string (nullable = true)\n",
      " |-- End Station: string (nullable = true)\n",
      " |-- End Terminal: string (nullable = true)\n",
      " |-- Bike #: string (nullable = true)\n",
      " |-- Subscriber Type: string (nullable = true)\n",
      " |-- Zip Code: string (nullable = true)\n",
      "\n",
      "+-------+--------+---------------+--------------------+--------------+---------------+--------------------+------------+------+---------------+--------+\n",
      "|Trip ID|Duration|     Start Date|       Start Station|Start Terminal|       End Date|         End Station|End Terminal|Bike #|Subscriber Type|Zip Code|\n",
      "+-------+--------+---------------+--------------------+--------------+---------------+--------------------+------------+------+---------------+--------+\n",
      "| 913460|     765|8/31/2015 23:26|Harry Bridges Pla...|            50|8/31/2015 23:39|San Francisco Cal...|          70|   288|     Subscriber|    2139|\n",
      "| 913459|    1036|8/31/2015 23:11|San Antonio Shopp...|            31|8/31/2015 23:28|Mountain View Cit...|          27|    35|     Subscriber|   95032|\n",
      "| 913455|     307|8/31/2015 23:13|      Post at Kearny|            47|8/31/2015 23:18|   2nd at South Park|          64|   468|     Subscriber|   94107|\n",
      "+-------+--------+---------------+--------------------+--------------+---------------+--------------------+------------+------+---------------+--------+\n",
      "only showing top 3 rows\n",
      "\n"
     ]
    }
   ],
   "source": [
    "# vertices\n",
    "bikeStations = spark.read.option(\"header\",\"true\").csv(bikes)\n",
    "bikeStations.printSchema()\n",
    "bikeStations.show(3)\n",
    "\n",
    "# edges\n",
    "tripData = spark.read.option(\"header\",\"true\").csv(trips)\n",
    "tripData.printSchema()\n",
    "tripData.show(3, True)"
   ]
  },
  {
   "cell_type": "code",
   "execution_count": 4,
   "metadata": {
    "collapsed": true
   },
   "outputs": [],
   "source": [
    "stationVertices = bikeStations.withColumnRenamed(\"name\", \"id\").distinct()\n",
    "tripEdges = tripData.withColumnRenamed(\"Start Station\", \"src\").withColumnRenamed(\"End Station\", \"dst\")"
   ]
  },
  {
   "cell_type": "code",
   "execution_count": 5,
   "metadata": {},
   "outputs": [],
   "source": [
    "from graphframes import GraphFrame"
   ]
  },
  {
   "cell_type": "code",
   "execution_count": 6,
   "metadata": {},
   "outputs": [
    {
     "data": {
      "text/plain": [
       "GraphFrame(v:[id: string, station_id: string ... 5 more fields], e:[src: string, dst: string ... 9 more fields])"
      ]
     },
     "execution_count": 6,
     "metadata": {},
     "output_type": "execute_result"
    }
   ],
   "source": [
    "# builds graph\n",
    "stationGraph = GraphFrame(stationVertices, tripEdges)\n",
    "stationGraph.cache()"
   ]
  },
  {
   "cell_type": "markdown",
   "metadata": {},
   "source": [
    "### _Graph Structure Example_"
   ]
  },
  {
   "cell_type": "code",
   "execution_count": 7,
   "metadata": {},
   "outputs": [
    {
     "name": "stdout",
     "output_type": "stream",
     "text": [
      "root\n",
      " |-- station_id: string (nullable = true)\n",
      " |-- id: string (nullable = true)\n",
      " |-- lat: string (nullable = true)\n",
      " |-- long: string (nullable = true)\n",
      " |-- dockcount: string (nullable = true)\n",
      " |-- landmark: string (nullable = true)\n",
      " |-- installation: string (nullable = true)\n",
      "\n",
      "root\n",
      " |-- Trip ID: string (nullable = true)\n",
      " |-- Duration: string (nullable = true)\n",
      " |-- Start Date: string (nullable = true)\n",
      " |-- src: string (nullable = true)\n",
      " |-- Start Terminal: string (nullable = true)\n",
      " |-- End Date: string (nullable = true)\n",
      " |-- dst: string (nullable = true)\n",
      " |-- End Terminal: string (nullable = true)\n",
      " |-- Bike #: string (nullable = true)\n",
      " |-- Subscriber Type: string (nullable = true)\n",
      " |-- Zip Code: string (nullable = true)\n",
      "\n"
     ]
    }
   ],
   "source": [
    "stationGraph.vertices.printSchema()\n",
    "stationGraph.edges.printSchema()"
   ]
  },
  {
   "cell_type": "code",
   "execution_count": 8,
   "metadata": {},
   "outputs": [
    {
     "name": "stdout",
     "output_type": "stream",
     "text": [
      "Total Number of Stations: 70\n",
      "Total Number of Trips in Graph: 354152\n",
      "Total Number of Trips in Original Data: 354152\n"
     ]
    }
   ],
   "source": [
    "print(\"Total Number of Stations: \" + str(stationGraph.vertices.count()))\n",
    "print(\"Total Number of Trips in Graph: \" + str(stationGraph.edges.count()))\n",
    "print(\"Total Number of Trips in Original Data: \" + str(tripData.count()))"
   ]
  },
  {
   "cell_type": "markdown",
   "metadata": {},
   "source": [
    "### _Graph Query Example_"
   ]
  },
  {
   "cell_type": "code",
   "execution_count": 9,
   "metadata": {
    "collapsed": true
   },
   "outputs": [],
   "source": [
    "from pyspark.sql.functions import desc"
   ]
  },
  {
   "cell_type": "code",
   "execution_count": 10,
   "metadata": {},
   "outputs": [
    {
     "name": "stdout",
     "output_type": "stream",
     "text": [
      "+---------------------------------------------+----------------------------------------+-----+\n",
      "|src                                          |dst                                     |count|\n",
      "+---------------------------------------------+----------------------------------------+-----+\n",
      "|San Francisco Caltrain 2 (330 Townsend)      |Townsend at 7th                         |3748 |\n",
      "|Harry Bridges Plaza (Ferry Building)         |Embarcadero at Sansome                  |3145 |\n",
      "|2nd at Townsend                              |Harry Bridges Plaza (Ferry Building)    |2973 |\n",
      "|Townsend at 7th                              |San Francisco Caltrain 2 (330 Townsend) |2734 |\n",
      "|Harry Bridges Plaza (Ferry Building)         |2nd at Townsend                         |2640 |\n",
      "|Embarcadero at Folsom                        |San Francisco Caltrain (Townsend at 4th)|2439 |\n",
      "|Steuart at Market                            |2nd at Townsend                         |2356 |\n",
      "|Embarcadero at Sansome                       |Steuart at Market                       |2330 |\n",
      "|Townsend at 7th                              |San Francisco Caltrain (Townsend at 4th)|2192 |\n",
      "|Temporary Transbay Terminal (Howard at Beale)|San Francisco Caltrain (Townsend at 4th)|2184 |\n",
      "+---------------------------------------------+----------------------------------------+-----+\n",
      "only showing top 10 rows\n",
      "\n",
      "+---------------------------------------------+---------------------------------------------+-----+\n",
      "|src                                          |dst                                          |count|\n",
      "+---------------------------------------------+---------------------------------------------+-----+\n",
      "|San Francisco Caltrain 2 (330 Townsend)      |Townsend at 7th                              |3748 |\n",
      "|Townsend at 7th                              |San Francisco Caltrain 2 (330 Townsend)      |2734 |\n",
      "|Townsend at 7th                              |San Francisco Caltrain (Townsend at 4th)     |2192 |\n",
      "|Townsend at 7th                              |Civic Center BART (7th at Market)            |1844 |\n",
      "|Civic Center BART (7th at Market)            |Townsend at 7th                              |1765 |\n",
      "|San Francisco Caltrain (Townsend at 4th)     |Townsend at 7th                              |1198 |\n",
      "|Temporary Transbay Terminal (Howard at Beale)|Townsend at 7th                              |834  |\n",
      "|Townsend at 7th                              |Harry Bridges Plaza (Ferry Building)         |827  |\n",
      "|Steuart at Market                            |Townsend at 7th                              |746  |\n",
      "|Townsend at 7th                              |Temporary Transbay Terminal (Howard at Beale)|740  |\n",
      "+---------------------------------------------+---------------------------------------------+-----+\n",
      "only showing top 10 rows\n",
      "\n"
     ]
    }
   ],
   "source": [
    "stationGraph.edges.groupBy(\"src\", \"dst\").count().orderBy(desc(\"count\")).show(10, False)\n",
    "\n",
    "stationGraph.edges\\\n",
    ".where(\"src = 'Townsend at 7th' OR dst = 'Townsend at 7th'\")\\\n",
    ".groupBy(\"src\", \"dst\").count()\\\n",
    ".orderBy(desc(\"count\"))\\\n",
    ".show(10, False)"
   ]
  },
  {
   "cell_type": "markdown",
   "metadata": {},
   "source": [
    "### _SubGraph Example_"
   ]
  },
  {
   "cell_type": "code",
   "execution_count": 11,
   "metadata": {
    "collapsed": true
   },
   "outputs": [],
   "source": [
    "# subgraphs are smaller graphs within the main graphs\n",
    "townAnd7thEdges = stationGraph.edges.where(\"src = 'Townsend at 7th' OR dst = 'Townsend at 7th'\")\n",
    "subgraph = GraphFrame(stationGraph.vertices, townAnd7thEdges)"
   ]
  },
  {
   "cell_type": "markdown",
   "metadata": {},
   "source": [
    "### _Motif (Triange) Structure Example_"
   ]
  },
  {
   "cell_type": "code",
   "execution_count": 12,
   "metadata": {},
   "outputs": [],
   "source": [
    "# motifs find structural patterns in a graph\n",
    "# ex: find matching vertices and edges with vertex 'a' connection to vertex 'b' through edge 'ab' => (a)-[ab]->(b)\n",
    "motifs = stationGraph.find(\"(a)-[ab]->(b); (b)-[bc]->(c); (c)-[ca]->(a)\")\n",
    "# (a) => represents starting station\n",
    "# [ab] => represents an edge from station 'a' to station 'b'\n",
    "# (b) => represents ending station\n",
    "# repeat process for stations (b) to (c) and (c) to (a)\n",
    "# pattern is a triangle from ab to bc to ca\n",
    "# output returns nested fields for vertices a, b, and c as well as connected edges"
   ]
  },
  {
   "cell_type": "markdown",
   "metadata": {},
   "source": [
    "### _Motif (Search) Query Example_"
   ]
  },
  {
   "cell_type": "code",
   "execution_count": 13,
   "metadata": {
    "collapsed": true
   },
   "outputs": [],
   "source": [
    "from pyspark.sql.functions import expr"
   ]
  },
  {
   "cell_type": "code",
   "execution_count": 14,
   "metadata": {},
   "outputs": [
    {
     "name": "stdout",
     "output_type": "stream",
     "text": [
      "Row(id='San Francisco Caltrain 2 (330 Townsend)', id='Townsend at 7th', id='San Francisco Caltrain (Townsend at 4th)', Start Date='5/19/2015 16:09', End Date='5/19/2015 16:33')\n"
     ]
    }
   ],
   "source": [
    "ms = motifs.selectExpr(\"*\",\n",
    "    \"to_timestamp(ab.`Start Date`, 'MM/dd/yyyy HH:mm') as abStart\",\n",
    "    \"to_timestamp(bc.`Start Date`, 'MM/dd/yyyy HH:mm') as bcStart\",\n",
    "    \"to_timestamp(ca.`Start Date`, 'MM/dd/yyyy HH:mm') as caStart\")\\\n",
    ".where(\"ca.`Bike #` = bc.`Bike #`\").where(\"ab.`Bike #` = bc.`Bike #`\")\\\n",
    ".where(\"a.id != b.id\").where(\"b.id != c.id\")\\\n",
    ".where(\"abStart < bcStart\").where(\"bcStart < caStart\")\\\n",
    ".orderBy(expr(\"cast(caStart as long) - cast(abStart as long)\"))\\\n",
    ".selectExpr(\"a.id\", \"b.id\", \"c.id\", \"ab.`Start Date`\", \"ca.`End Date`\")\\\n",
    ".limit(1)\n",
    "for i in ms.collect(): print(i)"
   ]
  },
  {
   "cell_type": "markdown",
   "metadata": {},
   "source": [
    "### _PageRank Example_"
   ]
  },
  {
   "cell_type": "code",
   "execution_count": 15,
   "metadata": {
    "collapsed": true
   },
   "outputs": [],
   "source": [
    "from pyspark.sql.functions import desc"
   ]
  },
  {
   "cell_type": "code",
   "execution_count": 16,
   "metadata": {},
   "outputs": [
    {
     "name": "stdout",
     "output_type": "stream",
     "text": [
      "+----------------------------------------+------------------+\n",
      "|id                                      |pagerank          |\n",
      "+----------------------------------------+------------------+\n",
      "|San Jose Diridon Caltrain Station       |4.051504835989957 |\n",
      "|San Francisco Caltrain (Townsend at 4th)|3.351183296428704 |\n",
      "|Mountain View Caltrain Station          |2.514390771015558 |\n",
      "|Redwood City Caltrain Station           |2.3263087713711688|\n",
      "|San Francisco Caltrain 2 (330 Townsend) |2.2311442913698567|\n",
      "|Harry Bridges Plaza (Ferry Building)    |1.8251120118882902|\n",
      "|2nd at Townsend                         |1.5821217785039197|\n",
      "|Santa Clara at Almaden                  |1.573007408490752 |\n",
      "|Townsend at 7th                         |1.568456580534067 |\n",
      "|Embarcadero at Sansome                  |1.5414242087748948|\n",
      "+----------------------------------------+------------------+\n",
      "only showing top 10 rows\n",
      "\n"
     ]
    }
   ],
   "source": [
    "# pageRank is an algorithm for ranking web pages and computing values\n",
    "# in this example higher values indicate more important bike stations with the most bike traffic/visits\n",
    "ranks = stationGraph.pageRank(resetProbability=0.15, maxIter=10)\n",
    "ranks.vertices.orderBy(desc(\"pagerank\")).select(\"id\", \"pagerank\").show(10, False)"
   ]
  },
  {
   "cell_type": "markdown",
   "metadata": {},
   "source": [
    "### _In-Degree & Out-Degree Metrics Example_"
   ]
  },
  {
   "cell_type": "code",
   "execution_count": 17,
   "metadata": {},
   "outputs": [
    {
     "name": "stdout",
     "output_type": "stream",
     "text": [
      "+----------------------------------------+--------+\n",
      "|id                                      |inDegree|\n",
      "+----------------------------------------+--------+\n",
      "|San Francisco Caltrain (Townsend at 4th)|34810   |\n",
      "|San Francisco Caltrain 2 (330 Townsend) |22523   |\n",
      "|Harry Bridges Plaza (Ferry Building)    |17810   |\n",
      "|2nd at Townsend                         |15463   |\n",
      "|Townsend at 7th                         |15422   |\n",
      "+----------------------------------------+--------+\n",
      "only showing top 5 rows\n",
      "\n",
      "+---------------------------------------------+---------+\n",
      "|id                                           |outDegree|\n",
      "+---------------------------------------------+---------+\n",
      "|San Francisco Caltrain (Townsend at 4th)     |26304    |\n",
      "|San Francisco Caltrain 2 (330 Townsend)      |21758    |\n",
      "|Harry Bridges Plaza (Ferry Building)         |17255    |\n",
      "|Temporary Transbay Terminal (Howard at Beale)|14436    |\n",
      "|Embarcadero at Sansome                       |14158    |\n",
      "+---------------------------------------------+---------+\n",
      "only showing top 5 rows\n",
      "\n",
      "+----------------------------------------+------------------+\n",
      "|id                                      |degreeRatio       |\n",
      "+----------------------------------------+------------------+\n",
      "|Redwood City Medical Center             |1.5333333333333334|\n",
      "|San Mateo County Center                 |1.4724409448818898|\n",
      "|SJSU 4th at San Carlos                  |1.3621052631578947|\n",
      "|San Francisco Caltrain (Townsend at 4th)|1.3233728710462287|\n",
      "|Washington at Kearny                    |1.3086466165413533|\n",
      "|Paseo de San Antonio                    |1.2535046728971964|\n",
      "|California Ave Caltrain Station         |1.24              |\n",
      "|Franklin at Maple                       |1.2345679012345678|\n",
      "|Embarcadero at Vallejo                  |1.2201707365495336|\n",
      "|Market at Sansome                       |1.2173913043478262|\n",
      "+----------------------------------------+------------------+\n",
      "only showing top 10 rows\n",
      "\n",
      "+-------------------------------+------------------+\n",
      "|id                             |degreeRatio       |\n",
      "+-------------------------------+------------------+\n",
      "|Grant Avenue at Columbus Avenue|0.5180520570948782|\n",
      "|2nd at Folsom                  |0.5909488686085761|\n",
      "|Powell at Post (Union Square)  |0.6434241245136186|\n",
      "|Mezes Park                     |0.6839622641509434|\n",
      "|Evelyn Park and Ride           |0.7413087934560327|\n",
      "|Beale at Market                |0.75726761574351  |\n",
      "|Golden Gate at Polk            |0.7822270981897971|\n",
      "|Ryland Park                    |0.7857142857142857|\n",
      "|San Francisco City Hall        |0.7928849902534113|\n",
      "|Palo Alto Caltrain Station     |0.8064516129032258|\n",
      "+-------------------------------+------------------+\n",
      "only showing top 10 rows\n",
      "\n"
     ]
    }
   ],
   "source": [
    "# inbound connections [in-degree] (ex: social network followers; bike start station)\n",
    "inDeg = stationGraph.inDegrees\n",
    "inDeg.orderBy(desc(\"inDegree\")).show(5, False)\n",
    "\n",
    "# outbound connections [out-degree] (ex: social network people they follow; bike end station)\n",
    "outDeg = stationGraph.outDegrees\n",
    "outDeg.orderBy(desc(\"outDegree\")).show(5, False)\n",
    "\n",
    "# degree ratio\n",
    "degreeRatio = inDeg.join(outDeg, \"id\")\\\n",
    ".selectExpr(\"id\", \"double(inDegree)/double(outDegree) as degreeRatio\")\n",
    "\n",
    "# higher ratio provides rank where bike trips mostly end (but rarely start)\n",
    "degreeRatio.orderBy(desc(\"degreeRatio\")).show(10, False)\n",
    "\n",
    "# lower ratio provives rank where bike trips mostly start (but rarely end)\n",
    "degreeRatio.orderBy(\"degreeRatio\").show(10, False)"
   ]
  },
  {
   "cell_type": "markdown",
   "metadata": {},
   "source": [
    "### _Breadth-First Search Example_"
   ]
  },
  {
   "cell_type": "code",
   "execution_count": 18,
   "metadata": {},
   "outputs": [
    {
     "name": "stdout",
     "output_type": "stream",
     "text": [
      "+--------------------+--------------------+--------------------+\n",
      "|                from|                  e0|                  to|\n",
      "+--------------------+--------------------+--------------------+\n",
      "|[65, Townsend at ...|[913371, 663, 8/3...|[49, Spear at Fol...|\n",
      "|[65, Townsend at ...|[913265, 658, 8/3...|[49, Spear at Fol...|\n",
      "|[65, Townsend at ...|[911919, 722, 8/3...|[49, Spear at Fol...|\n",
      "|[65, Townsend at ...|[910777, 704, 8/2...|[49, Spear at Fol...|\n",
      "|[65, Townsend at ...|[908994, 1115, 8/...|[49, Spear at Fol...|\n",
      "|[65, Townsend at ...|[906912, 892, 8/2...|[49, Spear at Fol...|\n",
      "|[65, Townsend at ...|[905201, 980, 8/2...|[49, Spear at Fol...|\n",
      "|[65, Townsend at ...|[904010, 969, 8/2...|[49, Spear at Fol...|\n",
      "|[65, Townsend at ...|[903375, 850, 8/2...|[49, Spear at Fol...|\n",
      "|[65, Townsend at ...|[899944, 910, 8/2...|[49, Spear at Fol...|\n",
      "+--------------------+--------------------+--------------------+\n",
      "only showing top 10 rows\n",
      "\n",
      "Row(from=Row(station_id='65', id='Townsend at 7th', lat='37.771058', long='-122.402717', dockcount='15', landmark='San Francisco', installation='8/22/2013'), e0=Row(Trip ID='913371', Duration='663', Start Date='8/31/2015 20:10', src='Townsend at 7th', Start Terminal='65', End Date='8/31/2015 20:21', dst='Spear at Folsom', End Terminal='49', Bike #='405', Subscriber Type='Subscriber', Zip Code='94103'), to=Row(station_id='49', id='Spear at Folsom', lat='37.790302', long='-122.390637', dockcount='19', landmark='San Francisco', installation='8/20/2013'))\n"
     ]
    }
   ],
   "source": [
    "# searches graph for how to connect 2 sets of nodes via graph edges\n",
    "# paramters:\n",
    "    # maxPathLength - maximum edges to follow\n",
    "    # edgeFilter - filter out edges\n",
    "stationGraph.bfs(fromExpr=\"id = 'Townsend at 7th'\",\\\n",
    "                 toExpr=\"id = 'Spear at Folsom'\", maxPathLength=2).show(10)\n",
    "\n",
    "# type Row\n",
    "for i in stationGraph.bfs(fromExpr=\"id = 'Townsend at 7th'\",\\\n",
    "                 toExpr=\"id = 'Spear at Folsom'\", maxPathLength=2).take(1): print(i)"
   ]
  },
  {
   "cell_type": "markdown",
   "metadata": {},
   "source": [
    "### _Connected Components Example_"
   ]
  },
  {
   "cell_type": "code",
   "execution_count": 19,
   "metadata": {
    "collapsed": true
   },
   "outputs": [],
   "source": [
    "# defines an 'undirected' subgraph that has connections to itself but does not connect to the greater graph\n",
    "spark.sparkContext.setCheckpointDir(\"/Users/grp/sparkTheDefinitiveGuide/tmp/checkpointCC\")\n",
    "\n",
    "minGraph = GraphFrame(stationVertices, tripEdges.sample(False, 0.1))\n",
    "cc = minGraph.connectedComponents()"
   ]
  },
  {
   "cell_type": "code",
   "execution_count": 20,
   "metadata": {},
   "outputs": [
    {
     "name": "stdout",
     "output_type": "stream",
     "text": [
      "+----------+--------------------+---------+-----------+---------+-------------+------------+----------+\n",
      "|station_id|                  id|      lat|       long|dockcount|     landmark|installation| component|\n",
      "+----------+--------------------+---------+-----------+---------+-------------+------------+----------+\n",
      "|        33|Rengstorff Avenue...|37.400241|-122.099076|       15|Mountain View|   8/16/2013|8589934592|\n",
      "|        25|Stanford in Redwo...| 37.48537|-122.203288|       15| Redwood City|   8/12/2013|8589934592|\n",
      "|        84|         Ryland Park|37.342725|-121.895617|       15|     San Jose|    4/9/2014|8589934592|\n",
      "+----------+--------------------+---------+-----------+---------+-------------+------------+----------+\n",
      "only showing top 3 rows\n",
      "\n"
     ]
    }
   ],
   "source": [
    "cc.where(\"component != 0\").show(3)"
   ]
  },
  {
   "cell_type": "markdown",
   "metadata": {},
   "source": [
    "### _Strongly Connected Components Example_"
   ]
  },
  {
   "cell_type": "code",
   "execution_count": 21,
   "metadata": {},
   "outputs": [
    {
     "name": "stdout",
     "output_type": "stream",
     "text": [
      "+------------+-----+\n",
      "|   component|count|\n",
      "+------------+-----+\n",
      "|128849018880|   16|\n",
      "|  8589934592|   19|\n",
      "|           0|   33|\n",
      "+------------+-----+\n",
      "only showing top 3 rows\n",
      "\n"
     ]
    }
   ],
   "source": [
    "# takes directionality into account\n",
    "# subgraph that has paths between all pairs of vertices inside it\n",
    "scc = minGraph.stronglyConnectedComponents(maxIter=3)\n",
    "scc.groupBy(\"component\").count().show(3)"
   ]
  },
  {
   "cell_type": "markdown",
   "metadata": {},
   "source": [
    "### grp"
   ]
  }
 ],
 "metadata": {
  "kernelspec": {
   "display_name": "Python 3",
   "language": "python",
   "name": "python3"
  },
  "language_info": {
   "codemirror_mode": {
    "name": "ipython",
    "version": 3
   },
   "file_extension": ".py",
   "mimetype": "text/x-python",
   "name": "python",
   "nbconvert_exporter": "python",
   "pygments_lexer": "ipython3",
   "version": "3.6.3"
  }
 },
 "nbformat": 4,
 "nbformat_minor": 2
}
